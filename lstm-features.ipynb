{
 "cells": [
  {
   "cell_type": "code",
   "execution_count": 1,
   "metadata": {},
   "outputs": [],
   "source": [
    "import pandas as pd\n",
    "import numpy as np\n",
    "import keras\n",
    "from keras.models import Sequential\n",
    "from keras.layers import Dense, Conv1D, Flatten, MaxPooling1D, Embedding, GlobalMaxPooling1D, Dropout, Bidirectional, LSTM\n",
    "import feature_builder\n",
    "import util"
   ]
  },
  {
   "cell_type": "code",
   "execution_count": 2,
   "metadata": {},
   "outputs": [],
   "source": [
    "train_df = pd.read_csv('train.csv')\n",
    "test_df = pd.read_csv('test.csv')"
   ]
  },
  {
   "cell_type": "code",
   "execution_count": 3,
   "metadata": {},
   "outputs": [],
   "source": [
    "def prepare_for_cnn(df):\n",
    "    processed = feature_builder.process_dataset(df)\n",
    "    return processed.to_numpy().reshape(processed.shape[0], 1, processed.shape[1])"
   ]
  },
  {
   "cell_type": "code",
   "execution_count": 4,
   "metadata": {},
   "outputs": [],
   "source": [
    "X_train = prepare_for_cnn(train_df)\n",
    "y_train = train_df['target'].values"
   ]
  },
  {
   "cell_type": "markdown",
   "metadata": {},
   "source": [
    "Armo el RNN sin el Embedding, pero le pongo el input shape"
   ]
  },
  {
   "cell_type": "code",
   "execution_count": 5,
   "metadata": {},
   "outputs": [],
   "source": [
    "def RNN():\n",
    "    model = Sequential([\n",
    "        Bidirectional(LSTM(64, return_sequences=True), input_shape=(X_train.shape[1], X_train.shape[2])),\n",
    "        Bidirectional(LSTM(32)),\n",
    "        Dense(64, activation='relu'),\n",
    "        Dropout(0.5),\n",
    "        Dense(1)\n",
    "    ])\n",
    "    return model"
   ]
  },
  {
   "cell_type": "markdown",
   "metadata": {},
   "source": [
    "Compilo ni modelo"
   ]
  },
  {
   "cell_type": "code",
   "execution_count": 16,
   "metadata": {},
   "outputs": [
    {
     "name": "stdout",
     "output_type": "stream",
     "text": [
      "Model: \"sequential_3\"\n",
      "_________________________________________________________________\n",
      "Layer (type)                 Output Shape              Param #   \n",
      "=================================================================\n",
      "bidirectional_6 (Bidirection (None, 1, 128)            193024    \n",
      "_________________________________________________________________\n",
      "bidirectional_7 (Bidirection (None, 64)                41216     \n",
      "_________________________________________________________________\n",
      "dense_6 (Dense)              (None, 64)                4160      \n",
      "_________________________________________________________________\n",
      "dropout_3 (Dropout)          (None, 64)                0         \n",
      "_________________________________________________________________\n",
      "dense_7 (Dense)              (None, 1)                 65        \n",
      "=================================================================\n",
      "Total params: 238,465\n",
      "Trainable params: 238,465\n",
      "Non-trainable params: 0\n",
      "_________________________________________________________________\n"
     ]
    }
   ],
   "source": [
    "model = RNN()\n",
    "model.summary()\n",
    "model.compile(loss=keras.losses.BinaryCrossentropy(from_logits=True),\n",
    "              optimizer=keras.optimizers.Adam(1e-4),\n",
    "              metrics=['accuracy'])"
   ]
  },
  {
   "cell_type": "markdown",
   "metadata": {},
   "source": [
    "Entrenamos"
   ]
  },
  {
   "cell_type": "code",
   "execution_count": 17,
   "metadata": {},
   "outputs": [
    {
     "name": "stdout",
     "output_type": "stream",
     "text": [
      "Epoch 1/30\n",
      "215/215 [==============================] - 3s 14ms/step - loss: 0.6743 - accuracy: 0.5744 - val_loss: 0.6615 - val_accuracy: 0.5341\n",
      "Epoch 2/30\n",
      "215/215 [==============================] - 1s 4ms/step - loss: 0.6442 - accuracy: 0.5745 - val_loss: 0.6242 - val_accuracy: 0.5341\n",
      "Epoch 3/30\n",
      "215/215 [==============================] - 1s 5ms/step - loss: 0.6126 - accuracy: 0.6028 - val_loss: 0.5979 - val_accuracy: 0.6181\n",
      "Epoch 4/30\n",
      "215/215 [==============================] - 1s 5ms/step - loss: 0.5942 - accuracy: 0.6399 - val_loss: 0.5739 - val_accuracy: 0.7087\n",
      "Epoch 5/30\n",
      "215/215 [==============================] - 1s 4ms/step - loss: 0.5698 - accuracy: 0.6742 - val_loss: 0.5472 - val_accuracy: 0.7257\n",
      "Epoch 6/30\n",
      "215/215 [==============================] - 1s 4ms/step - loss: 0.5447 - accuracy: 0.7157 - val_loss: 0.5190 - val_accuracy: 0.7585\n",
      "Epoch 7/30\n",
      "215/215 [==============================] - 1s 4ms/step - loss: 0.5237 - accuracy: 0.7408 - val_loss: 0.4986 - val_accuracy: 0.7717\n",
      "Epoch 8/30\n",
      "215/215 [==============================] - 1s 4ms/step - loss: 0.5066 - accuracy: 0.7510 - val_loss: 0.4810 - val_accuracy: 0.7717\n",
      "Epoch 9/30\n",
      "215/215 [==============================] - 1s 4ms/step - loss: 0.4915 - accuracy: 0.7675 - val_loss: 0.4755 - val_accuracy: 0.7638\n",
      "Epoch 10/30\n",
      "215/215 [==============================] - 1s 4ms/step - loss: 0.4748 - accuracy: 0.7806 - val_loss: 0.4662 - val_accuracy: 0.7940\n",
      "Epoch 11/30\n",
      "215/215 [==============================] - 1s 4ms/step - loss: 0.4693 - accuracy: 0.7816 - val_loss: 0.4517 - val_accuracy: 0.7900\n",
      "Epoch 12/30\n",
      "215/215 [==============================] - 1s 4ms/step - loss: 0.4568 - accuracy: 0.7919 - val_loss: 0.4441 - val_accuracy: 0.7953\n",
      "Epoch 13/30\n",
      "215/215 [==============================] - 1s 4ms/step - loss: 0.4508 - accuracy: 0.7907 - val_loss: 0.4452 - val_accuracy: 0.7992\n",
      "Epoch 14/30\n",
      "215/215 [==============================] - 1s 4ms/step - loss: 0.4462 - accuracy: 0.7981 - val_loss: 0.4412 - val_accuracy: 0.7966\n",
      "Epoch 15/30\n",
      "215/215 [==============================] - 1s 4ms/step - loss: 0.4433 - accuracy: 0.7996 - val_loss: 0.4296 - val_accuracy: 0.8031\n",
      "Epoch 16/30\n",
      "215/215 [==============================] - 1s 4ms/step - loss: 0.4394 - accuracy: 0.8024 - val_loss: 0.4276 - val_accuracy: 0.7913\n",
      "Epoch 17/30\n",
      "215/215 [==============================] - 1s 4ms/step - loss: 0.4381 - accuracy: 0.8031 - val_loss: 0.4246 - val_accuracy: 0.8071\n",
      "Epoch 18/30\n",
      "215/215 [==============================] - 1s 4ms/step - loss: 0.4294 - accuracy: 0.8095 - val_loss: 0.4283 - val_accuracy: 0.7992\n",
      "Epoch 19/30\n",
      "215/215 [==============================] - 1s 4ms/step - loss: 0.4278 - accuracy: 0.8098 - val_loss: 0.4251 - val_accuracy: 0.8136\n",
      "Epoch 20/30\n",
      "215/215 [==============================] - 1s 4ms/step - loss: 0.4245 - accuracy: 0.8082 - val_loss: 0.4216 - val_accuracy: 0.7992\n",
      "Epoch 21/30\n",
      "215/215 [==============================] - 1s 4ms/step - loss: 0.4265 - accuracy: 0.8108 - val_loss: 0.4175 - val_accuracy: 0.7992\n",
      "Epoch 22/30\n",
      "215/215 [==============================] - 1s 4ms/step - loss: 0.4191 - accuracy: 0.8133 - val_loss: 0.4164 - val_accuracy: 0.8255\n",
      "Epoch 23/30\n",
      "215/215 [==============================] - 1s 4ms/step - loss: 0.4157 - accuracy: 0.8199 - val_loss: 0.4163 - val_accuracy: 0.8136\n",
      "Epoch 24/30\n",
      "215/215 [==============================] - 1s 4ms/step - loss: 0.4157 - accuracy: 0.8168 - val_loss: 0.4144 - val_accuracy: 0.8176\n",
      "Epoch 25/30\n",
      "215/215 [==============================] - 1s 4ms/step - loss: 0.4136 - accuracy: 0.8196 - val_loss: 0.4112 - val_accuracy: 0.8136\n",
      "Epoch 26/30\n",
      "215/215 [==============================] - 1s 4ms/step - loss: 0.4132 - accuracy: 0.8175 - val_loss: 0.4142 - val_accuracy: 0.8150\n",
      "Epoch 27/30\n",
      "215/215 [==============================] - 1s 4ms/step - loss: 0.4112 - accuracy: 0.8173 - val_loss: 0.4222 - val_accuracy: 0.7979\n",
      "Epoch 28/30\n",
      "215/215 [==============================] - 1s 4ms/step - loss: 0.4116 - accuracy: 0.8196 - val_loss: 0.4120 - val_accuracy: 0.8084\n",
      "Epoch 29/30\n",
      "215/215 [==============================] - 1s 4ms/step - loss: 0.4121 - accuracy: 0.8175 - val_loss: 0.4182 - val_accuracy: 0.8005\n",
      "Epoch 30/30\n",
      "215/215 [==============================] - 1s 4ms/step - loss: 0.4041 - accuracy: 0.8221 - val_loss: 0.4149 - val_accuracy: 0.8176\n"
     ]
    },
    {
     "data": {
      "image/png": "[encoded data removed]",
      "text/plain": [
       "<Figure size 864x360 with 2 Axes>"
      ]
     },
     "metadata": {},
     "output_type": "display_data"
    }
   ],
   "source": [
    "history = model.fit(X_train, y_train, epochs=30, shuffle=True, validation_split=0.1)\n",
    "util.plot_history(history)"
   ]
  },
  {
   "cell_type": "code",
   "execution_count": 18,
   "metadata": {},
   "outputs": [
    {
     "data": {
      "text/html": [
       "<div>\n",
       "<style scoped>\n",
       "    .dataframe tbody tr th:only-of-type {\n",
       "        vertical-align: middle;\n",
       "    }\n",
       "\n",
       "    .dataframe tbody tr th {\n",
       "        vertical-align: top;\n",
       "    }\n",
       "\n",
       "    .dataframe thead th {\n",
       "        text-align: right;\n",
       "    }\n",
       "</style>\n",
       "<table border=\"1\" class=\"dataframe\">\n",
       "  <thead>\n",
       "    <tr style=\"text-align: right;\">\n",
       "      <th></th>\n",
       "      <th>target</th>\n",
       "    </tr>\n",
       "    <tr>\n",
       "      <th>id</th>\n",
       "      <th></th>\n",
       "    </tr>\n",
       "  </thead>\n",
       "  <tbody>\n",
       "    <tr>\n",
       "      <th>0</th>\n",
       "      <td>1</td>\n",
       "    </tr>\n",
       "    <tr>\n",
       "      <th>2</th>\n",
       "      <td>1</td>\n",
       "    </tr>\n",
       "    <tr>\n",
       "      <th>3</th>\n",
       "      <td>1</td>\n",
       "    </tr>\n",
       "    <tr>\n",
       "      <th>9</th>\n",
       "      <td>1</td>\n",
       "    </tr>\n",
       "    <tr>\n",
       "      <th>11</th>\n",
       "      <td>1</td>\n",
       "    </tr>\n",
       "    <tr>\n",
       "      <th>...</th>\n",
       "      <td>...</td>\n",
       "    </tr>\n",
       "    <tr>\n",
       "      <th>10861</th>\n",
       "      <td>1</td>\n",
       "    </tr>\n",
       "    <tr>\n",
       "      <th>10865</th>\n",
       "      <td>1</td>\n",
       "    </tr>\n",
       "    <tr>\n",
       "      <th>10868</th>\n",
       "      <td>1</td>\n",
       "    </tr>\n",
       "    <tr>\n",
       "      <th>10874</th>\n",
       "      <td>1</td>\n",
       "    </tr>\n",
       "    <tr>\n",
       "      <th>10875</th>\n",
       "      <td>0</td>\n",
       "    </tr>\n",
       "  </tbody>\n",
       "</table>\n",
       "<p>3263 rows × 1 columns</p>\n",
       "</div>"
      ],
      "text/plain": [
       "       target\n",
       "id           \n",
       "0           1\n",
       "2           1\n",
       "3           1\n",
       "9           1\n",
       "11          1\n",
       "...       ...\n",
       "10861       1\n",
       "10865       1\n",
       "10868       1\n",
       "10874       1\n",
       "10875       0\n",
       "\n",
       "[3263 rows x 1 columns]"
      ]
     },
     "execution_count": 18,
     "metadata": {},
     "output_type": "execute_result"
    }
   ],
   "source": [
    "ids = test_df['id']\n",
    "\n",
    "final_test = prepare_for_cnn(test_df)\n",
    "prediction = model.predict_classes(final_test)\n",
    "\n",
    "final_df = pd.DataFrame({'target': [x[0] for x in prediction]}, index=ids)\n",
    "final_df"
   ]
  },
  {
   "cell_type": "code",
   "execution_count": 19,
   "metadata": {},
   "outputs": [],
   "source": [
    "final_df.to_csv('lstm.csv')"
   ]
  },
  {
   "cell_type": "code",
   "execution_count": null,
   "metadata": {},
   "outputs": [],
   "source": []
  }
 ],
 "metadata": {
  "kernelspec": {
   "display_name": "Python 3",
   "language": "python",
   "name": "python3"
  },
  "language_info": {
   "codemirror_mode": {
    "name": "ipython",
    "version": 3
   },
   "file_extension": ".py",
   "mimetype": "text/x-python",
   "name": "python",
   "nbconvert_exporter": "python",
   "pygments_lexer": "ipython3",
   "version": "3.7.8"
  }
 },
 "nbformat": 4,
 "nbformat_minor": 4
}
