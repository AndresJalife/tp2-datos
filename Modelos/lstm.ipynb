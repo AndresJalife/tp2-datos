{
 "cells": [
  {
   "cell_type": "code",
   "execution_count": 1,
   "metadata": {},
   "outputs": [],
   "source": [
    "import sys\n",
    "sys.path.insert(1, '../FeatureEngineering')\n",
    "\n",
    "import pandas as pd\n",
    "import numpy as np\n",
    "import tensorflow as tf\n",
    "import seaborn as sns\n",
    "import matplotlib.pyplot as plt\n",
    "from keras.preprocessing import sequence\n",
    "from tensorflow import keras\n",
    "from tensorflow.keras import layers\n",
    "from gensim.models import KeyedVectors\n",
    "from keras.preprocessing.text import Tokenizer\n",
    "from keras.models import Sequential\n",
    "from sklearn.model_selection import train_test_split\n",
    "from sklearn.metrics import accuracy_score\n",
    "from keras.models import Model"
   ]
  },
  {
   "cell_type": "markdown",
   "metadata": {},
   "source": [
    "Cargo datasets, grafico nomas para ver cuantos hay de Verdaderos y Falsos"
   ]
  },
  {
   "cell_type": "code",
   "execution_count": 3,
   "metadata": {},
   "outputs": [
    {
     "data": {
      "text/plain": [
       "Text(0.5, 1.0, 'Falsos / Verdaderos')"
      ]
     },
     "execution_count": 3,
     "metadata": {},
     "output_type": "execute_result"
    },
    {
     "data": {
      "image/png": "[encoded data removed]",
      "text/plain": [
       "<Figure size 432x288 with 1 Axes>"
      ]
     },
     "metadata": {
      "needs_background": "light"
     },
     "output_type": "display_data"
    }
   ],
   "source": [
    "train_df = pd.read_csv('train.csv')\n",
    "test_df = pd.read_csv('test.csv')\n",
    "sns.countplot(train_df['target'])\n",
    "plt.xlabel('Target')\n",
    "plt.title('Falsos / Verdaderos')"
   ]
  },
  {
   "cell_type": "code",
   "execution_count": 4,
   "metadata": {},
   "outputs": [],
   "source": [
    "X = train_df['text']\n",
    "Y = train_df['target']"
   ]
  },
  {
   "cell_type": "markdown",
   "metadata": {},
   "source": [
    "Hago split para testear accuracy"
   ]
  },
  {
   "cell_type": "code",
   "execution_count": 5,
   "metadata": {},
   "outputs": [],
   "source": [
    "X_train,X_test,Y_train,Y_test = train_test_split(X.values,Y.values,test_size=0.33,random_state = 17)"
   ]
  },
  {
   "cell_type": "code",
   "execution_count": 6,
   "metadata": {},
   "outputs": [],
   "source": [
    "max_words = 1000\n",
    "max_len = 150\n",
    "tok = Tokenizer(max_words)\n",
    "tok.fit_on_texts(X_train)\n",
    "sequences = tok.texts_to_sequences(X_train)\n",
    "sequences_matrix = sequence.pad_sequences(sequences,maxlen=max_len)"
   ]
  },
  {
   "cell_type": "code",
   "execution_count": 7,
   "metadata": {},
   "outputs": [],
   "source": [
    "def RNN():\n",
    "    model = Sequential([\n",
    "    tf.keras.layers.Embedding(max_words, 64),\n",
    "    tf.keras.layers.Bidirectional(tf.keras.layers.LSTM(64)),\n",
    "    tf.keras.layers.Dense(64, activation='relu'),\n",
    "    tf.keras.layers.Dense(1)])\n",
    "    return model\n",
    "    "
   ]
  },
  {
   "cell_type": "code",
   "execution_count": 8,
   "metadata": {},
   "outputs": [
    {
     "name": "stdout",
     "output_type": "stream",
     "text": [
      "Model: \"sequential\"\n",
      "_________________________________________________________________\n",
      "Layer (type)                 Output Shape              Param #   \n",
      "=================================================================\n",
      "embedding (Embedding)        (None, None, 64)          64000     \n",
      "_________________________________________________________________\n",
      "bidirectional (Bidirectional (None, 128)               66048     \n",
      "_________________________________________________________________\n",
      "dense (Dense)                (None, 64)                8256      \n",
      "_________________________________________________________________\n",
      "dense_1 (Dense)              (None, 1)                 65        \n",
      "=================================================================\n",
      "Total params: 138,369\n",
      "Trainable params: 138,369\n",
      "Non-trainable params: 0\n",
      "_________________________________________________________________\n"
     ]
    }
   ],
   "source": [
    "model = RNN()\n",
    "model.summary()\n",
    "model.compile(loss=tf.keras.losses.BinaryCrossentropy(from_logits=True),\n",
    "              optimizer=tf.keras.optimizers.Adam(1e-4),\n",
    "              metrics=['accuracy'])"
   ]
  },
  {
   "cell_type": "code",
   "execution_count": 9,
   "metadata": {},
   "outputs": [
    {
     "name": "stdout",
     "output_type": "stream",
     "text": [
      "Epoch 1/20\n",
      "128/128 [==============================] - 28s 217ms/step - loss: 0.6787 - accuracy: 0.5809 - val_loss: 0.6960 - val_accuracy: 0.5265\n",
      "Epoch 2/20\n",
      "128/128 [==============================] - 26s 205ms/step - loss: 0.6467 - accuracy: 0.5809 - val_loss: 0.6527 - val_accuracy: 0.5265\n",
      "Epoch 3/20\n",
      "128/128 [==============================] - 25s 196ms/step - loss: 0.5816 - accuracy: 0.6556 - val_loss: 0.5993 - val_accuracy: 0.6461\n",
      "Epoch 4/20\n",
      "128/128 [==============================] - 25s 192ms/step - loss: 0.4968 - accuracy: 0.7510 - val_loss: 0.5515 - val_accuracy: 0.7069\n",
      "Epoch 5/20\n",
      "128/128 [==============================] - 27s 209ms/step - loss: 0.4317 - accuracy: 0.7951 - val_loss: 0.5295 - val_accuracy: 0.7324\n",
      "Epoch 6/20\n",
      "128/128 [==============================] - 26s 204ms/step - loss: 0.4027 - accuracy: 0.8115 - val_loss: 0.5082 - val_accuracy: 0.7559\n",
      "Epoch 7/20\n",
      "128/128 [==============================] - 29s 224ms/step - loss: 0.3766 - accuracy: 0.8262 - val_loss: 0.5230 - val_accuracy: 0.7451\n",
      "Epoch 8/20\n",
      "128/128 [==============================] - 26s 206ms/step - loss: 0.3611 - accuracy: 0.8289 - val_loss: 0.5167 - val_accuracy: 0.7480\n",
      "Epoch 9/20\n",
      "128/128 [==============================] - 29s 225ms/step - loss: 0.3478 - accuracy: 0.8348 - val_loss: 0.5290 - val_accuracy: 0.7608\n",
      "Epoch 10/20\n",
      "128/128 [==============================] - 29s 228ms/step - loss: 0.3403 - accuracy: 0.8385 - val_loss: 0.5372 - val_accuracy: 0.7461\n",
      "Epoch 11/20\n",
      "128/128 [==============================] - 28s 220ms/step - loss: 0.3286 - accuracy: 0.8439 - val_loss: 0.5305 - val_accuracy: 0.7578\n",
      "Epoch 12/20\n",
      "128/128 [==============================] - 31s 239ms/step - loss: 0.3237 - accuracy: 0.8488 - val_loss: 0.5596 - val_accuracy: 0.7510\n",
      "Epoch 13/20\n",
      "128/128 [==============================] - 25s 196ms/step - loss: 0.3156 - accuracy: 0.8551 - val_loss: 0.5782 - val_accuracy: 0.7510\n",
      "Epoch 14/20\n",
      "128/128 [==============================] - 26s 205ms/step - loss: 0.3115 - accuracy: 0.8554 - val_loss: 0.5822 - val_accuracy: 0.7490\n",
      "Epoch 15/20\n",
      "128/128 [==============================] - 26s 200ms/step - loss: 0.3071 - accuracy: 0.8581 - val_loss: 0.6097 - val_accuracy: 0.7480\n",
      "Epoch 16/20\n",
      "128/128 [==============================] - 25s 197ms/step - loss: 0.2988 - accuracy: 0.8627 - val_loss: 0.5922 - val_accuracy: 0.7529\n",
      "Epoch 17/20\n",
      "128/128 [==============================] - 26s 206ms/step - loss: 0.2983 - accuracy: 0.8654 - val_loss: 0.5951 - val_accuracy: 0.7598\n",
      "Epoch 18/20\n",
      "128/128 [==============================] - 27s 210ms/step - loss: 0.2944 - accuracy: 0.8706 - val_loss: 0.6194 - val_accuracy: 0.7520\n",
      "Epoch 19/20\n",
      "128/128 [==============================] - 26s 204ms/step - loss: 0.2898 - accuracy: 0.8689 - val_loss: 0.6306 - val_accuracy: 0.7520\n",
      "Epoch 20/20\n",
      "128/128 [==============================] - 26s 205ms/step - loss: 0.2859 - accuracy: 0.8725 - val_loss: 0.6489 - val_accuracy: 0.7490\n"
     ]
    },
    {
     "data": {
      "text/plain": [
       "<tensorflow.python.keras.callbacks.History at 0x7f02c0106550>"
      ]
     },
     "execution_count": 9,
     "metadata": {},
     "output_type": "execute_result"
    }
   ],
   "source": [
    "model.fit(sequences_matrix, Y_train, epochs=20, shuffle=True, validation_split=0.2)"
   ]
  },
  {
   "cell_type": "code",
   "execution_count": 10,
   "metadata": {},
   "outputs": [],
   "source": [
    "test_sequences = tok.texts_to_sequences(X_test)\n",
    "test_sequences_matrix = sequence.pad_sequences(test_sequences,maxlen=max_len)"
   ]
  },
  {
   "cell_type": "code",
   "execution_count": 11,
   "metadata": {},
   "outputs": [
    {
     "name": "stdout",
     "output_type": "stream",
     "text": [
      "79/79 [==============================] - 3s 37ms/step - loss: 0.5741 - accuracy: 0.7744\n"
     ]
    }
   ],
   "source": [
    "accr = model.evaluate(test_sequences_matrix,Y_test)"
   ]
  },
  {
   "cell_type": "code",
   "execution_count": 12,
   "metadata": {},
   "outputs": [
    {
     "name": "stdout",
     "output_type": "stream",
     "text": [
      "Test set\n",
      "  Loss: 0.574\n",
      "  Accuracy: 0.774\n"
     ]
    }
   ],
   "source": [
    "print('Test set\\n  Loss: {:0.3f}\\n  Accuracy: {:0.3f}'.format(accr[0],accr[1]))"
   ]
  }
 ],
 "metadata": {
  "kernelspec": {
   "display_name": "Python 3",
   "language": "python",
   "name": "python3"
  },
  "language_info": {
   "codemirror_mode": {
    "name": "ipython",
    "version": 3
   },
   "file_extension": ".py",
   "mimetype": "text/x-python",
   "name": "python",
   "nbconvert_exporter": "python",
   "pygments_lexer": "ipython3",
   "version": "3.7.6"
  }
 },
 "nbformat": 4,
 "nbformat_minor": 4
}
