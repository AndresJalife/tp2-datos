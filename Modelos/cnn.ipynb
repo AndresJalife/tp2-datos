{
 "cells": [
  {
   "cell_type": "code",
   "execution_count": 1,
   "metadata": {},
   "outputs": [],
   "source": [
    "import sys\n",
    "sys.path.insert(1, '../FeatureEngineering')\n",
    "\n",
    "import pandas as pd\n",
    "import numpy as np\n",
    "import keras\n",
    "from keras.models import Sequential\n",
    "from keras.layers import Dense, Conv1D, Flatten, MaxPooling1D, Embedding, GlobalMaxPooling1D, Dropout, Input\n",
    "import matplotlib.pyplot as plt\n",
    "from util import plot_history\n",
    "import util\n",
    "import feature_builder\n",
    "from sklearn.model_selection import train_test_split\n",
    "from sklearn.metrics import f1_score"
   ]
  },
  {
   "cell_type": "markdown",
   "metadata": {},
   "source": [
    "Cargo datasets"
   ]
  },
  {
   "cell_type": "code",
   "execution_count": 2,
   "metadata": {},
   "outputs": [],
   "source": [
    "train_df = pd.read_csv('train.csv')\n",
    "test_df = pd.read_csv('test.csv')"
   ]
  },
  {
   "cell_type": "markdown",
   "metadata": {},
   "source": [
    "Armo features con el feature_builder"
   ]
  },
  {
   "cell_type": "code",
   "execution_count": 3,
   "metadata": {},
   "outputs": [],
   "source": [
    "def prepare_for_cnn(df):\n",
    "    processed = feature_builder.process_dataset(\n",
    "        df,\n",
    "        encoding_type='binary',\n",
    "        text_type='embeddings',\n",
    "        use_manual_features=False,\n",
    "        use_spacy=True\n",
    "    )\n",
    "    to_numpy = processed.to_numpy()\n",
    "    to_numpy = to_numpy.reshape(processed.shape[0], processed.shape[1], 1)\n",
    "    return processed, to_numpy"
   ]
  },
  {
   "cell_type": "code",
   "execution_count": 4,
   "metadata": {},
   "outputs": [
    {
     "name": "stdout",
     "output_type": "stream",
     "text": [
      "Embeddings loaded!\n",
      "Percentage of words covered in the embeddings = 0.6336399642263958\n",
      "Embeddings loaded!\n",
      "Percentage of words covered in the embeddings = 0.5961027457927369\n",
      "Wall time: 2min 8s\n"
     ]
    }
   ],
   "source": [
    "%%time\n",
    "processed, train = prepare_for_cnn(train_df)\n",
    "train_target = train_df['target'].values"
   ]
  },
  {
   "cell_type": "code",
   "execution_count": 5,
   "metadata": {},
   "outputs": [
    {
     "data": {
      "text/html": [
       "<div>\n",
       "<style scoped>\n",
       "    .dataframe tbody tr th:only-of-type {\n",
       "        vertical-align: middle;\n",
       "    }\n",
       "\n",
       "    .dataframe tbody tr th {\n",
       "        vertical-align: top;\n",
       "    }\n",
       "\n",
       "    .dataframe thead th {\n",
       "        text-align: right;\n",
       "    }\n",
       "</style>\n",
       "<table border=\"1\" class=\"dataframe\">\n",
       "  <thead>\n",
       "    <tr style=\"text-align: right;\">\n",
       "      <th></th>\n",
       "      <th>spacy_text_embedding_0</th>\n",
       "      <th>spacy_text_embedding_1</th>\n",
       "      <th>spacy_text_embedding_2</th>\n",
       "      <th>spacy_text_embedding_3</th>\n",
       "      <th>spacy_text_embedding_4</th>\n",
       "      <th>spacy_text_embedding_5</th>\n",
       "      <th>spacy_text_embedding_6</th>\n",
       "      <th>spacy_text_embedding_7</th>\n",
       "      <th>spacy_text_embedding_8</th>\n",
       "      <th>spacy_text_embedding_9</th>\n",
       "      <th>...</th>\n",
       "      <th>text_embedding_298</th>\n",
       "      <th>text_embedding_299</th>\n",
       "      <th>c0</th>\n",
       "      <th>c1</th>\n",
       "      <th>c2</th>\n",
       "      <th>c3</th>\n",
       "      <th>c4</th>\n",
       "      <th>c5</th>\n",
       "      <th>c6</th>\n",
       "      <th>c7</th>\n",
       "    </tr>\n",
       "  </thead>\n",
       "  <tbody>\n",
       "    <tr>\n",
       "      <th>0</th>\n",
       "      <td>0.157756</td>\n",
       "      <td>0.075226</td>\n",
       "      <td>0.187012</td>\n",
       "      <td>0.126872</td>\n",
       "      <td>-0.039958</td>\n",
       "      <td>0.071513</td>\n",
       "      <td>0.184001</td>\n",
       "      <td>-0.030090</td>\n",
       "      <td>0.252848</td>\n",
       "      <td>0.202311</td>\n",
       "      <td>...</td>\n",
       "      <td>-0.020348</td>\n",
       "      <td>0.119019</td>\n",
       "      <td>0</td>\n",
       "      <td>0</td>\n",
       "      <td>0</td>\n",
       "      <td>0</td>\n",
       "      <td>0</td>\n",
       "      <td>0</td>\n",
       "      <td>0</td>\n",
       "      <td>0</td>\n",
       "    </tr>\n",
       "    <tr>\n",
       "      <th>1</th>\n",
       "      <td>0.055664</td>\n",
       "      <td>0.024200</td>\n",
       "      <td>-0.009262</td>\n",
       "      <td>0.085653</td>\n",
       "      <td>0.135091</td>\n",
       "      <td>0.004150</td>\n",
       "      <td>0.015259</td>\n",
       "      <td>-0.083923</td>\n",
       "      <td>-0.040029</td>\n",
       "      <td>0.008097</td>\n",
       "      <td>...</td>\n",
       "      <td>0.050014</td>\n",
       "      <td>0.039224</td>\n",
       "      <td>0</td>\n",
       "      <td>0</td>\n",
       "      <td>0</td>\n",
       "      <td>0</td>\n",
       "      <td>0</td>\n",
       "      <td>0</td>\n",
       "      <td>0</td>\n",
       "      <td>0</td>\n",
       "    </tr>\n",
       "    <tr>\n",
       "      <th>2</th>\n",
       "      <td>0.000875</td>\n",
       "      <td>0.013479</td>\n",
       "      <td>0.084412</td>\n",
       "      <td>-0.038966</td>\n",
       "      <td>-0.056183</td>\n",
       "      <td>-0.086884</td>\n",
       "      <td>0.025266</td>\n",
       "      <td>-0.009633</td>\n",
       "      <td>0.074320</td>\n",
       "      <td>0.000315</td>\n",
       "      <td>...</td>\n",
       "      <td>0.019644</td>\n",
       "      <td>-0.015137</td>\n",
       "      <td>0</td>\n",
       "      <td>0</td>\n",
       "      <td>0</td>\n",
       "      <td>0</td>\n",
       "      <td>0</td>\n",
       "      <td>0</td>\n",
       "      <td>0</td>\n",
       "      <td>0</td>\n",
       "    </tr>\n",
       "    <tr>\n",
       "      <th>3</th>\n",
       "      <td>0.172323</td>\n",
       "      <td>-0.095561</td>\n",
       "      <td>0.014506</td>\n",
       "      <td>0.212870</td>\n",
       "      <td>0.025777</td>\n",
       "      <td>-0.078011</td>\n",
       "      <td>-0.059733</td>\n",
       "      <td>-0.028809</td>\n",
       "      <td>0.003270</td>\n",
       "      <td>0.085978</td>\n",
       "      <td>...</td>\n",
       "      <td>-0.026367</td>\n",
       "      <td>-0.033366</td>\n",
       "      <td>0</td>\n",
       "      <td>0</td>\n",
       "      <td>0</td>\n",
       "      <td>0</td>\n",
       "      <td>0</td>\n",
       "      <td>0</td>\n",
       "      <td>0</td>\n",
       "      <td>0</td>\n",
       "    </tr>\n",
       "    <tr>\n",
       "      <th>4</th>\n",
       "      <td>0.067763</td>\n",
       "      <td>0.029093</td>\n",
       "      <td>-0.065877</td>\n",
       "      <td>0.077454</td>\n",
       "      <td>-0.015055</td>\n",
       "      <td>0.008104</td>\n",
       "      <td>0.022624</td>\n",
       "      <td>-0.162896</td>\n",
       "      <td>-0.033847</td>\n",
       "      <td>0.147298</td>\n",
       "      <td>...</td>\n",
       "      <td>0.030786</td>\n",
       "      <td>0.031708</td>\n",
       "      <td>0</td>\n",
       "      <td>0</td>\n",
       "      <td>0</td>\n",
       "      <td>0</td>\n",
       "      <td>0</td>\n",
       "      <td>0</td>\n",
       "      <td>0</td>\n",
       "      <td>0</td>\n",
       "    </tr>\n",
       "    <tr>\n",
       "      <th>...</th>\n",
       "      <td>...</td>\n",
       "      <td>...</td>\n",
       "      <td>...</td>\n",
       "      <td>...</td>\n",
       "      <td>...</td>\n",
       "      <td>...</td>\n",
       "      <td>...</td>\n",
       "      <td>...</td>\n",
       "      <td>...</td>\n",
       "      <td>...</td>\n",
       "      <td>...</td>\n",
       "      <td>...</td>\n",
       "      <td>...</td>\n",
       "      <td>...</td>\n",
       "      <td>...</td>\n",
       "      <td>...</td>\n",
       "      <td>...</td>\n",
       "      <td>...</td>\n",
       "      <td>...</td>\n",
       "      <td>...</td>\n",
       "      <td>...</td>\n",
       "    </tr>\n",
       "    <tr>\n",
       "      <th>7608</th>\n",
       "      <td>-0.032426</td>\n",
       "      <td>0.038549</td>\n",
       "      <td>-0.042503</td>\n",
       "      <td>0.041681</td>\n",
       "      <td>-0.027800</td>\n",
       "      <td>-0.032171</td>\n",
       "      <td>0.023923</td>\n",
       "      <td>-0.042744</td>\n",
       "      <td>0.169267</td>\n",
       "      <td>0.021212</td>\n",
       "      <td>...</td>\n",
       "      <td>-0.001657</td>\n",
       "      <td>-0.127274</td>\n",
       "      <td>0</td>\n",
       "      <td>0</td>\n",
       "      <td>0</td>\n",
       "      <td>0</td>\n",
       "      <td>0</td>\n",
       "      <td>0</td>\n",
       "      <td>0</td>\n",
       "      <td>0</td>\n",
       "    </tr>\n",
       "    <tr>\n",
       "      <th>7609</th>\n",
       "      <td>0.121609</td>\n",
       "      <td>0.031860</td>\n",
       "      <td>0.005450</td>\n",
       "      <td>0.029224</td>\n",
       "      <td>-0.004327</td>\n",
       "      <td>-0.073621</td>\n",
       "      <td>0.097827</td>\n",
       "      <td>-0.072827</td>\n",
       "      <td>-0.009570</td>\n",
       "      <td>0.133057</td>\n",
       "      <td>...</td>\n",
       "      <td>0.039574</td>\n",
       "      <td>-0.020186</td>\n",
       "      <td>0</td>\n",
       "      <td>0</td>\n",
       "      <td>0</td>\n",
       "      <td>0</td>\n",
       "      <td>0</td>\n",
       "      <td>0</td>\n",
       "      <td>0</td>\n",
       "      <td>0</td>\n",
       "    </tr>\n",
       "    <tr>\n",
       "      <th>7610</th>\n",
       "      <td>-0.067261</td>\n",
       "      <td>-0.031845</td>\n",
       "      <td>0.073174</td>\n",
       "      <td>0.130371</td>\n",
       "      <td>-0.019745</td>\n",
       "      <td>-0.018089</td>\n",
       "      <td>-0.091187</td>\n",
       "      <td>-0.173370</td>\n",
       "      <td>0.057335</td>\n",
       "      <td>0.054550</td>\n",
       "      <td>...</td>\n",
       "      <td>0.089233</td>\n",
       "      <td>0.258301</td>\n",
       "      <td>0</td>\n",
       "      <td>0</td>\n",
       "      <td>0</td>\n",
       "      <td>0</td>\n",
       "      <td>0</td>\n",
       "      <td>0</td>\n",
       "      <td>0</td>\n",
       "      <td>0</td>\n",
       "    </tr>\n",
       "    <tr>\n",
       "      <th>7611</th>\n",
       "      <td>0.029703</td>\n",
       "      <td>0.041425</td>\n",
       "      <td>0.031236</td>\n",
       "      <td>-0.016243</td>\n",
       "      <td>-0.043529</td>\n",
       "      <td>0.013047</td>\n",
       "      <td>0.048455</td>\n",
       "      <td>-0.075612</td>\n",
       "      <td>0.010319</td>\n",
       "      <td>0.097200</td>\n",
       "      <td>...</td>\n",
       "      <td>0.018721</td>\n",
       "      <td>-0.048802</td>\n",
       "      <td>0</td>\n",
       "      <td>0</td>\n",
       "      <td>0</td>\n",
       "      <td>0</td>\n",
       "      <td>0</td>\n",
       "      <td>0</td>\n",
       "      <td>0</td>\n",
       "      <td>0</td>\n",
       "    </tr>\n",
       "    <tr>\n",
       "      <th>7612</th>\n",
       "      <td>0.128391</td>\n",
       "      <td>-0.091359</td>\n",
       "      <td>0.010864</td>\n",
       "      <td>0.054213</td>\n",
       "      <td>0.009915</td>\n",
       "      <td>-0.030273</td>\n",
       "      <td>0.022132</td>\n",
       "      <td>-0.116533</td>\n",
       "      <td>0.073730</td>\n",
       "      <td>0.098484</td>\n",
       "      <td>...</td>\n",
       "      <td>0.059473</td>\n",
       "      <td>-0.025171</td>\n",
       "      <td>0</td>\n",
       "      <td>0</td>\n",
       "      <td>0</td>\n",
       "      <td>0</td>\n",
       "      <td>0</td>\n",
       "      <td>0</td>\n",
       "      <td>0</td>\n",
       "      <td>0</td>\n",
       "    </tr>\n",
       "  </tbody>\n",
       "</table>\n",
       "<p>7613 rows × 608 columns</p>\n",
       "</div>"
      ],
      "text/plain": [
       "      spacy_text_embedding_0  spacy_text_embedding_1  spacy_text_embedding_2  \\\n",
       "0                   0.157756                0.075226                0.187012   \n",
       "1                   0.055664                0.024200               -0.009262   \n",
       "2                   0.000875                0.013479                0.084412   \n",
       "3                   0.172323               -0.095561                0.014506   \n",
       "4                   0.067763                0.029093               -0.065877   \n",
       "...                      ...                     ...                     ...   \n",
       "7608               -0.032426                0.038549               -0.042503   \n",
       "7609                0.121609                0.031860                0.005450   \n",
       "7610               -0.067261               -0.031845                0.073174   \n",
       "7611                0.029703                0.041425                0.031236   \n",
       "7612                0.128391               -0.091359                0.010864   \n",
       "\n",
       "      spacy_text_embedding_3  spacy_text_embedding_4  spacy_text_embedding_5  \\\n",
       "0                   0.126872               -0.039958                0.071513   \n",
       "1                   0.085653                0.135091                0.004150   \n",
       "2                  -0.038966               -0.056183               -0.086884   \n",
       "3                   0.212870                0.025777               -0.078011   \n",
       "4                   0.077454               -0.015055                0.008104   \n",
       "...                      ...                     ...                     ...   \n",
       "7608                0.041681               -0.027800               -0.032171   \n",
       "7609                0.029224               -0.004327               -0.073621   \n",
       "7610                0.130371               -0.019745               -0.018089   \n",
       "7611               -0.016243               -0.043529                0.013047   \n",
       "7612                0.054213                0.009915               -0.030273   \n",
       "\n",
       "      spacy_text_embedding_6  spacy_text_embedding_7  spacy_text_embedding_8  \\\n",
       "0                   0.184001               -0.030090                0.252848   \n",
       "1                   0.015259               -0.083923               -0.040029   \n",
       "2                   0.025266               -0.009633                0.074320   \n",
       "3                  -0.059733               -0.028809                0.003270   \n",
       "4                   0.022624               -0.162896               -0.033847   \n",
       "...                      ...                     ...                     ...   \n",
       "7608                0.023923               -0.042744                0.169267   \n",
       "7609                0.097827               -0.072827               -0.009570   \n",
       "7610               -0.091187               -0.173370                0.057335   \n",
       "7611                0.048455               -0.075612                0.010319   \n",
       "7612                0.022132               -0.116533                0.073730   \n",
       "\n",
       "      spacy_text_embedding_9  ...  text_embedding_298  text_embedding_299  c0  \\\n",
       "0                   0.202311  ...           -0.020348            0.119019   0   \n",
       "1                   0.008097  ...            0.050014            0.039224   0   \n",
       "2                   0.000315  ...            0.019644           -0.015137   0   \n",
       "3                   0.085978  ...           -0.026367           -0.033366   0   \n",
       "4                   0.147298  ...            0.030786            0.031708   0   \n",
       "...                      ...  ...                 ...                 ...  ..   \n",
       "7608                0.021212  ...           -0.001657           -0.127274   0   \n",
       "7609                0.133057  ...            0.039574           -0.020186   0   \n",
       "7610                0.054550  ...            0.089233            0.258301   0   \n",
       "7611                0.097200  ...            0.018721           -0.048802   0   \n",
       "7612                0.098484  ...            0.059473           -0.025171   0   \n",
       "\n",
       "      c1  c2  c3  c4  c5  c6  c7  \n",
       "0      0   0   0   0   0   0   0  \n",
       "1      0   0   0   0   0   0   0  \n",
       "2      0   0   0   0   0   0   0  \n",
       "3      0   0   0   0   0   0   0  \n",
       "4      0   0   0   0   0   0   0  \n",
       "...   ..  ..  ..  ..  ..  ..  ..  \n",
       "7608   0   0   0   0   0   0   0  \n",
       "7609   0   0   0   0   0   0   0  \n",
       "7610   0   0   0   0   0   0   0  \n",
       "7611   0   0   0   0   0   0   0  \n",
       "7612   0   0   0   0   0   0   0  \n",
       "\n",
       "[7613 rows x 608 columns]"
      ]
     },
     "execution_count": 5,
     "metadata": {},
     "output_type": "execute_result"
    }
   ],
   "source": [
    "processed"
   ]
  },
  {
   "cell_type": "code",
   "execution_count": 6,
   "metadata": {},
   "outputs": [],
   "source": [
    "X_train, X_pred, y_train, y_pred = train_test_split(train, train_target, test_size=0.33, random_state=42)"
   ]
  },
  {
   "cell_type": "code",
   "execution_count": 7,
   "metadata": {},
   "outputs": [
    {
     "data": {
      "text/plain": [
       "(5100, 608, 1)"
      ]
     },
     "execution_count": 7,
     "metadata": {},
     "output_type": "execute_result"
    }
   ],
   "source": [
    "X_train.shape"
   ]
  },
  {
   "cell_type": "code",
   "execution_count": 8,
   "metadata": {},
   "outputs": [
    {
     "data": {
      "text/plain": [
       "(2513, 608, 1)"
      ]
     },
     "execution_count": 8,
     "metadata": {},
     "output_type": "execute_result"
    }
   ],
   "source": [
    "X_pred.shape"
   ]
  },
  {
   "cell_type": "markdown",
   "metadata": {},
   "source": [
    "Creo el modelo y corro la CNN"
   ]
  },
  {
   "cell_type": "code",
   "execution_count": 9,
   "metadata": {},
   "outputs": [],
   "source": [
    "def create_model(filters, kernel_sizes, pool_sizes, units, cnn_layers, dense_layers):\n",
    "    model = Sequential()\n",
    "    model.add(Input(shape=(X_train.shape[1], X_train.shape[2])))\n",
    "    \n",
    "    for i in range(cnn_layers):\n",
    "        model.add(Conv1D(filters=filters[i], kernel_size=kernel_sizes[i], activation='relu'))\n",
    "    model.add(MaxPooling1D(2))#pool_sizes[i]))\n",
    "\n",
    "    model.add(Flatten())\n",
    "    \n",
    "    for i in range(dense_layers):\n",
    "        model.add(Dense(units[i], activation='relu'))\n",
    "\n",
    "    model.add(Dropout(0.5))\n",
    "    model.add(Dense(1, activation='sigmoid'))\n",
    "    model.compile(loss='binary_crossentropy', optimizer=keras.optimizers.Adam(1e-4), metrics=['accuracy'])\n",
    "    return model"
   ]
  },
  {
   "cell_type": "code",
   "execution_count": 10,
   "metadata": {},
   "outputs": [],
   "source": [
    "filters=[32,32,64]\n",
    "kernel_size=[3,3,3]\n",
    "pool_sizes=[2,2,2]\n",
    "units=[64]\n",
    "cnn_layers=3\n",
    "dense_layers=1"
   ]
  },
  {
   "cell_type": "code",
   "execution_count": 11,
   "metadata": {},
   "outputs": [],
   "source": [
    "filters=[64]\n",
    "kernel_size=[3]\n",
    "pool_sizes=[2]\n",
    "units=[32]\n",
    "cnn_layers=1\n",
    "dense_layers=1"
   ]
  },
  {
   "cell_type": "code",
   "execution_count": 12,
   "metadata": {},
   "outputs": [],
   "source": [
    "#acc = 0.8\n",
    "filters=[128,128]\n",
    "kernel_size=[3,3,3]\n",
    "pool_sizes=[2,2,2]\n",
    "units=[32, 32]\n",
    "cnn_layers=2\n",
    "dense_layers=2"
   ]
  },
  {
   "cell_type": "code",
   "execution_count": 13,
   "metadata": {},
   "outputs": [],
   "source": [
    "#acc = 0.80 cleaner\n",
    "filters=[128,128,128]\n",
    "kernel_size=[3,4,5]\n",
    "pool_sizes=[2,2,2]\n",
    "units=[64,64,64]\n",
    "cnn_layers=3\n",
    "dense_layers=3"
   ]
  },
  {
   "cell_type": "code",
   "execution_count": 15,
   "metadata": {},
   "outputs": [
    {
     "name": "stdout",
     "output_type": "stream",
     "text": [
      "Epoch 1/12\n",
      "160/160 [==============================] - 29s 183ms/step - loss: 0.6545 - accuracy: 0.6080 - val_loss: 0.5267 - val_accuracy: 0.7935\n",
      "Epoch 2/12\n",
      "160/160 [==============================] - 31s 196ms/step - loss: 0.5178 - accuracy: 0.7661 - val_loss: 0.4597 - val_accuracy: 0.8102\n",
      "Epoch 3/12\n",
      "160/160 [==============================] - 29s 179ms/step - loss: 0.4759 - accuracy: 0.7912 - val_loss: 0.4331 - val_accuracy: 0.8177\n",
      "Epoch 4/12\n",
      "160/160 [==============================] - 28s 173ms/step - loss: 0.4581 - accuracy: 0.8063 - val_loss: 0.4241 - val_accuracy: 0.8225\n",
      "Epoch 5/12\n",
      "160/160 [==============================] - 28s 177ms/step - loss: 0.4392 - accuracy: 0.8157 - val_loss: 0.4177 - val_accuracy: 0.8245\n",
      "Epoch 6/12\n",
      "160/160 [==============================] - 28s 175ms/step - loss: 0.4223 - accuracy: 0.8188 - val_loss: 0.4137 - val_accuracy: 0.8253\n",
      "Epoch 7/12\n",
      "160/160 [==============================] - 28s 176ms/step - loss: 0.4103 - accuracy: 0.8290 - val_loss: 0.4133 - val_accuracy: 0.8245\n",
      "Epoch 8/12\n",
      "160/160 [==============================] - 29s 183ms/step - loss: 0.4034 - accuracy: 0.8343 - val_loss: 0.4142 - val_accuracy: 0.8237\n",
      "Epoch 9/12\n",
      "160/160 [==============================] - 28s 176ms/step - loss: 0.3812 - accuracy: 0.8475 - val_loss: 0.4164 - val_accuracy: 0.8162\n"
     ]
    },
    {
     "data": {
      "image/png": "[encoded data removed]",
      "text/plain": [
       "<Figure size 864x360 with 2 Axes>"
      ]
     },
     "metadata": {},
     "output_type": "display_data"
    }
   ],
   "source": [
    "model = create_model(\n",
    "    filters=filters,\n",
    "    kernel_sizes=kernel_size,\n",
    "    pool_sizes=pool_sizes,\n",
    "    units=units,\n",
    "    cnn_layers=cnn_layers,\n",
    "    dense_layers=dense_layers\n",
    ")\n",
    "es = keras.callbacks.EarlyStopping(patience=2)\n",
    "history = model.fit(X_train, y_train, epochs=12, shuffle=False, validation_data=(X_pred, y_pred), callbacks=[es])#, batch_size=16)\n",
    "plot_history(history)"
   ]
  },
  {
   "cell_type": "markdown",
   "metadata": {},
   "source": [
    "Calculemos el test para kaggle"
   ]
  },
  {
   "cell_type": "code",
   "execution_count": 16,
   "metadata": {},
   "outputs": [
    {
     "name": "stdout",
     "output_type": "stream",
     "text": [
      "WARNING:tensorflow:From <ipython-input-16-2a20129e036c>:1: Sequential.predict_classes (from tensorflow.python.keras.engine.sequential) is deprecated and will be removed after 2021-01-01.\n",
      "Instructions for updating:\n",
      "Please use instead:* `np.argmax(model.predict(x), axis=-1)`,   if your model does multi-class classification   (e.g. if it uses a `softmax` last-layer activation).* `(model.predict(x) > 0.5).astype(\"int32\")`,   if your model does binary classification   (e.g. if it uses a `sigmoid` last-layer activation).\n",
      "F1 Score: 0.769\n"
     ]
    }
   ],
   "source": [
    "prediction = model.predict_classes(X_pred)\n",
    "f1 = f1_score(y_pred, [x[0] for x in prediction])\n",
    "print(f'F1 Score: {f1}')"
   ]
  },
  {
   "cell_type": "code",
   "execution_count": 32,
   "metadata": {},
   "outputs": [
    {
     "name": "stdout",
     "output_type": "stream",
     "text": [
      "Percentage of words covered in the embeddings = 0.5707598689343111\n",
      "Percentage of words covered in the embeddings = 0.665389037945573\n"
     ]
    },
    {
     "data": {
      "text/html": [
       "<div>\n",
       "<style scoped>\n",
       "    .dataframe tbody tr th:only-of-type {\n",
       "        vertical-align: middle;\n",
       "    }\n",
       "\n",
       "    .dataframe tbody tr th {\n",
       "        vertical-align: top;\n",
       "    }\n",
       "\n",
       "    .dataframe thead th {\n",
       "        text-align: right;\n",
       "    }\n",
       "</style>\n",
       "<table border=\"1\" class=\"dataframe\">\n",
       "  <thead>\n",
       "    <tr style=\"text-align: right;\">\n",
       "      <th></th>\n",
       "      <th>target</th>\n",
       "    </tr>\n",
       "    <tr>\n",
       "      <th>id</th>\n",
       "      <th></th>\n",
       "    </tr>\n",
       "  </thead>\n",
       "  <tbody>\n",
       "    <tr>\n",
       "      <th>0</th>\n",
       "      <td>1</td>\n",
       "    </tr>\n",
       "    <tr>\n",
       "      <th>2</th>\n",
       "      <td>0</td>\n",
       "    </tr>\n",
       "    <tr>\n",
       "      <th>3</th>\n",
       "      <td>1</td>\n",
       "    </tr>\n",
       "    <tr>\n",
       "      <th>9</th>\n",
       "      <td>1</td>\n",
       "    </tr>\n",
       "    <tr>\n",
       "      <th>11</th>\n",
       "      <td>1</td>\n",
       "    </tr>\n",
       "    <tr>\n",
       "      <th>...</th>\n",
       "      <td>...</td>\n",
       "    </tr>\n",
       "    <tr>\n",
       "      <th>10861</th>\n",
       "      <td>0</td>\n",
       "    </tr>\n",
       "    <tr>\n",
       "      <th>10865</th>\n",
       "      <td>1</td>\n",
       "    </tr>\n",
       "    <tr>\n",
       "      <th>10868</th>\n",
       "      <td>1</td>\n",
       "    </tr>\n",
       "    <tr>\n",
       "      <th>10874</th>\n",
       "      <td>0</td>\n",
       "    </tr>\n",
       "    <tr>\n",
       "      <th>10875</th>\n",
       "      <td>0</td>\n",
       "    </tr>\n",
       "  </tbody>\n",
       "</table>\n",
       "<p>3263 rows × 1 columns</p>\n",
       "</div>"
      ],
      "text/plain": [
       "       target\n",
       "id           \n",
       "0           1\n",
       "2           0\n",
       "3           1\n",
       "9           1\n",
       "11          1\n",
       "...       ...\n",
       "10861       0\n",
       "10865       1\n",
       "10868       1\n",
       "10874       0\n",
       "10875       0\n",
       "\n",
       "[3263 rows x 1 columns]"
      ]
     },
     "execution_count": 32,
     "metadata": {},
     "output_type": "execute_result"
    }
   ],
   "source": [
    "ids = test_df['id']\n",
    "\n",
    "processed, final_test = prepare_for_cnn(test_df)\n",
    "prediction = model.predict_classes(final_test)\n",
    "\n",
    "final_df = pd.DataFrame({'target': [x[0] for x in prediction]}, index=ids)\n",
    "final_df"
   ]
  },
  {
   "cell_type": "code",
   "execution_count": 33,
   "metadata": {},
   "outputs": [
    {
     "data": {
      "text/plain": [
       "0    2342\n",
       "1     921\n",
       "Name: target, dtype: int64"
      ]
     },
     "execution_count": 33,
     "metadata": {},
     "output_type": "execute_result"
    }
   ],
   "source": [
    "final_df['target'].value_counts()"
   ]
  },
  {
   "cell_type": "code",
   "execution_count": 34,
   "metadata": {},
   "outputs": [
    {
     "data": {
      "text/plain": [
       "target    3263\n",
       "dtype: int64"
      ]
     },
     "execution_count": 34,
     "metadata": {},
     "output_type": "execute_result"
    }
   ],
   "source": [
    "final_df.count()"
   ]
  },
  {
   "cell_type": "code",
   "execution_count": 35,
   "metadata": {},
   "outputs": [],
   "source": [
    "final_df.to_csv('cnn_loc.csv')"
   ]
  },
  {
   "cell_type": "code",
   "execution_count": null,
   "metadata": {},
   "outputs": [],
   "source": []
  }
 ],
 "metadata": {
  "kernelspec": {
   "display_name": "Python 3",
   "language": "python",
   "name": "python3"
  },
  "language_info": {
   "codemirror_mode": {
    "name": "ipython",
    "version": 3
   },
   "file_extension": ".py",
   "mimetype": "text/x-python",
   "name": "python",
   "nbconvert_exporter": "python",
   "pygments_lexer": "ipython3",
   "version": "3.7.6"
  }
 },
 "nbformat": 4,
 "nbformat_minor": 4
}
