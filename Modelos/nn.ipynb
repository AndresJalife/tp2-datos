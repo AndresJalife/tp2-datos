{
 "cells": [
  {
   "cell_type": "code",
   "execution_count": 1,
   "metadata": {},
   "outputs": [],
   "source": [
    "import sys\n",
    "sys.path.insert(1, '../FeatureEngineering')\n",
    "\n",
    "import pandas as pd\n",
    "import numpy as np\n",
    "import keras\n",
    "from keras.models import Sequential\n",
    "from keras.layers import Dense, Conv1D, Flatten, MaxPooling1D, Embedding, GlobalMaxPooling1D, Dropout\n",
    "from sklearn.feature_extraction.text import CountVectorizer, TfidfTransformer\n",
    "from sklearn.model_selection import train_test_split\n",
    "import scipy\n",
    "import tensorflow as tf\n",
    "from keras.preprocessing.text import Tokenizer\n",
    "from keras.preprocessing.sequence import pad_sequences\n",
    "from gensim.models import KeyedVectors\n",
    "from sklearn.model_selection import StratifiedKFold\n",
    "from util import plot_history\n",
    "import feature_builder"
   ]
  },
  {
   "cell_type": "markdown",
   "metadata": {},
   "source": [
    "Cargo datasets"
   ]
  },
  {
   "cell_type": "code",
   "execution_count": 2,
   "metadata": {},
   "outputs": [],
   "source": [
    "train_df = pd.read_csv('train.csv')\n",
    "test_df = pd.read_csv('test.csv')"
   ]
  },
  {
   "cell_type": "markdown",
   "metadata": {},
   "source": [
    "Armo features"
   ]
  },
  {
   "cell_type": "code",
   "execution_count": 3,
   "metadata": {},
   "outputs": [
    {
     "name": "stdout",
     "output_type": "stream",
     "text": [
      "Percentage of words covered in the embeddings = 0.6336399642263958\n"
     ]
    }
   ],
   "source": [
    "X_train = feature_builder.process_dataset(train_df)\n",
    "y_train = train_df['target'].values"
   ]
  },
  {
   "cell_type": "code",
   "execution_count": 4,
   "metadata": {},
   "outputs": [
    {
     "data": {
      "text/plain": [
       "Index(['invalid_location_character_count', 'location_is_place', 'mean_encode',\n",
       "       'keyword_length', 'text_length', 'location_length', 'stop_word_count',\n",
       "       'punctuation_count', 'hashtag_count', 'mention_count',\n",
       "       ...\n",
       "       'text_embedding_290', 'text_embedding_291', 'text_embedding_292',\n",
       "       'text_embedding_293', 'text_embedding_294', 'text_embedding_295',\n",
       "       'text_embedding_296', 'text_embedding_297', 'text_embedding_298',\n",
       "       'text_embedding_299'],\n",
       "      dtype='object', length=334)"
      ]
     },
     "execution_count": 4,
     "metadata": {},
     "output_type": "execute_result"
    }
   ],
   "source": [
    "X_train.columns"
   ]
  },
  {
   "cell_type": "code",
   "execution_count": 14,
   "metadata": {},
   "outputs": [
    {
     "name": "stdout",
     "output_type": "stream",
     "text": [
      "Model: \"sequential_3\"\n",
      "_________________________________________________________________\n",
      "Layer (type)                 Output Shape              Param #   \n",
      "=================================================================\n",
      "dense_9 (Dense)              (None, 128)               42880     \n",
      "_________________________________________________________________\n",
      "dense_10 (Dense)             (None, 64)                8256      \n",
      "_________________________________________________________________\n",
      "dense_11 (Dense)             (None, 1)                 65        \n",
      "=================================================================\n",
      "Total params: 51,201\n",
      "Trainable params: 51,201\n",
      "Non-trainable params: 0\n",
      "_________________________________________________________________\n",
      "Epoch 1/35\n",
      "238/238 [==============================] - 0s 1ms/step - loss: 1.5198 - accuracy: 0.5517\n",
      "Epoch 2/35\n",
      "238/238 [==============================] - 0s 1ms/step - loss: 0.6590 - accuracy: 0.6359\n",
      "Epoch 3/35\n",
      "238/238 [==============================] - 0s 1ms/step - loss: 0.6271 - accuracy: 0.6679\n",
      "Epoch 4/35\n",
      "238/238 [==============================] - 0s 1ms/step - loss: 0.6022 - accuracy: 0.6929\n",
      "Epoch 5/35\n",
      "238/238 [==============================] - 0s 2ms/step - loss: 0.5808 - accuracy: 0.7126\n",
      "Epoch 6/35\n",
      "238/238 [==============================] - 1s 2ms/step - loss: 0.5630 - accuracy: 0.7261\n",
      "Epoch 7/35\n",
      "238/238 [==============================] - 1s 2ms/step - loss: 0.5467 - accuracy: 0.7386\n",
      "Epoch 8/35\n",
      "238/238 [==============================] - 1s 3ms/step - loss: 0.5304 - accuracy: 0.7531\n",
      "Epoch 9/35\n",
      "238/238 [==============================] - 1s 3ms/step - loss: 0.5172 - accuracy: 0.7659\n",
      "Epoch 10/35\n",
      "238/238 [==============================] - 1s 3ms/step - loss: 0.5060 - accuracy: 0.7720\n",
      "Epoch 11/35\n",
      "238/238 [==============================] - 1s 2ms/step - loss: 0.4960 - accuracy: 0.7796\n",
      "Epoch 12/35\n",
      "238/238 [==============================] - 1s 2ms/step - loss: 0.4867 - accuracy: 0.7848\n",
      "Epoch 13/35\n",
      "238/238 [==============================] - 1s 3ms/step - loss: 0.4786 - accuracy: 0.7884\n",
      "Epoch 14/35\n",
      "238/238 [==============================] - 1s 2ms/step - loss: 0.4713 - accuracy: 0.7918\n",
      "Epoch 15/35\n",
      "238/238 [==============================] - 1s 2ms/step - loss: 0.4647 - accuracy: 0.7939\n",
      "Epoch 16/35\n",
      "238/238 [==============================] - 1s 2ms/step - loss: 0.4588 - accuracy: 0.7964\n",
      "Epoch 17/35\n",
      "238/238 [==============================] - 1s 2ms/step - loss: 0.4533 - accuracy: 0.7975\n",
      "Epoch 18/35\n",
      "238/238 [==============================] - 1s 2ms/step - loss: 0.4483 - accuracy: 0.7984\n",
      "Epoch 19/35\n",
      "238/238 [==============================] - 1s 2ms/step - loss: 0.4437 - accuracy: 0.8023\n",
      "Epoch 20/35\n",
      "238/238 [==============================] - 1s 3ms/step - loss: 0.4395 - accuracy: 0.8047\n",
      "Epoch 21/35\n",
      "238/238 [==============================] - 1s 2ms/step - loss: 0.4355 - accuracy: 0.8049\n",
      "Epoch 22/35\n",
      "238/238 [==============================] - 1s 2ms/step - loss: 0.4317 - accuracy: 0.8077\n",
      "Epoch 23/35\n",
      "238/238 [==============================] - 1s 2ms/step - loss: 0.4282 - accuracy: 0.8089\n",
      "Epoch 24/35\n",
      "238/238 [==============================] - 1s 3ms/step - loss: 0.4250 - accuracy: 0.8118\n",
      "Epoch 25/35\n",
      "238/238 [==============================] - 1s 3ms/step - loss: 0.4219 - accuracy: 0.8143\n",
      "Epoch 26/35\n",
      "238/238 [==============================] - 1s 2ms/step - loss: 0.4190 - accuracy: 0.8166\n",
      "Epoch 27/35\n",
      "238/238 [==============================] - 1s 3ms/step - loss: 0.4162 - accuracy: 0.8185\n",
      "Epoch 28/35\n",
      "238/238 [==============================] - 1s 2ms/step - loss: 0.4135 - accuracy: 0.8187\n",
      "Epoch 29/35\n",
      "238/238 [==============================] - 1s 2ms/step - loss: 0.4110 - accuracy: 0.8187\n",
      "Epoch 30/35\n",
      "238/238 [==============================] - 1s 2ms/step - loss: 0.4088 - accuracy: 0.8198\n",
      "Epoch 31/35\n",
      "238/238 [==============================] - 1s 2ms/step - loss: 0.4066 - accuracy: 0.8218\n",
      "Epoch 32/35\n",
      "238/238 [==============================] - 1s 2ms/step - loss: 0.4045 - accuracy: 0.8227\n",
      "Epoch 33/35\n",
      "238/238 [==============================] - 1s 2ms/step - loss: 0.4025 - accuracy: 0.8248\n",
      "Epoch 34/35\n",
      "238/238 [==============================] - 1s 2ms/step - loss: 0.4006 - accuracy: 0.8261\n",
      "Epoch 35/35\n",
      "238/238 [==============================] - 1s 2ms/step - loss: 0.3988 - accuracy: 0.8287\n"
     ]
    },
    {
     "ename": "KeyError",
     "evalue": "'val_accuracy'",
     "output_type": "error",
     "traceback": [
      "\u001b[1;31m---------------------------------------------------------------------------\u001b[0m",
      "\u001b[1;31mKeyError\u001b[0m                                  Traceback (most recent call last)",
      "\u001b[1;32m<ipython-input-14-c917b38e7694>\u001b[0m in \u001b[0;36m<module>\u001b[1;34m\u001b[0m\n\u001b[0;32m     11\u001b[0m \u001b[0mmodel\u001b[0m \u001b[1;33m=\u001b[0m \u001b[0mcreate_model\u001b[0m\u001b[1;33m(\u001b[0m\u001b[1;33m)\u001b[0m\u001b[1;33m\u001b[0m\u001b[1;33m\u001b[0m\u001b[0m\n\u001b[0;32m     12\u001b[0m \u001b[0mhistory\u001b[0m \u001b[1;33m=\u001b[0m \u001b[0mmodel\u001b[0m\u001b[1;33m.\u001b[0m\u001b[0mfit\u001b[0m\u001b[1;33m(\u001b[0m\u001b[0mX_train\u001b[0m\u001b[1;33m,\u001b[0m \u001b[0my_train\u001b[0m\u001b[1;33m,\u001b[0m \u001b[0mepochs\u001b[0m\u001b[1;33m=\u001b[0m\u001b[1;36m35\u001b[0m\u001b[1;33m,\u001b[0m \u001b[0mshuffle\u001b[0m\u001b[1;33m=\u001b[0m\u001b[1;32mFalse\u001b[0m\u001b[1;33m,\u001b[0m \u001b[0mvalidation_split\u001b[0m\u001b[1;33m=\u001b[0m\u001b[1;36m0.0\u001b[0m\u001b[1;33m)\u001b[0m\u001b[1;33m\u001b[0m\u001b[1;33m\u001b[0m\u001b[0m\n\u001b[1;32m---> 13\u001b[1;33m \u001b[0mplot_history\u001b[0m\u001b[1;33m(\u001b[0m\u001b[0mhistory\u001b[0m\u001b[1;33m)\u001b[0m\u001b[1;33m\u001b[0m\u001b[1;33m\u001b[0m\u001b[0m\n\u001b[0m",
      "\u001b[1;32mD:\\Repositories\\tp2-datos\\util.py\u001b[0m in \u001b[0;36mplot_history\u001b[1;34m(history)\u001b[0m\n\u001b[0;32m      4\u001b[0m \u001b[1;32mdef\u001b[0m \u001b[0mplot_history\u001b[0m\u001b[1;33m(\u001b[0m\u001b[0mhistory\u001b[0m\u001b[1;33m)\u001b[0m\u001b[1;33m:\u001b[0m\u001b[1;33m\u001b[0m\u001b[1;33m\u001b[0m\u001b[0m\n\u001b[0;32m      5\u001b[0m     \u001b[0macc\u001b[0m \u001b[1;33m=\u001b[0m \u001b[0mhistory\u001b[0m\u001b[1;33m.\u001b[0m\u001b[0mhistory\u001b[0m\u001b[1;33m[\u001b[0m\u001b[1;34m'accuracy'\u001b[0m\u001b[1;33m]\u001b[0m\u001b[1;33m\u001b[0m\u001b[1;33m\u001b[0m\u001b[0m\n\u001b[1;32m----> 6\u001b[1;33m     \u001b[0mval_acc\u001b[0m \u001b[1;33m=\u001b[0m \u001b[0mhistory\u001b[0m\u001b[1;33m.\u001b[0m\u001b[0mhistory\u001b[0m\u001b[1;33m[\u001b[0m\u001b[1;34m'val_accuracy'\u001b[0m\u001b[1;33m]\u001b[0m\u001b[1;33m\u001b[0m\u001b[1;33m\u001b[0m\u001b[0m\n\u001b[0m\u001b[0;32m      7\u001b[0m     \u001b[0mloss\u001b[0m \u001b[1;33m=\u001b[0m \u001b[0mhistory\u001b[0m\u001b[1;33m.\u001b[0m\u001b[0mhistory\u001b[0m\u001b[1;33m[\u001b[0m\u001b[1;34m'loss'\u001b[0m\u001b[1;33m]\u001b[0m\u001b[1;33m\u001b[0m\u001b[1;33m\u001b[0m\u001b[0m\n\u001b[0;32m      8\u001b[0m     \u001b[0mval_loss\u001b[0m \u001b[1;33m=\u001b[0m \u001b[0mhistory\u001b[0m\u001b[1;33m.\u001b[0m\u001b[0mhistory\u001b[0m\u001b[1;33m[\u001b[0m\u001b[1;34m'val_loss'\u001b[0m\u001b[1;33m]\u001b[0m\u001b[1;33m\u001b[0m\u001b[1;33m\u001b[0m\u001b[0m\n",
      "\u001b[1;31mKeyError\u001b[0m: 'val_accuracy'"
     ]
    }
   ],
   "source": [
    "def create_model():\n",
    "    model = Sequential()\n",
    "    model.add(Dense(128, input_dim=X_train.shape[1], activation='relu'))\n",
    "    model.add(Dense(64, activation='relu'))\n",
    "    #model.add(Dropout(0.25))\n",
    "    model.add(Dense(1, activation='sigmoid'))\n",
    "    model.compile(loss='binary_crossentropy', optimizer=keras.optimizers.Adam(1e-4), metrics=['accuracy'])\n",
    "    model.summary()\n",
    "    return model\n",
    "\n",
    "model = create_model()\n",
    "history = model.fit(X_train, y_train, epochs=35, shuffle=False, validation_split=0.0)\n",
    "plot_history(history)"
   ]
  },
  {
   "cell_type": "code",
   "execution_count": 15,
   "metadata": {},
   "outputs": [
    {
     "name": "stdout",
     "output_type": "stream",
     "text": [
      "Percentage of words covered in the embeddings = 0.6973331905322909\n"
     ]
    },
    {
     "data": {
      "text/plain": [
       "0    2073\n",
       "1    1190\n",
       "dtype: int64"
      ]
     },
     "execution_count": 15,
     "metadata": {},
     "output_type": "execute_result"
    }
   ],
   "source": [
    "test = feature_builder.process_dataset(test_df)\n",
    "prediction = model.predict_classes(test)\n",
    "pd.Series([x[0] for x in prediction]).value_counts()"
   ]
  },
  {
   "cell_type": "markdown",
   "metadata": {},
   "source": [
    "Calculemos el test para kaggle"
   ]
  },
  {
   "cell_type": "code",
   "execution_count": 16,
   "metadata": {},
   "outputs": [
    {
     "name": "stdout",
     "output_type": "stream",
     "text": [
      "Percentage of words covered in the embeddings = 0.6973331905322909\n"
     ]
    },
    {
     "data": {
      "text/html": [
       "<div>\n",
       "<style scoped>\n",
       "    .dataframe tbody tr th:only-of-type {\n",
       "        vertical-align: middle;\n",
       "    }\n",
       "\n",
       "    .dataframe tbody tr th {\n",
       "        vertical-align: top;\n",
       "    }\n",
       "\n",
       "    .dataframe thead th {\n",
       "        text-align: right;\n",
       "    }\n",
       "</style>\n",
       "<table border=\"1\" class=\"dataframe\">\n",
       "  <thead>\n",
       "    <tr style=\"text-align: right;\">\n",
       "      <th></th>\n",
       "      <th>target</th>\n",
       "    </tr>\n",
       "    <tr>\n",
       "      <th>id</th>\n",
       "      <th></th>\n",
       "    </tr>\n",
       "  </thead>\n",
       "  <tbody>\n",
       "    <tr>\n",
       "      <th>0</th>\n",
       "      <td>1</td>\n",
       "    </tr>\n",
       "    <tr>\n",
       "      <th>2</th>\n",
       "      <td>1</td>\n",
       "    </tr>\n",
       "    <tr>\n",
       "      <th>3</th>\n",
       "      <td>1</td>\n",
       "    </tr>\n",
       "    <tr>\n",
       "      <th>9</th>\n",
       "      <td>1</td>\n",
       "    </tr>\n",
       "    <tr>\n",
       "      <th>11</th>\n",
       "      <td>1</td>\n",
       "    </tr>\n",
       "    <tr>\n",
       "      <th>...</th>\n",
       "      <td>...</td>\n",
       "    </tr>\n",
       "    <tr>\n",
       "      <th>10861</th>\n",
       "      <td>1</td>\n",
       "    </tr>\n",
       "    <tr>\n",
       "      <th>10865</th>\n",
       "      <td>1</td>\n",
       "    </tr>\n",
       "    <tr>\n",
       "      <th>10868</th>\n",
       "      <td>1</td>\n",
       "    </tr>\n",
       "    <tr>\n",
       "      <th>10874</th>\n",
       "      <td>0</td>\n",
       "    </tr>\n",
       "    <tr>\n",
       "      <th>10875</th>\n",
       "      <td>1</td>\n",
       "    </tr>\n",
       "  </tbody>\n",
       "</table>\n",
       "<p>3263 rows × 1 columns</p>\n",
       "</div>"
      ],
      "text/plain": [
       "       target\n",
       "id           \n",
       "0           1\n",
       "2           1\n",
       "3           1\n",
       "9           1\n",
       "11          1\n",
       "...       ...\n",
       "10861       1\n",
       "10865       1\n",
       "10868       1\n",
       "10874       0\n",
       "10875       1\n",
       "\n",
       "[3263 rows x 1 columns]"
      ]
     },
     "execution_count": 16,
     "metadata": {},
     "output_type": "execute_result"
    }
   ],
   "source": [
    "ids = test_df['id']\n",
    "\n",
    "final_test = feature_builder.process_dataset(test_df)\n",
    "prediction = model.predict_classes(final_test)\n",
    "final_df = pd.DataFrame({'target': [x[0] for x in prediction]}, index=ids)\n",
    "final_df"
   ]
  },
  {
   "cell_type": "code",
   "execution_count": 17,
   "metadata": {},
   "outputs": [
    {
     "data": {
      "text/plain": [
       "0    2073\n",
       "1    1190\n",
       "Name: target, dtype: int64"
      ]
     },
     "execution_count": 17,
     "metadata": {},
     "output_type": "execute_result"
    }
   ],
   "source": [
    "final_df['target'].value_counts()"
   ]
  },
  {
   "cell_type": "code",
   "execution_count": 18,
   "metadata": {},
   "outputs": [
    {
     "data": {
      "text/plain": [
       "target    3263\n",
       "dtype: int64"
      ]
     },
     "execution_count": 18,
     "metadata": {},
     "output_type": "execute_result"
    }
   ],
   "source": [
    "final_df.count()"
   ]
  },
  {
   "cell_type": "code",
   "execution_count": 19,
   "metadata": {},
   "outputs": [],
   "source": [
    "final_df.to_csv('nn.csv')"
   ]
  },
  {
   "cell_type": "code",
   "execution_count": null,
   "metadata": {},
   "outputs": [],
   "source": []
  },
  {
   "cell_type": "code",
   "execution_count": null,
   "metadata": {},
   "outputs": [],
   "source": []
  }
 ],
 "metadata": {
  "kernelspec": {
   "display_name": "Python 3",
   "language": "python",
   "name": "python3"
  },
  "language_info": {
   "codemirror_mode": {
    "name": "ipython",
    "version": 3
   },
   "file_extension": ".py",
   "mimetype": "text/x-python",
   "name": "python",
   "nbconvert_exporter": "python",
   "pygments_lexer": "ipython3",
   "version": "3.7.6"
  }
 },
 "nbformat": 4,
 "nbformat_minor": 4
}
