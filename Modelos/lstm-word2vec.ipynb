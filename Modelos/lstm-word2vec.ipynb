{
 "cells": [
  {
   "cell_type": "code",
   "execution_count": 1,
   "metadata": {},
   "outputs": [],
   "source": [
    "import sys\n",
    "sys.path.insert(1, '../FeatureEngineering')\n",
    "\n",
    "import pandas as pd\n",
    "import numpy as np\n",
    "import tensorflow as tf\n",
    "import seaborn as sns\n",
    "import matplotlib.pyplot as plt\n",
    "from sklearn.preprocessing import LabelEncoder\n",
    "from keras.preprocessing import sequence\n",
    "from tensorflow import keras\n",
    "from tensorflow.keras import layers\n",
    "from gensim.models import KeyedVectors\n",
    "from keras.preprocessing.text import Tokenizer\n",
    "from keras.models import Sequential\n",
    "from keras.layers import Dense, Conv1D, Flatten, MaxPooling1D, Embedding, GlobalMaxPooling1D, Dropout, LSTM,Input,Activation\n",
    "from sklearn.model_selection import train_test_split\n",
    "from sklearn.metrics import accuracy_score\n",
    "import nltk\n",
    "from sklearn.metrics import f1_score\n",
    "import feature_builder\n",
    "embeddings = None"
   ]
  },
  {
   "cell_type": "markdown",
   "metadata": {},
   "source": [
    "Spliteo para obtener vectores de train y test"
   ]
  },
  {
   "cell_type": "code",
   "execution_count": 2,
   "metadata": {},
   "outputs": [],
   "source": [
    "train_df = pd.read_csv('train.csv')\n",
    "test_df = pd.read_csv('test.csv')\n",
    "Y = train_df['target'].values"
   ]
  },
  {
   "cell_type": "code",
   "execution_count": 3,
   "metadata": {},
   "outputs": [],
   "source": [
    "def prepare_for_cnn(df):\n",
    "    processed = feature_builder.process_dataset(df)\n",
    "    return (processed, processed.to_numpy().reshape(processed.shape[0], 1, processed.shape[1]))"
   ]
  },
  {
   "cell_type": "code",
   "execution_count": 4,
   "metadata": {},
   "outputs": [
    {
     "name": "stdout",
     "output_type": "stream",
     "text": [
      "Percentage of words covered in the embeddings = 0.4937444933920705\n"
     ]
    }
   ],
   "source": [
    "processed, X_processed = prepare_for_cnn(train_df)"
   ]
  },
  {
   "cell_type": "code",
   "execution_count": 5,
   "metadata": {},
   "outputs": [],
   "source": [
    "X_train, X_test, y_train, y_test = train_test_split(X_processed,Y,test_size = 0.33,random_state = 17)"
   ]
  },
  {
   "cell_type": "code",
   "execution_count": 29,
   "metadata": {},
   "outputs": [],
   "source": [
    "def RNN():\n",
    "    model = Sequential([\n",
    "    tf.keras.layers.Bidirectional(tf.keras.layers.LSTM(128,return_sequences=True),input_shape=(X_train.shape[1], X_train.shape[2])),\n",
    "    tf.keras.layers.Bidirectional(tf.keras.layers.LSTM(64,return_sequences=True)),\n",
    "    tf.keras.layers.Bidirectional(tf.keras.layers.LSTM(64)),\n",
    "    tf.keras.layers.Dense(32, activation='relu'),\n",
    "    #tf.keras.layers.Dropout(0.5),\n",
    "    tf.keras.layers.Dense(1)])\n",
    "    return model"
   ]
  },
  {
   "cell_type": "code",
   "execution_count": 30,
   "metadata": {},
   "outputs": [
    {
     "name": "stdout",
     "output_type": "stream",
     "text": [
      "Model: \"sequential_5\"\n",
      "_________________________________________________________________\n",
      "Layer (type)                 Output Shape              Param #   \n",
      "=================================================================\n",
      "bidirectional_12 (Bidirectio (None, 1, 256)            473088    \n",
      "_________________________________________________________________\n",
      "bidirectional_13 (Bidirectio (None, 1, 128)            164352    \n",
      "_________________________________________________________________\n",
      "bidirectional_14 (Bidirectio (None, 128)               98816     \n",
      "_________________________________________________________________\n",
      "dense_10 (Dense)             (None, 32)                4128      \n",
      "_________________________________________________________________\n",
      "dense_11 (Dense)             (None, 1)                 33        \n",
      "=================================================================\n",
      "Total params: 740,417\n",
      "Trainable params: 740,417\n",
      "Non-trainable params: 0\n",
      "_________________________________________________________________\n"
     ]
    }
   ],
   "source": [
    "model = RNN()\n",
    "model.summary()\n",
    "model.compile(loss=keras.losses.BinaryCrossentropy(from_logits=True),\n",
    "              optimizer=keras.optimizers.Adam(1e-4),\n",
    "              metrics=['accuracy'])"
   ]
  },
  {
   "cell_type": "code",
   "execution_count": 31,
   "metadata": {},
   "outputs": [
    {
     "name": "stdout",
     "output_type": "stream",
     "text": [
      "Epoch 1/50\n",
      "128/128 [==============================] - 4s 31ms/step - loss: 0.6782 - accuracy: 0.5809 - val_loss: 0.6752 - val_accuracy: 0.5265\n",
      "Epoch 2/50\n",
      "128/128 [==============================] - 2s 17ms/step - loss: 0.6276 - accuracy: 0.5841 - val_loss: 0.6469 - val_accuracy: 0.5422\n",
      "Epoch 3/50\n",
      "128/128 [==============================] - 2s 18ms/step - loss: 0.6040 - accuracy: 0.6179 - val_loss: 0.6368 - val_accuracy: 0.5735\n",
      "Epoch 4/50\n",
      "128/128 [==============================] - 2s 19ms/step - loss: 0.5825 - accuracy: 0.6603 - val_loss: 0.6142 - val_accuracy: 0.6794\n",
      "Epoch 5/50\n",
      "128/128 [==============================] - 2s 19ms/step - loss: 0.5589 - accuracy: 0.6973 - val_loss: 0.5953 - val_accuracy: 0.6804\n",
      "Epoch 6/50\n",
      "128/128 [==============================] - 2s 19ms/step - loss: 0.5352 - accuracy: 0.7294 - val_loss: 0.6059 - val_accuracy: 0.6353\n",
      "Epoch 7/50\n",
      "128/128 [==============================] - 2s 18ms/step - loss: 0.5095 - accuracy: 0.7456 - val_loss: 0.5597 - val_accuracy: 0.7343\n",
      "Epoch 8/50\n",
      "128/128 [==============================] - 3s 20ms/step - loss: 0.4868 - accuracy: 0.7659 - val_loss: 0.5448 - val_accuracy: 0.7157\n",
      "Epoch 9/50\n",
      "128/128 [==============================] - 3s 20ms/step - loss: 0.4648 - accuracy: 0.7784 - val_loss: 0.5272 - val_accuracy: 0.7363\n",
      "Epoch 10/50\n",
      "128/128 [==============================] - 3s 21ms/step - loss: 0.4414 - accuracy: 0.7944 - val_loss: 0.5403 - val_accuracy: 0.7225\n",
      "Epoch 11/50\n",
      "128/128 [==============================] - 3s 21ms/step - loss: 0.4272 - accuracy: 0.7993 - val_loss: 0.5074 - val_accuracy: 0.7422\n",
      "Epoch 12/50\n",
      "128/128 [==============================] - 3s 20ms/step - loss: 0.4135 - accuracy: 0.8088 - val_loss: 0.5115 - val_accuracy: 0.7490\n",
      "Epoch 13/50\n",
      "128/128 [==============================] - 2s 19ms/step - loss: 0.4050 - accuracy: 0.8216 - val_loss: 0.5560 - val_accuracy: 0.7157\n",
      "Epoch 14/50\n",
      "128/128 [==============================] - 3s 20ms/step - loss: 0.4013 - accuracy: 0.8216 - val_loss: 0.4966 - val_accuracy: 0.7529\n",
      "Epoch 15/50\n",
      "128/128 [==============================] - 3s 24ms/step - loss: 0.3991 - accuracy: 0.8164 - val_loss: 0.5171 - val_accuracy: 0.7412\n",
      "Epoch 16/50\n",
      "128/128 [==============================] - 3s 24ms/step - loss: 0.3902 - accuracy: 0.8252 - val_loss: 0.5189 - val_accuracy: 0.7402\n",
      "Epoch 17/50\n",
      "128/128 [==============================] - 3s 23ms/step - loss: 0.3803 - accuracy: 0.8338 - val_loss: 0.5470 - val_accuracy: 0.7324\n",
      "Epoch 18/50\n",
      "128/128 [==============================] - 3s 23ms/step - loss: 0.3764 - accuracy: 0.8284 - val_loss: 0.4929 - val_accuracy: 0.7667\n",
      "Epoch 19/50\n",
      "128/128 [==============================] - 3s 22ms/step - loss: 0.3689 - accuracy: 0.8333 - val_loss: 0.4878 - val_accuracy: 0.7706\n",
      "Epoch 20/50\n",
      "128/128 [==============================] - 3s 23ms/step - loss: 0.3635 - accuracy: 0.8419 - val_loss: 0.4849 - val_accuracy: 0.7794\n",
      "Epoch 21/50\n",
      "128/128 [==============================] - 3s 23ms/step - loss: 0.3621 - accuracy: 0.8402 - val_loss: 0.4908 - val_accuracy: 0.7696\n",
      "Epoch 22/50\n",
      "128/128 [==============================] - 3s 21ms/step - loss: 0.3564 - accuracy: 0.8475 - val_loss: 0.4888 - val_accuracy: 0.7814\n",
      "Epoch 23/50\n",
      "128/128 [==============================] - 3s 27ms/step - loss: 0.3587 - accuracy: 0.8449 - val_loss: 0.5016 - val_accuracy: 0.7725\n",
      "Epoch 24/50\n",
      "128/128 [==============================] - 3s 20ms/step - loss: 0.3496 - accuracy: 0.8449 - val_loss: 0.4915 - val_accuracy: 0.7765\n",
      "Epoch 25/50\n",
      "128/128 [==============================] - 3s 23ms/step - loss: 0.3472 - accuracy: 0.8453 - val_loss: 0.5070 - val_accuracy: 0.7784\n",
      "Epoch 26/50\n",
      "128/128 [==============================] - 3s 23ms/step - loss: 0.3504 - accuracy: 0.8453 - val_loss: 0.5548 - val_accuracy: 0.7804\n",
      "Epoch 27/50\n",
      "128/128 [==============================] - 3s 23ms/step - loss: 0.3505 - accuracy: 0.8451 - val_loss: 0.5291 - val_accuracy: 0.7676\n",
      "Epoch 28/50\n",
      "128/128 [==============================] - 3s 25ms/step - loss: 0.3388 - accuracy: 0.8517 - val_loss: 0.5087 - val_accuracy: 0.7735\n",
      "Epoch 29/50\n",
      "128/128 [==============================] - 3s 22ms/step - loss: 0.3374 - accuracy: 0.8517 - val_loss: 0.5010 - val_accuracy: 0.7843\n",
      "Epoch 30/50\n",
      "128/128 [==============================] - 3s 23ms/step - loss: 0.3337 - accuracy: 0.8576 - val_loss: 0.5015 - val_accuracy: 0.7892\n",
      "Epoch 31/50\n",
      "128/128 [==============================] - 3s 21ms/step - loss: 0.3305 - accuracy: 0.8569 - val_loss: 0.5752 - val_accuracy: 0.7755\n",
      "Epoch 32/50\n",
      "128/128 [==============================] - 3s 23ms/step - loss: 0.3282 - accuracy: 0.8539 - val_loss: 0.5189 - val_accuracy: 0.7833\n",
      "Epoch 33/50\n",
      "128/128 [==============================] - 4s 27ms/step - loss: 0.3231 - accuracy: 0.8600 - val_loss: 0.5146 - val_accuracy: 0.7873\n",
      "Epoch 34/50\n",
      "128/128 [==============================] - 3s 20ms/step - loss: 0.3200 - accuracy: 0.8613 - val_loss: 0.5256 - val_accuracy: 0.7794\n",
      "Epoch 35/50\n",
      "128/128 [==============================] - 3s 24ms/step - loss: 0.3127 - accuracy: 0.8630 - val_loss: 0.5178 - val_accuracy: 0.7804\n",
      "Epoch 36/50\n",
      "128/128 [==============================] - 3s 24ms/step - loss: 0.3119 - accuracy: 0.8669 - val_loss: 0.5317 - val_accuracy: 0.7843\n",
      "Epoch 37/50\n",
      "128/128 [==============================] - 3s 24ms/step - loss: 0.3224 - accuracy: 0.8613 - val_loss: 0.5364 - val_accuracy: 0.7745\n",
      "Epoch 38/50\n",
      "128/128 [==============================] - 3s 23ms/step - loss: 0.3054 - accuracy: 0.8679 - val_loss: 0.5279 - val_accuracy: 0.7892\n",
      "Epoch 39/50\n",
      "128/128 [==============================] - 3s 24ms/step - loss: 0.3100 - accuracy: 0.8618 - val_loss: 0.5351 - val_accuracy: 0.7892\n",
      "Epoch 40/50\n",
      "128/128 [==============================] - 3s 24ms/step - loss: 0.3127 - accuracy: 0.8618 - val_loss: 0.5345 - val_accuracy: 0.7843\n",
      "Epoch 41/50\n",
      "128/128 [==============================] - 3s 21ms/step - loss: 0.3060 - accuracy: 0.8723 - val_loss: 0.5210 - val_accuracy: 0.7922\n",
      "Epoch 42/50\n",
      "128/128 [==============================] - 3s 22ms/step - loss: 0.3097 - accuracy: 0.8647 - val_loss: 0.5256 - val_accuracy: 0.7892\n",
      "Epoch 43/50\n",
      "128/128 [==============================] - 3s 23ms/step - loss: 0.2976 - accuracy: 0.8721 - val_loss: 0.5574 - val_accuracy: 0.7843\n",
      "Epoch 44/50\n",
      "128/128 [==============================] - 3s 23ms/step - loss: 0.3075 - accuracy: 0.8689 - val_loss: 0.5555 - val_accuracy: 0.7765\n",
      "Epoch 45/50\n",
      "128/128 [==============================] - 3s 23ms/step - loss: 0.2933 - accuracy: 0.8730 - val_loss: 0.5328 - val_accuracy: 0.7775\n",
      "Epoch 46/50\n",
      "128/128 [==============================] - 3s 24ms/step - loss: 0.2918 - accuracy: 0.8745 - val_loss: 0.5676 - val_accuracy: 0.7794\n",
      "Epoch 47/50\n",
      "128/128 [==============================] - 3s 25ms/step - loss: 0.2950 - accuracy: 0.8765 - val_loss: 0.5359 - val_accuracy: 0.7843\n",
      "Epoch 48/50\n",
      "128/128 [==============================] - 3s 27ms/step - loss: 0.2880 - accuracy: 0.8760 - val_loss: 0.5655 - val_accuracy: 0.7765\n",
      "Epoch 49/50\n",
      "128/128 [==============================] - 3s 25ms/step - loss: 0.2877 - accuracy: 0.8765 - val_loss: 0.5524 - val_accuracy: 0.7843\n",
      "Epoch 50/50\n",
      "128/128 [==============================] - 3s 25ms/step - loss: 0.2845 - accuracy: 0.8824 - val_loss: 0.5588 - val_accuracy: 0.7843\n"
     ]
    }
   ],
   "source": [
    "history = model.fit(X_train, y_train, epochs=50, shuffle=True, validation_split=0.2)"
   ]
  },
  {
   "cell_type": "code",
   "execution_count": 32,
   "metadata": {},
   "outputs": [],
   "source": [
    "prediction = model.predict_classes(X_test)"
   ]
  },
  {
   "cell_type": "code",
   "execution_count": 33,
   "metadata": {},
   "outputs": [
    {
     "data": {
      "text/plain": [
       "0.8093911659371269"
      ]
     },
     "execution_count": 33,
     "metadata": {},
     "output_type": "execute_result"
    }
   ],
   "source": [
    "accuracy_score(y_test, prediction)"
   ]
  },
  {
   "cell_type": "code",
   "execution_count": 34,
   "metadata": {},
   "outputs": [
    {
     "data": {
      "text/plain": [
       "0.7745882352941176"
      ]
     },
     "execution_count": 34,
     "metadata": {},
     "output_type": "execute_result"
    }
   ],
   "source": [
    "f1_score(y_test, prediction)"
   ]
  }
 ],
 "metadata": {
  "kernelspec": {
   "display_name": "Python 3",
   "language": "python",
   "name": "python3"
  },
  "language_info": {
   "codemirror_mode": {
    "name": "ipython",
    "version": 3
   },
   "file_extension": ".py",
   "mimetype": "text/x-python",
   "name": "python",
   "nbconvert_exporter": "python",
   "pygments_lexer": "ipython3",
   "version": "3.7.6"
  }
 },
 "nbformat": 4,
 "nbformat_minor": 4
}
