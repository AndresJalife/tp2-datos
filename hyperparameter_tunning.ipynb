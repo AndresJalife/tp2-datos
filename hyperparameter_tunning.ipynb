{
 "cells": [
  {
   "cell_type": "markdown",
   "metadata": {},
   "source": [
    "<h1><strong>Optimización de hiperparametros</strong> </h1> \n",
    "    \n",
    "<h3>Acá se van a buscar los hiperparametros más optimos para cada algoritmos. Luego se va a crear una función que devuelva un diccionario con los mejores hiperparametros para cada algoritmo, lo que va a significar una gran ventaja de tiempo en pruebas futuras.</h3>\n",
    "\n",
    "------------------------------------------------------------------------------\n",
    "\n",
    "<h4> Se van a estar probando tres algoritmos de optimizacion: </h4>\n",
    "<ol> \n",
    "    <li> Grid Search </li>\n",
    "    <li> Random Search </li>\n",
    "    <li> Bayesian Optimization </li>\n",
    "</ol>\n",
    "\n",
    "-------------------------------------------------------------------------------    \n",
    "    \n",
    "<br>Primero se hacen los imports necesarios"
   ]
  },
  {
   "cell_type": "code",
   "execution_count": 1,
   "metadata": {},
   "outputs": [],
   "source": [
    "import pandas as pd\n",
    "import numpy as np\n",
    "\n",
    "import nbimporter # pip install nbimporter\n",
    "import sklearn\n",
    "\n",
    "from sklearn.naive_bayes  import MultinomialNB\n",
    "from sklearn.linear_model import LogisticRegression\n",
    "from sklearn import svm\n",
    "from catboost import CatBoostClassifier\n",
    "                        \n",
    "from sklearn.model_selection import train_test_split\n",
    "from sklearn.feature_extraction.text import CountVectorizer, TfidfTransformer, TfidfVectorizer\n",
    "from sklearn.metrics import f1_score, accuracy_score\n",
    "\n",
    "from sklearn.model_selection import GridSearchCV\n",
    "from sklearn.model_selection import RandomizedSearchCV\n",
    "\n",
    "from feature_builder import process_dataset, add_text_embeddings, calculate_keyword_encoding\n",
    "from hyperparameter_tuning import random_search, GridSearch, bayesian_optimization #pip install hyperopt\n",
    "\n"
   ]
  },
  {
   "cell_type": "code",
   "execution_count": 2,
   "metadata": {},
   "outputs": [],
   "source": [
    "def obtener_hiperparametros():\n",
    "    \n",
    "    return {\n",
    "        'Catboost':{} ,\n",
    "        'cnn':{},\n",
    "        'GRU':{} ,\n",
    "        'knn': {},\n",
    "        'LightGBM': {},\n",
    "        'Logistic-Regression': {},\n",
    "        'lstm': {},\n",
    "        'MNB': {},\n",
    "        'nn': {},\n",
    "        'SVM':{'kernel': 'rbf', 'gamma': 'scale', 'degree': 9, 'coef0': 5, 'C': 2},\n",
    "        'XGBoost':{},\n",
    "    }"
   ]
  },
  {
   "cell_type": "code",
   "execution_count": 3,
   "metadata": {},
   "outputs": [],
   "source": [
    "train_dataset = pd.read_csv('train.csv')"
   ]
  },
  {
   "cell_type": "code",
   "execution_count": 4,
   "metadata": {},
   "outputs": [],
   "source": [
    "test_dataset = pd.read_csv('test.csv')"
   ]
  },
  {
   "cell_type": "code",
   "execution_count": 5,
   "metadata": {},
   "outputs": [],
   "source": [
    "#y = train_dataset.loc[:,'target']\n",
    "y=train_dataset[['id','target']]"
   ]
  },
  {
   "cell_type": "markdown",
   "metadata": {},
   "source": [
    "<h2><strong>Preparo los distintos sets con features diferentes.</h2>\n",
    "Los distintos algoritmos necesitan diferentes sets, según lo investigado."
   ]
  },
  {
   "cell_type": "markdown",
   "metadata": {},
   "source": [
    "<h3>Primero los procesados completos con spacy"
   ]
  },
  {
   "cell_type": "code",
   "execution_count": 6,
   "metadata": {},
   "outputs": [
    {
     "name": "stdout",
     "output_type": "stream",
     "text": [
      "Embeddings loaded!\n",
      "Percentage of words covered in the embeddings = 0.4875485193423176\n",
      "Embeddings loaded!\n",
      "Percentage of words covered in the embeddings = 0.5959707770644233\n"
     ]
    }
   ],
   "source": [
    "x_processed = process_dataset(train_dataset, use_spacy=True)"
   ]
  },
  {
   "cell_type": "markdown",
   "metadata": {},
   "source": [
    "<h3>Los que solo necesitan embeddings. "
   ]
  },
  {
   "cell_type": "code",
   "execution_count": 14,
   "metadata": {},
   "outputs": [
    {
     "name": "stdout",
     "output_type": "stream",
     "text": [
      "Percentage of words covered in the embeddings = 0.4937444933920705\n"
     ]
    }
   ],
   "source": [
    "x_embedd = process_dataset(train_dataset, usa_spacy=True, use_manual_features=False)"
   ]
  },
  {
   "cell_type": "markdown",
   "metadata": {},
   "source": [
    "<h3>Los que usan TF-IDF"
   ]
  },
  {
   "cell_type": "code",
   "execution_count": 19,
   "metadata": {},
   "outputs": [],
   "source": [
    "x_tfidf = process_dataset(train_dataset, text_type='tfidf', use_manual_features=False)"
   ]
  },
  {
   "cell_type": "markdown",
   "metadata": {},
   "source": [
    "<h3><strong>SVM"
   ]
  },
  {
   "cell_type": "code",
   "execution_count": 6,
   "metadata": {},
   "outputs": [],
   "source": [
    "SVC = svm.SVC()"
   ]
  },
  {
   "cell_type": "code",
   "execution_count": 7,
   "metadata": {},
   "outputs": [],
   "source": [
    "params_svc={'kernel':('linear', 'rbf', 'sigmoid', 'poly'),\n",
    "    'C':[0.1, 0.2, 0.5, 0.8, 1, 2, 5, 10, 25],\n",
    "    'degree':np.arange(1,10,1),\n",
    "    'coef0':[0.1, 0.5, 1, 2, 5, 10],\n",
    "    'gamma':('auto','scale')}"
   ]
  },
  {
   "cell_type": "markdown",
   "metadata": {},
   "source": [
    "<h5>Random Search"
   ]
  },
  {
   "cell_type": "code",
   "execution_count": null,
   "metadata": {},
   "outputs": [
    {
     "name": "stdout",
     "output_type": "stream",
     "text": [
      "Fitting 5 folds for each of 40 candidates, totalling 200 fits\n"
     ]
    },
    {
     "name": "stderr",
     "output_type": "stream",
     "text": [
      "[Parallel(n_jobs=4)]: Using backend LokyBackend with 4 concurrent workers.\n"
     ]
    }
   ],
   "source": [
    "random_search(x_processed, y, SVC, params_svc)"
   ]
  },
  {
   "cell_type": "markdown",
   "metadata": {},
   "source": [
    "<h5>Grid Search"
   ]
  },
  {
   "cell_type": "code",
   "execution_count": null,
   "metadata": {},
   "outputs": [
    {
     "name": "stderr",
     "output_type": "stream",
     "text": [
      "/home/andres/anaconda3/lib/python3.7/site-packages/joblib/externals/loky/process_executor.py:706: UserWarning: A worker stopped while some jobs were given to the executor. This can be caused by a too short worker timeout or by a memory leak.\n",
      "  \"timeout or by a memory leak.\", UserWarning\n"
     ]
    }
   ],
   "source": [
    "GridSearch(x_processed, y, SVC, params_svc)"
   ]
  },
  {
   "cell_type": "markdown",
   "metadata": {},
   "source": [
    "<h5>Bayesian Optimization"
   ]
  },
  {
   "cell_type": "code",
   "execution_count": null,
   "metadata": {},
   "outputs": [],
   "source": []
  },
  {
   "cell_type": "markdown",
   "metadata": {},
   "source": [
    "<h3><strong> Logistic-Regression"
   ]
  },
  {
   "cell_type": "code",
   "execution_count": 65,
   "metadata": {},
   "outputs": [],
   "source": [
    "logisticRegr = LogisticRegression()"
   ]
  },
  {
   "cell_type": "code",
   "execution_count": null,
   "metadata": {},
   "outputs": [],
   "source": [
    "params_lr = {\n",
    "    'penalty': ['l1', 'l2'],\n",
    "    'C': np.logspace(-4,4,20),\n",
    "    'solver': ['newton-cg', 'lbfgs', 'liblinear', 'sag', 'saga']\n",
    "}\n"
   ]
  },
  {
   "cell_type": "markdown",
   "metadata": {},
   "source": [
    "<h5>Random Search"
   ]
  },
  {
   "cell_type": "code",
   "execution_count": null,
   "metadata": {},
   "outputs": [],
   "source": [
    "random_search(x_processed, y, logisticRegr, params_lr)"
   ]
  },
  {
   "cell_type": "markdown",
   "metadata": {},
   "source": [
    "<h5>Grid Search"
   ]
  },
  {
   "cell_type": "code",
   "execution_count": null,
   "metadata": {},
   "outputs": [],
   "source": [
    "GridSearch(x_processed, y, logisticRegr, params_lr)"
   ]
  },
  {
   "cell_type": "markdown",
   "metadata": {},
   "source": [
    "<h5>Bayesian Optimization"
   ]
  },
  {
   "cell_type": "code",
   "execution_count": null,
   "metadata": {},
   "outputs": [],
   "source": []
  },
  {
   "cell_type": "markdown",
   "metadata": {},
   "source": [
    "<h3><strong>Catboost"
   ]
  },
  {
   "cell_type": "code",
   "execution_count": 7,
   "metadata": {},
   "outputs": [],
   "source": [
    "catboost = CatBoostClassifier(thread_count=2,verbose=False)"
   ]
  },
  {
   "cell_type": "code",
   "execution_count": 8,
   "metadata": {},
   "outputs": [],
   "source": [
    "params_cb = {'depth':np.arange(1,12,1),\n",
    "          'iterations':[80, 100,256,465,678,1000],\n",
    "          'learning_rate':[0.01,0.05,0.1,0.3], \n",
    "          'l2_leaf_reg':np.arange(2,10,1),\n",
    "          'border_count':[0,5,10,50,100],\n",
    "          'random_strength':[0,1,42]}"
   ]
  },
  {
   "cell_type": "markdown",
   "metadata": {},
   "source": [
    "<h5>Random Search"
   ]
  },
  {
   "cell_type": "code",
   "execution_count": 9,
   "metadata": {},
   "outputs": [
    {
     "name": "stdout",
     "output_type": "stream",
     "text": [
      "0:\tlearn: 0.6173932\ttotal: 108ms\tremaining: 27.6s\n",
      "1:\tlearn: 0.5728471\ttotal: 143ms\tremaining: 18.1s\n",
      "2:\tlearn: 0.5418936\ttotal: 171ms\tremaining: 14.4s\n",
      "3:\tlearn: 0.5189744\ttotal: 203ms\tremaining: 12.8s\n",
      "4:\tlearn: 0.5026454\ttotal: 232ms\tremaining: 11.6s\n",
      "5:\tlearn: 0.4895342\ttotal: 258ms\tremaining: 10.7s\n",
      "6:\tlearn: 0.4764438\ttotal: 285ms\tremaining: 10.2s\n",
      "7:\tlearn: 0.4670584\ttotal: 316ms\tremaining: 9.78s\n",
      "8:\tlearn: 0.4564305\ttotal: 343ms\tremaining: 9.42s\n",
      "9:\tlearn: 0.4483355\ttotal: 370ms\tremaining: 9.11s\n",
      "10:\tlearn: 0.4416335\ttotal: 396ms\tremaining: 8.82s\n",
      "11:\tlearn: 0.4351781\ttotal: 424ms\tremaining: 8.63s\n",
      "12:\tlearn: 0.4289448\ttotal: 450ms\tremaining: 8.42s\n",
      "13:\tlearn: 0.4231282\ttotal: 479ms\tremaining: 8.29s\n",
      "14:\tlearn: 0.4179280\ttotal: 510ms\tremaining: 8.19s\n",
      "15:\tlearn: 0.4125080\ttotal: 539ms\tremaining: 8.09s\n",
      "16:\tlearn: 0.4070748\ttotal: 570ms\tremaining: 8.01s\n",
      "17:\tlearn: 0.4023490\ttotal: 607ms\tremaining: 8.03s\n",
      "18:\tlearn: 0.3974547\ttotal: 638ms\tremaining: 7.96s\n",
      "19:\tlearn: 0.3932494\ttotal: 670ms\tremaining: 7.9s\n",
      "20:\tlearn: 0.3893931\ttotal: 705ms\tremaining: 7.89s\n",
      "21:\tlearn: 0.3853654\ttotal: 736ms\tremaining: 7.82s\n",
      "22:\tlearn: 0.3811709\ttotal: 766ms\tremaining: 7.76s\n",
      "23:\tlearn: 0.3771549\ttotal: 794ms\tremaining: 7.68s\n",
      "24:\tlearn: 0.3736564\ttotal: 827ms\tremaining: 7.64s\n",
      "25:\tlearn: 0.3697579\ttotal: 855ms\tremaining: 7.56s\n",
      "26:\tlearn: 0.3660604\ttotal: 893ms\tremaining: 7.57s\n",
      "27:\tlearn: 0.3617319\ttotal: 922ms\tremaining: 7.5s\n",
      "28:\tlearn: 0.3591466\ttotal: 952ms\tremaining: 7.45s\n",
      "29:\tlearn: 0.3557189\ttotal: 983ms\tremaining: 7.4s\n",
      "30:\tlearn: 0.3519127\ttotal: 1.02s\tremaining: 7.38s\n",
      "31:\tlearn: 0.3485991\ttotal: 1.05s\tremaining: 7.32s\n",
      "32:\tlearn: 0.3453386\ttotal: 1.08s\tremaining: 7.32s\n",
      "33:\tlearn: 0.3422411\ttotal: 1.12s\tremaining: 7.29s\n",
      "34:\tlearn: 0.3395582\ttotal: 1.14s\tremaining: 7.21s\n",
      "35:\tlearn: 0.3365103\ttotal: 1.17s\tremaining: 7.16s\n",
      "36:\tlearn: 0.3335049\ttotal: 1.2s\tremaining: 7.09s\n",
      "37:\tlearn: 0.3305159\ttotal: 1.22s\tremaining: 7.02s\n",
      "38:\tlearn: 0.3279205\ttotal: 1.25s\tremaining: 6.96s\n",
      "39:\tlearn: 0.3249059\ttotal: 1.28s\tremaining: 6.89s\n",
      "40:\tlearn: 0.3223280\ttotal: 1.3s\tremaining: 6.82s\n",
      "41:\tlearn: 0.3194602\ttotal: 1.32s\tremaining: 6.75s\n",
      "42:\tlearn: 0.3164005\ttotal: 1.35s\tremaining: 6.69s\n",
      "43:\tlearn: 0.3134876\ttotal: 1.38s\tremaining: 6.64s\n",
      "44:\tlearn: 0.3107584\ttotal: 1.4s\tremaining: 6.58s\n",
      "45:\tlearn: 0.3077729\ttotal: 1.43s\tremaining: 6.54s\n",
      "46:\tlearn: 0.3054365\ttotal: 1.46s\tremaining: 6.49s\n",
      "47:\tlearn: 0.3029273\ttotal: 1.49s\tremaining: 6.44s\n",
      "48:\tlearn: 0.3004835\ttotal: 1.51s\tremaining: 6.38s\n",
      "49:\tlearn: 0.2983277\ttotal: 1.54s\tremaining: 6.34s\n",
      "50:\tlearn: 0.2961524\ttotal: 1.56s\tremaining: 6.29s\n",
      "51:\tlearn: 0.2935637\ttotal: 1.59s\tremaining: 6.24s\n",
      "52:\tlearn: 0.2912478\ttotal: 1.62s\tremaining: 6.19s\n",
      "53:\tlearn: 0.2890214\ttotal: 1.64s\tremaining: 6.14s\n",
      "54:\tlearn: 0.2864741\ttotal: 1.67s\tremaining: 6.1s\n",
      "55:\tlearn: 0.2841216\ttotal: 1.7s\tremaining: 6.08s\n",
      "56:\tlearn: 0.2817526\ttotal: 1.74s\tremaining: 6.06s\n",
      "57:\tlearn: 0.2793290\ttotal: 1.76s\tremaining: 6.02s\n",
      "58:\tlearn: 0.2767880\ttotal: 1.79s\tremaining: 5.98s\n",
      "59:\tlearn: 0.2745254\ttotal: 1.83s\tremaining: 5.97s\n",
      "60:\tlearn: 0.2725543\ttotal: 1.86s\tremaining: 5.96s\n",
      "61:\tlearn: 0.2703842\ttotal: 1.89s\tremaining: 5.92s\n",
      "62:\tlearn: 0.2681975\ttotal: 1.92s\tremaining: 5.89s\n",
      "63:\tlearn: 0.2660160\ttotal: 1.95s\tremaining: 5.84s\n",
      "64:\tlearn: 0.2638774\ttotal: 1.97s\tremaining: 5.79s\n",
      "65:\tlearn: 0.2618956\ttotal: 2s\tremaining: 5.75s\n",
      "66:\tlearn: 0.2595952\ttotal: 2.02s\tremaining: 5.7s\n",
      "67:\tlearn: 0.2572993\ttotal: 2.05s\tremaining: 5.66s\n",
      "68:\tlearn: 0.2551354\ttotal: 2.08s\tremaining: 5.63s\n",
      "69:\tlearn: 0.2529929\ttotal: 2.1s\tremaining: 5.59s\n",
      "70:\tlearn: 0.2512841\ttotal: 2.13s\tremaining: 5.54s\n",
      "71:\tlearn: 0.2492688\ttotal: 2.15s\tremaining: 5.5s\n",
      "72:\tlearn: 0.2471320\ttotal: 2.18s\tremaining: 5.48s\n",
      "73:\tlearn: 0.2451892\ttotal: 2.21s\tremaining: 5.44s\n",
      "74:\tlearn: 0.2431548\ttotal: 2.24s\tremaining: 5.41s\n",
      "75:\tlearn: 0.2413346\ttotal: 2.27s\tremaining: 5.38s\n",
      "76:\tlearn: 0.2393439\ttotal: 2.3s\tremaining: 5.34s\n",
      "77:\tlearn: 0.2374681\ttotal: 2.33s\tremaining: 5.31s\n",
      "78:\tlearn: 0.2355990\ttotal: 2.36s\tremaining: 5.28s\n",
      "79:\tlearn: 0.2337230\ttotal: 2.39s\tremaining: 5.25s\n",
      "80:\tlearn: 0.2317456\ttotal: 2.42s\tremaining: 5.23s\n",
      "81:\tlearn: 0.2297660\ttotal: 2.45s\tremaining: 5.19s\n",
      "82:\tlearn: 0.2281491\ttotal: 2.47s\tremaining: 5.16s\n",
      "83:\tlearn: 0.2262876\ttotal: 2.5s\tremaining: 5.12s\n",
      "84:\tlearn: 0.2251714\ttotal: 2.52s\tremaining: 5.08s\n",
      "85:\tlearn: 0.2237911\ttotal: 2.55s\tremaining: 5.04s\n",
      "86:\tlearn: 0.2224202\ttotal: 2.57s\tremaining: 5s\n",
      "87:\tlearn: 0.2206070\ttotal: 2.6s\tremaining: 4.96s\n",
      "88:\tlearn: 0.2187635\ttotal: 2.63s\tremaining: 4.93s\n",
      "89:\tlearn: 0.2170024\ttotal: 2.65s\tremaining: 4.9s\n",
      "90:\tlearn: 0.2152318\ttotal: 2.68s\tremaining: 4.86s\n",
      "91:\tlearn: 0.2133437\ttotal: 2.71s\tremaining: 4.84s\n",
      "92:\tlearn: 0.2117254\ttotal: 2.74s\tremaining: 4.81s\n",
      "93:\tlearn: 0.2103612\ttotal: 2.78s\tremaining: 4.79s\n",
      "94:\tlearn: 0.2089562\ttotal: 2.81s\tremaining: 4.77s\n",
      "95:\tlearn: 0.2075297\ttotal: 2.84s\tremaining: 4.74s\n",
      "96:\tlearn: 0.2059209\ttotal: 2.87s\tremaining: 4.7s\n",
      "97:\tlearn: 0.2049124\ttotal: 2.9s\tremaining: 4.67s\n",
      "98:\tlearn: 0.2032696\ttotal: 2.92s\tremaining: 4.63s\n",
      "99:\tlearn: 0.2016964\ttotal: 2.95s\tremaining: 4.6s\n",
      "100:\tlearn: 0.2000993\ttotal: 2.98s\tremaining: 4.57s\n",
      "101:\tlearn: 0.1983026\ttotal: 3s\tremaining: 4.53s\n",
      "102:\tlearn: 0.1971904\ttotal: 3.03s\tremaining: 4.5s\n",
      "103:\tlearn: 0.1958350\ttotal: 3.06s\tremaining: 4.47s\n",
      "104:\tlearn: 0.1943856\ttotal: 3.09s\tremaining: 4.44s\n",
      "105:\tlearn: 0.1931390\ttotal: 3.11s\tremaining: 4.41s\n",
      "106:\tlearn: 0.1916881\ttotal: 3.14s\tremaining: 4.37s\n",
      "107:\tlearn: 0.1904321\ttotal: 3.17s\tremaining: 4.34s\n",
      "108:\tlearn: 0.1892751\ttotal: 3.19s\tremaining: 4.3s\n",
      "109:\tlearn: 0.1880280\ttotal: 3.21s\tremaining: 4.27s\n",
      "110:\tlearn: 0.1866754\ttotal: 3.25s\tremaining: 4.24s\n",
      "111:\tlearn: 0.1851725\ttotal: 3.28s\tremaining: 4.22s\n",
      "112:\tlearn: 0.1839760\ttotal: 3.31s\tremaining: 4.19s\n",
      "113:\tlearn: 0.1826074\ttotal: 3.34s\tremaining: 4.16s\n",
      "114:\tlearn: 0.1813201\ttotal: 3.36s\tremaining: 4.12s\n",
      "115:\tlearn: 0.1798380\ttotal: 3.39s\tremaining: 4.09s\n",
      "116:\tlearn: 0.1788288\ttotal: 3.42s\tremaining: 4.06s\n",
      "117:\tlearn: 0.1774074\ttotal: 3.44s\tremaining: 4.03s\n",
      "118:\tlearn: 0.1761513\ttotal: 3.48s\tremaining: 4s\n",
      "119:\tlearn: 0.1746079\ttotal: 3.51s\tremaining: 3.98s\n",
      "120:\tlearn: 0.1730291\ttotal: 3.54s\tremaining: 3.95s\n",
      "121:\tlearn: 0.1720959\ttotal: 3.56s\tremaining: 3.92s\n",
      "122:\tlearn: 0.1708341\ttotal: 3.6s\tremaining: 3.89s\n",
      "123:\tlearn: 0.1696658\ttotal: 3.62s\tremaining: 3.86s\n",
      "124:\tlearn: 0.1684734\ttotal: 3.65s\tremaining: 3.83s\n",
      "125:\tlearn: 0.1673263\ttotal: 3.68s\tremaining: 3.79s\n",
      "126:\tlearn: 0.1662075\ttotal: 3.7s\tremaining: 3.76s\n",
      "127:\tlearn: 0.1650898\ttotal: 3.73s\tremaining: 3.73s\n",
      "128:\tlearn: 0.1639643\ttotal: 3.76s\tremaining: 3.7s\n",
      "129:\tlearn: 0.1625923\ttotal: 3.79s\tremaining: 3.67s\n",
      "130:\tlearn: 0.1614846\ttotal: 3.82s\tremaining: 3.64s\n",
      "131:\tlearn: 0.1605394\ttotal: 3.85s\tremaining: 3.61s\n",
      "132:\tlearn: 0.1594757\ttotal: 3.87s\tremaining: 3.58s\n",
      "133:\tlearn: 0.1583875\ttotal: 3.9s\tremaining: 3.55s\n",
      "134:\tlearn: 0.1572975\ttotal: 3.92s\tremaining: 3.52s\n",
      "135:\tlearn: 0.1561556\ttotal: 3.95s\tremaining: 3.48s\n",
      "136:\tlearn: 0.1549710\ttotal: 3.98s\tremaining: 3.46s\n",
      "137:\tlearn: 0.1539384\ttotal: 4.01s\tremaining: 3.43s\n",
      "138:\tlearn: 0.1530093\ttotal: 4.04s\tremaining: 3.4s\n",
      "139:\tlearn: 0.1520026\ttotal: 4.07s\tremaining: 3.37s\n",
      "140:\tlearn: 0.1510931\ttotal: 4.1s\tremaining: 3.34s\n",
      "141:\tlearn: 0.1501390\ttotal: 4.12s\tremaining: 3.31s\n",
      "142:\tlearn: 0.1489868\ttotal: 4.15s\tremaining: 3.28s\n",
      "143:\tlearn: 0.1480430\ttotal: 4.18s\tremaining: 3.25s\n",
      "144:\tlearn: 0.1471745\ttotal: 4.2s\tremaining: 3.22s\n",
      "145:\tlearn: 0.1463833\ttotal: 4.23s\tremaining: 3.19s\n",
      "146:\tlearn: 0.1452178\ttotal: 4.26s\tremaining: 3.16s\n",
      "147:\tlearn: 0.1441231\ttotal: 4.29s\tremaining: 3.13s\n",
      "148:\tlearn: 0.1433383\ttotal: 4.31s\tremaining: 3.1s\n",
      "149:\tlearn: 0.1423116\ttotal: 4.33s\tremaining: 3.06s\n",
      "150:\tlearn: 0.1414664\ttotal: 4.36s\tremaining: 3.03s\n",
      "151:\tlearn: 0.1406413\ttotal: 4.38s\tremaining: 3s\n",
      "152:\tlearn: 0.1397847\ttotal: 4.41s\tremaining: 2.97s\n",
      "153:\tlearn: 0.1387733\ttotal: 4.43s\tremaining: 2.93s\n",
      "154:\tlearn: 0.1380159\ttotal: 4.45s\tremaining: 2.9s\n",
      "155:\tlearn: 0.1370219\ttotal: 4.48s\tremaining: 2.87s\n",
      "156:\tlearn: 0.1359802\ttotal: 4.5s\tremaining: 2.84s\n",
      "157:\tlearn: 0.1350487\ttotal: 4.53s\tremaining: 2.81s\n",
      "158:\tlearn: 0.1344214\ttotal: 4.55s\tremaining: 2.77s\n",
      "159:\tlearn: 0.1334860\ttotal: 4.57s\tremaining: 2.74s\n",
      "160:\tlearn: 0.1325264\ttotal: 4.6s\tremaining: 2.71s\n",
      "161:\tlearn: 0.1315756\ttotal: 4.62s\tremaining: 2.68s\n",
      "162:\tlearn: 0.1306392\ttotal: 4.65s\tremaining: 2.65s\n",
      "163:\tlearn: 0.1297027\ttotal: 4.68s\tremaining: 2.63s\n",
      "164:\tlearn: 0.1288194\ttotal: 4.71s\tremaining: 2.6s\n"
     ]
    },
    {
     "name": "stdout",
     "output_type": "stream",
     "text": [
      "165:\tlearn: 0.1279537\ttotal: 4.74s\tremaining: 2.57s\n",
      "166:\tlearn: 0.1271581\ttotal: 4.77s\tremaining: 2.54s\n",
      "167:\tlearn: 0.1262774\ttotal: 4.8s\tremaining: 2.51s\n",
      "168:\tlearn: 0.1253948\ttotal: 4.83s\tremaining: 2.49s\n",
      "169:\tlearn: 0.1245077\ttotal: 4.86s\tremaining: 2.46s\n",
      "170:\tlearn: 0.1239833\ttotal: 4.88s\tremaining: 2.43s\n",
      "171:\tlearn: 0.1232528\ttotal: 4.91s\tremaining: 2.4s\n",
      "172:\tlearn: 0.1226141\ttotal: 4.94s\tremaining: 2.37s\n",
      "173:\tlearn: 0.1218608\ttotal: 4.96s\tremaining: 2.34s\n",
      "174:\tlearn: 0.1210155\ttotal: 4.99s\tremaining: 2.31s\n",
      "175:\tlearn: 0.1202603\ttotal: 5.02s\tremaining: 2.28s\n",
      "176:\tlearn: 0.1195066\ttotal: 5.05s\tremaining: 2.25s\n",
      "177:\tlearn: 0.1187832\ttotal: 5.08s\tremaining: 2.23s\n",
      "178:\tlearn: 0.1179224\ttotal: 5.11s\tremaining: 2.2s\n",
      "179:\tlearn: 0.1170393\ttotal: 5.14s\tremaining: 2.17s\n",
      "180:\tlearn: 0.1161761\ttotal: 5.17s\tremaining: 2.14s\n",
      "181:\tlearn: 0.1154147\ttotal: 5.2s\tremaining: 2.11s\n",
      "182:\tlearn: 0.1145984\ttotal: 5.23s\tremaining: 2.08s\n",
      "183:\tlearn: 0.1138104\ttotal: 5.26s\tremaining: 2.06s\n",
      "184:\tlearn: 0.1130381\ttotal: 5.28s\tremaining: 2.03s\n",
      "185:\tlearn: 0.1125017\ttotal: 5.32s\tremaining: 2s\n",
      "186:\tlearn: 0.1118230\ttotal: 5.35s\tremaining: 1.97s\n",
      "187:\tlearn: 0.1112004\ttotal: 5.37s\tremaining: 1.94s\n",
      "188:\tlearn: 0.1104190\ttotal: 5.4s\tremaining: 1.91s\n",
      "189:\tlearn: 0.1096538\ttotal: 5.42s\tremaining: 1.88s\n",
      "190:\tlearn: 0.1091684\ttotal: 5.45s\tremaining: 1.85s\n",
      "191:\tlearn: 0.1084411\ttotal: 5.48s\tremaining: 1.83s\n",
      "192:\tlearn: 0.1078570\ttotal: 5.51s\tremaining: 1.8s\n",
      "193:\tlearn: 0.1072408\ttotal: 5.53s\tremaining: 1.77s\n",
      "194:\tlearn: 0.1066102\ttotal: 5.56s\tremaining: 1.74s\n",
      "195:\tlearn: 0.1059402\ttotal: 5.59s\tremaining: 1.71s\n",
      "196:\tlearn: 0.1053136\ttotal: 5.62s\tremaining: 1.68s\n",
      "197:\tlearn: 0.1047292\ttotal: 5.64s\tremaining: 1.65s\n",
      "198:\tlearn: 0.1040845\ttotal: 5.67s\tremaining: 1.63s\n",
      "199:\tlearn: 0.1033090\ttotal: 5.71s\tremaining: 1.6s\n",
      "200:\tlearn: 0.1027660\ttotal: 5.73s\tremaining: 1.57s\n",
      "201:\tlearn: 0.1021111\ttotal: 5.75s\tremaining: 1.54s\n",
      "202:\tlearn: 0.1014478\ttotal: 5.78s\tremaining: 1.51s\n",
      "203:\tlearn: 0.1008157\ttotal: 5.81s\tremaining: 1.48s\n",
      "204:\tlearn: 0.1002365\ttotal: 5.84s\tremaining: 1.45s\n",
      "205:\tlearn: 0.0996517\ttotal: 5.87s\tremaining: 1.42s\n",
      "206:\tlearn: 0.0989423\ttotal: 5.9s\tremaining: 1.4s\n",
      "207:\tlearn: 0.0982697\ttotal: 5.93s\tremaining: 1.37s\n",
      "208:\tlearn: 0.0978171\ttotal: 5.95s\tremaining: 1.34s\n",
      "209:\tlearn: 0.0972965\ttotal: 5.98s\tremaining: 1.31s\n",
      "210:\tlearn: 0.0967301\ttotal: 6.01s\tremaining: 1.28s\n",
      "211:\tlearn: 0.0961729\ttotal: 6.04s\tremaining: 1.25s\n",
      "212:\tlearn: 0.0956056\ttotal: 6.07s\tremaining: 1.23s\n",
      "213:\tlearn: 0.0950523\ttotal: 6.1s\tremaining: 1.2s\n",
      "214:\tlearn: 0.0944480\ttotal: 6.13s\tremaining: 1.17s\n",
      "215:\tlearn: 0.0938627\ttotal: 6.16s\tremaining: 1.14s\n",
      "216:\tlearn: 0.0933148\ttotal: 6.18s\tremaining: 1.11s\n",
      "217:\tlearn: 0.0927571\ttotal: 6.21s\tremaining: 1.08s\n",
      "218:\tlearn: 0.0922119\ttotal: 6.24s\tremaining: 1.05s\n",
      "219:\tlearn: 0.0917667\ttotal: 6.27s\tremaining: 1.02s\n",
      "220:\tlearn: 0.0911699\ttotal: 6.29s\tremaining: 997ms\n",
      "221:\tlearn: 0.0907039\ttotal: 6.32s\tremaining: 968ms\n",
      "222:\tlearn: 0.0902111\ttotal: 6.35s\tremaining: 940ms\n",
      "223:\tlearn: 0.0896832\ttotal: 6.38s\tremaining: 912ms\n",
      "224:\tlearn: 0.0890664\ttotal: 6.41s\tremaining: 883ms\n",
      "225:\tlearn: 0.0884482\ttotal: 6.44s\tremaining: 855ms\n",
      "226:\tlearn: 0.0878845\ttotal: 6.47s\tremaining: 827ms\n",
      "227:\tlearn: 0.0874503\ttotal: 6.5s\tremaining: 798ms\n",
      "228:\tlearn: 0.0868753\ttotal: 6.52s\tremaining: 769ms\n",
      "229:\tlearn: 0.0863292\ttotal: 6.55s\tremaining: 741ms\n",
      "230:\tlearn: 0.0857651\ttotal: 6.58s\tremaining: 713ms\n",
      "231:\tlearn: 0.0852397\ttotal: 6.61s\tremaining: 684ms\n",
      "232:\tlearn: 0.0846847\ttotal: 6.64s\tremaining: 656ms\n",
      "233:\tlearn: 0.0843130\ttotal: 6.67s\tremaining: 627ms\n",
      "234:\tlearn: 0.0838448\ttotal: 6.7s\tremaining: 599ms\n",
      "235:\tlearn: 0.0834525\ttotal: 6.73s\tremaining: 570ms\n",
      "236:\tlearn: 0.0829855\ttotal: 6.75s\tremaining: 541ms\n",
      "237:\tlearn: 0.0824580\ttotal: 6.78s\tremaining: 513ms\n",
      "238:\tlearn: 0.0820734\ttotal: 6.81s\tremaining: 484ms\n",
      "239:\tlearn: 0.0817545\ttotal: 6.83s\tremaining: 456ms\n",
      "240:\tlearn: 0.0813115\ttotal: 6.86s\tremaining: 427ms\n",
      "241:\tlearn: 0.0810162\ttotal: 6.89s\tremaining: 399ms\n",
      "242:\tlearn: 0.0805066\ttotal: 6.92s\tremaining: 370ms\n",
      "243:\tlearn: 0.0800076\ttotal: 6.95s\tremaining: 342ms\n",
      "244:\tlearn: 0.0796072\ttotal: 6.97s\tremaining: 313ms\n",
      "245:\tlearn: 0.0791410\ttotal: 7.01s\tremaining: 285ms\n",
      "246:\tlearn: 0.0787087\ttotal: 7.04s\tremaining: 256ms\n",
      "247:\tlearn: 0.0781757\ttotal: 7.06s\tremaining: 228ms\n",
      "248:\tlearn: 0.0777224\ttotal: 7.09s\tremaining: 199ms\n",
      "249:\tlearn: 0.0772602\ttotal: 7.12s\tremaining: 171ms\n",
      "250:\tlearn: 0.0767904\ttotal: 7.15s\tremaining: 142ms\n",
      "251:\tlearn: 0.0764474\ttotal: 7.17s\tremaining: 114ms\n",
      "252:\tlearn: 0.0758970\ttotal: 7.2s\tremaining: 85.4ms\n",
      "253:\tlearn: 0.0754491\ttotal: 7.24s\tremaining: 57ms\n",
      "254:\tlearn: 0.0750389\ttotal: 7.26s\tremaining: 28.5ms\n",
      "255:\tlearn: 0.0747089\ttotal: 7.29s\tremaining: 0us\n",
      "\n",
      " Time taken: 0 hours 2 minutes and 36.76 seconds.\n",
      "\n",
      " Best f1 score with 5-folds and 4 combinations of hyperparameters:\n",
      "0.7588970259609568\n",
      "\n",
      " Best hyperparameters:\n",
      "{'random_strength': 0, 'learning_rate': 0.3, 'l2_leaf_reg': 5, 'iterations': 256, 'depth': 5, 'border_count': 10}\n"
     ]
    }
   ],
   "source": [
    "random_search(x_processed, y['target'], catboost, params_cb,5,4)"
   ]
  },
  {
   "cell_type": "markdown",
   "metadata": {},
   "source": [
    "<h5>Grid Search"
   ]
  },
  {
   "cell_type": "code",
   "execution_count": null,
   "metadata": {},
   "outputs": [],
   "source": [
    "GridSearch(x_processed, y, catboost, params_cb)"
   ]
  },
  {
   "cell_type": "markdown",
   "metadata": {},
   "source": [
    "<h5>Bayesian Optimization"
   ]
  },
  {
   "cell_type": "code",
   "execution_count": null,
   "metadata": {},
   "outputs": [],
   "source": []
  },
  {
   "cell_type": "markdown",
   "metadata": {},
   "source": [
    "<h3><strong>MNB"
   ]
  },
  {
   "cell_type": "code",
   "execution_count": 91,
   "metadata": {},
   "outputs": [],
   "source": [
    "MultiNB = MultinomialNB()"
   ]
  },
  {
   "cell_type": "markdown",
   "metadata": {},
   "source": [
    "<h5>Random Search"
   ]
  },
  {
   "cell_type": "code",
   "execution_count": null,
   "metadata": {},
   "outputs": [],
   "source": []
  },
  {
   "cell_type": "markdown",
   "metadata": {},
   "source": [
    "<h5>Grid Search"
   ]
  },
  {
   "cell_type": "code",
   "execution_count": null,
   "metadata": {},
   "outputs": [],
   "source": []
  },
  {
   "cell_type": "markdown",
   "metadata": {},
   "source": [
    "<h5>Bayesian Optimization"
   ]
  },
  {
   "cell_type": "code",
   "execution_count": null,
   "metadata": {},
   "outputs": [],
   "source": []
  },
  {
   "cell_type": "markdown",
   "metadata": {},
   "source": [
    "<h3><strong>CNN"
   ]
  },
  {
   "cell_type": "code",
   "execution_count": null,
   "metadata": {},
   "outputs": [],
   "source": []
  },
  {
   "cell_type": "markdown",
   "metadata": {},
   "source": [
    "<h5>Random Search"
   ]
  },
  {
   "cell_type": "code",
   "execution_count": null,
   "metadata": {},
   "outputs": [],
   "source": []
  },
  {
   "cell_type": "markdown",
   "metadata": {},
   "source": [
    "<h5>Grid Search"
   ]
  },
  {
   "cell_type": "code",
   "execution_count": null,
   "metadata": {},
   "outputs": [],
   "source": []
  },
  {
   "cell_type": "markdown",
   "metadata": {},
   "source": [
    "<h5>Bayesian Optimization"
   ]
  },
  {
   "cell_type": "code",
   "execution_count": null,
   "metadata": {},
   "outputs": [],
   "source": []
  },
  {
   "cell_type": "markdown",
   "metadata": {},
   "source": [
    "<h3><strong>GRU"
   ]
  },
  {
   "cell_type": "code",
   "execution_count": null,
   "metadata": {},
   "outputs": [],
   "source": []
  },
  {
   "cell_type": "markdown",
   "metadata": {},
   "source": [
    "<h5>Random Search"
   ]
  },
  {
   "cell_type": "code",
   "execution_count": null,
   "metadata": {},
   "outputs": [],
   "source": []
  },
  {
   "cell_type": "markdown",
   "metadata": {},
   "source": [
    "<h5>Grid Search"
   ]
  },
  {
   "cell_type": "code",
   "execution_count": null,
   "metadata": {},
   "outputs": [],
   "source": []
  },
  {
   "cell_type": "markdown",
   "metadata": {},
   "source": [
    "<h5>Bayesian Optimization"
   ]
  },
  {
   "cell_type": "code",
   "execution_count": null,
   "metadata": {},
   "outputs": [],
   "source": []
  },
  {
   "cell_type": "markdown",
   "metadata": {},
   "source": [
    "<h3><strong>KNN"
   ]
  },
  {
   "cell_type": "code",
   "execution_count": null,
   "metadata": {},
   "outputs": [],
   "source": []
  },
  {
   "cell_type": "code",
   "execution_count": null,
   "metadata": {},
   "outputs": [],
   "source": [
    "params_knn= [{'n_neighbors': np.arange(1,30)},\n",
    "   {'algorithm': ['auto', 'ball_tree', 'kd_tree', 'brute']},\n",
    "   {'metric': ['euclidean', 'manhattan', 'chebyshev', 'minkowski']}]"
   ]
  },
  {
   "cell_type": "markdown",
   "metadata": {},
   "source": [
    "<h5>Random Search"
   ]
  },
  {
   "cell_type": "code",
   "execution_count": null,
   "metadata": {},
   "outputs": [],
   "source": []
  },
  {
   "cell_type": "markdown",
   "metadata": {},
   "source": [
    "<h5>Grid Search"
   ]
  },
  {
   "cell_type": "code",
   "execution_count": null,
   "metadata": {},
   "outputs": [],
   "source": []
  },
  {
   "cell_type": "markdown",
   "metadata": {},
   "source": [
    "<h5>Bayesian Optimization"
   ]
  },
  {
   "cell_type": "code",
   "execution_count": null,
   "metadata": {},
   "outputs": [],
   "source": []
  },
  {
   "cell_type": "markdown",
   "metadata": {},
   "source": [
    "<h3><strong>LightGBM"
   ]
  },
  {
   "cell_type": "code",
   "execution_count": null,
   "metadata": {},
   "outputs": [],
   "source": []
  },
  {
   "cell_type": "code",
   "execution_count": null,
   "metadata": {},
   "outputs": [],
   "source": [
    "params_lgbm =  {'objective':['binary'],\n",
    "                             'learning_rate':[0.005,0.01,0.05,0.1,0.3],\n",
    "                             'n_estimators':np.arange(25,200,15),\n",
    "                             'num_leaves': np.arange(24, 45,3),\n",
    "                             'feature_fraction': np.arange(0.1, 0.91, 0.2),   \n",
    "                             'bagging_fraction': np.arange(0.8, 1.01, 0.1),\n",
    "                             'max_depth': np.arange(3, 12, 1),\n",
    "                             'lambda_l2': np.arange(0, 3),\n",
    "                             'min_split_gain': [0.001, 0.01, 0.1],\n",
    "                             'min_child_weight': [1e-05]+np.arange(5, 11)\n",
    "                             }"
   ]
  },
  {
   "cell_type": "markdown",
   "metadata": {},
   "source": [
    "<h5>Random Search"
   ]
  },
  {
   "cell_type": "code",
   "execution_count": null,
   "metadata": {},
   "outputs": [],
   "source": []
  },
  {
   "cell_type": "markdown",
   "metadata": {},
   "source": [
    "<h5>Grid Search"
   ]
  },
  {
   "cell_type": "code",
   "execution_count": null,
   "metadata": {},
   "outputs": [],
   "source": []
  },
  {
   "cell_type": "markdown",
   "metadata": {},
   "source": [
    "<h5>Bayesian Optimization"
   ]
  },
  {
   "cell_type": "code",
   "execution_count": null,
   "metadata": {},
   "outputs": [],
   "source": []
  },
  {
   "cell_type": "markdown",
   "metadata": {},
   "source": [
    "<h3><strong>LSTM"
   ]
  },
  {
   "cell_type": "code",
   "execution_count": null,
   "metadata": {},
   "outputs": [],
   "source": []
  },
  {
   "cell_type": "markdown",
   "metadata": {},
   "source": [
    "<h5>Random Search"
   ]
  },
  {
   "cell_type": "code",
   "execution_count": null,
   "metadata": {},
   "outputs": [],
   "source": []
  },
  {
   "cell_type": "markdown",
   "metadata": {},
   "source": [
    "<h5>Grid Search"
   ]
  },
  {
   "cell_type": "code",
   "execution_count": null,
   "metadata": {},
   "outputs": [],
   "source": []
  },
  {
   "cell_type": "markdown",
   "metadata": {},
   "source": [
    "<h5>Bayesian Optimization"
   ]
  },
  {
   "cell_type": "code",
   "execution_count": null,
   "metadata": {},
   "outputs": [],
   "source": []
  },
  {
   "cell_type": "markdown",
   "metadata": {},
   "source": [
    "<h3><strong>NN"
   ]
  },
  {
   "cell_type": "code",
   "execution_count": null,
   "metadata": {},
   "outputs": [],
   "source": []
  },
  {
   "cell_type": "markdown",
   "metadata": {},
   "source": [
    "<h5>Random Search"
   ]
  },
  {
   "cell_type": "code",
   "execution_count": null,
   "metadata": {},
   "outputs": [],
   "source": []
  },
  {
   "cell_type": "markdown",
   "metadata": {},
   "source": [
    "<h5>Grid Search"
   ]
  },
  {
   "cell_type": "code",
   "execution_count": null,
   "metadata": {},
   "outputs": [],
   "source": []
  },
  {
   "cell_type": "markdown",
   "metadata": {},
   "source": [
    "<h5>Bayesian Optimization"
   ]
  },
  {
   "cell_type": "code",
   "execution_count": null,
   "metadata": {},
   "outputs": [],
   "source": []
  },
  {
   "cell_type": "markdown",
   "metadata": {},
   "source": [
    "<h3><strong>XGBoost"
   ]
  },
  {
   "cell_type": "markdown",
   "metadata": {},
   "source": []
  },
  {
   "cell_type": "code",
   "execution_count": null,
   "metadata": {},
   "outputs": [],
   "source": [
    "params_xgb = [{'objective': ['binary:logistic','reg:linear'],'learning_rate':np.arange(0.1,0.5,0.1)},\n",
    "              {'n_estimators':np.arange(16,116,15)},\n",
    "              {'scale_pos_weight':np.arange(2,6,1)},\n",
    "              {'max_depth':np.arange(4,12,1),'min_child_weight':np.arange(1,10,1)},\n",
    "              {'gamma':np.arange(0,0.5,0.1)},\n",
    "              {'subsample':np.arange(0.6,1,0.1),'colsample_bytree':np.arange(0.6,0.91,0.05)},\n",
    "              {'colsample_bylevel':np.arange(0.6,0.91,0.05)}]"
   ]
  },
  {
   "cell_type": "markdown",
   "metadata": {},
   "source": [
    "<h5>Random Search"
   ]
  },
  {
   "cell_type": "code",
   "execution_count": null,
   "metadata": {},
   "outputs": [],
   "source": []
  },
  {
   "cell_type": "markdown",
   "metadata": {},
   "source": [
    "<h5>Grid Search"
   ]
  },
  {
   "cell_type": "code",
   "execution_count": null,
   "metadata": {},
   "outputs": [],
   "source": []
  },
  {
   "cell_type": "markdown",
   "metadata": {},
   "source": [
    "<h5>Bayesian Optimization"
   ]
  },
  {
   "cell_type": "code",
   "execution_count": null,
   "metadata": {},
   "outputs": [],
   "source": []
  }
 ],
 "metadata": {
  "kernelspec": {
   "display_name": "Python 3",
   "language": "python",
   "name": "python3"
  },
  "language_info": {
   "codemirror_mode": {
    "name": "ipython",
    "version": 3
   },
   "file_extension": ".py",
   "mimetype": "text/x-python",
   "name": "python",
   "nbconvert_exporter": "python",
   "pygments_lexer": "ipython3",
   "version": "3.8.4"
  }
 },
 "nbformat": 4,
 "nbformat_minor": 4
}
