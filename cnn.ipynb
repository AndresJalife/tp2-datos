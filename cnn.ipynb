{
 "cells": [
  {
   "cell_type": "code",
   "execution_count": 1,
   "metadata": {},
   "outputs": [],
   "source": [
    "import pandas as pd\n",
    "import numpy as np\n",
    "import keras\n",
    "from keras.models import Sequential\n",
    "from keras.layers import Dense, Conv1D, Flatten, MaxPooling1D, Embedding, GlobalMaxPooling1D, Dropout, Input\n",
    "import matplotlib.pyplot as plt\n",
    "from util import plot_history\n",
    "import util\n",
    "import feature_builder\n",
    "from sklearn.model_selection import train_test_split\n",
    "from sklearn.metrics import f1_score"
   ]
  },
  {
   "cell_type": "markdown",
   "metadata": {},
   "source": [
    "Cargo datasets"
   ]
  },
  {
   "cell_type": "code",
   "execution_count": 2,
   "metadata": {},
   "outputs": [],
   "source": [
    "train_df = pd.read_csv('train.csv')\n",
    "test_df = pd.read_csv('test.csv')"
   ]
  },
  {
   "cell_type": "markdown",
   "metadata": {},
   "source": [
    "Armo features con el feature_builder"
   ]
  },
  {
   "cell_type": "code",
   "execution_count": 3,
   "metadata": {},
   "outputs": [],
   "source": [
    "def prepare_for_cnn(df):\n",
    "    processed = feature_builder.process_dataset(\n",
    "        df,\n",
    "        encoding_type='binary',\n",
    "        text_type='embeddings',\n",
    "        use_spacy=True\n",
    "    )\n",
    "    to_numpy = processed.to_numpy()\n",
    "    to_numpy = to_numpy.reshape(processed.shape[0], processed.shape[1], 1)\n",
    "    return processed, to_numpy"
   ]
  },
  {
   "cell_type": "code",
   "execution_count": 21,
   "metadata": {},
   "outputs": [
    {
     "name": "stdout",
     "output_type": "stream",
     "text": [
      "Percentage of words covered in the embeddings = 0.4937444933920705\n",
      "Percentage of words covered in the embeddings = 0.5961027457927369\n",
      "Wall time: 1min 9s\n"
     ]
    }
   ],
   "source": [
    "%%time\n",
    "processed, train = prepare_for_cnn(train_df)\n",
    "train_target = train_df['target'].values"
   ]
  },
  {
   "cell_type": "code",
   "execution_count": 20,
   "metadata": {},
   "outputs": [
    {
     "data": {
      "text/html": [
       "<div>\n",
       "<style scoped>\n",
       "    .dataframe tbody tr th:only-of-type {\n",
       "        vertical-align: middle;\n",
       "    }\n",
       "\n",
       "    .dataframe tbody tr th {\n",
       "        vertical-align: top;\n",
       "    }\n",
       "\n",
       "    .dataframe thead th {\n",
       "        text-align: right;\n",
       "    }\n",
       "</style>\n",
       "<table border=\"1\" class=\"dataframe\">\n",
       "  <thead>\n",
       "    <tr style=\"text-align: right;\">\n",
       "      <th></th>\n",
       "      <th>invalid_location_character_count</th>\n",
       "      <th>location_is_place</th>\n",
       "      <th>c0</th>\n",
       "      <th>c1</th>\n",
       "      <th>c2</th>\n",
       "      <th>c3</th>\n",
       "      <th>c4</th>\n",
       "      <th>c5</th>\n",
       "      <th>c6</th>\n",
       "      <th>c7</th>\n",
       "      <th>...</th>\n",
       "      <th>spacy_text_embedding_290</th>\n",
       "      <th>spacy_text_embedding_291</th>\n",
       "      <th>spacy_text_embedding_292</th>\n",
       "      <th>spacy_text_embedding_293</th>\n",
       "      <th>spacy_text_embedding_294</th>\n",
       "      <th>spacy_text_embedding_295</th>\n",
       "      <th>spacy_text_embedding_296</th>\n",
       "      <th>spacy_text_embedding_297</th>\n",
       "      <th>spacy_text_embedding_298</th>\n",
       "      <th>spacy_text_embedding_299</th>\n",
       "    </tr>\n",
       "  </thead>\n",
       "  <tbody>\n",
       "    <tr>\n",
       "      <th>0</th>\n",
       "      <td>0</td>\n",
       "      <td>0</td>\n",
       "      <td>0</td>\n",
       "      <td>0</td>\n",
       "      <td>0</td>\n",
       "      <td>0</td>\n",
       "      <td>0</td>\n",
       "      <td>0</td>\n",
       "      <td>0</td>\n",
       "      <td>0</td>\n",
       "      <td>...</td>\n",
       "      <td>-0.065948</td>\n",
       "      <td>0.016541</td>\n",
       "      <td>-0.029419</td>\n",
       "      <td>0.201294</td>\n",
       "      <td>-0.134033</td>\n",
       "      <td>-0.022797</td>\n",
       "      <td>-0.096130</td>\n",
       "      <td>-0.082275</td>\n",
       "      <td>0.024780</td>\n",
       "      <td>-0.035091</td>\n",
       "    </tr>\n",
       "    <tr>\n",
       "      <th>1</th>\n",
       "      <td>0</td>\n",
       "      <td>0</td>\n",
       "      <td>0</td>\n",
       "      <td>0</td>\n",
       "      <td>0</td>\n",
       "      <td>0</td>\n",
       "      <td>0</td>\n",
       "      <td>0</td>\n",
       "      <td>0</td>\n",
       "      <td>0</td>\n",
       "      <td>...</td>\n",
       "      <td>-0.103048</td>\n",
       "      <td>-0.008789</td>\n",
       "      <td>-0.073283</td>\n",
       "      <td>0.087118</td>\n",
       "      <td>0.050903</td>\n",
       "      <td>0.021362</td>\n",
       "      <td>-0.066895</td>\n",
       "      <td>-0.053345</td>\n",
       "      <td>-0.035055</td>\n",
       "      <td>-0.015259</td>\n",
       "    </tr>\n",
       "    <tr>\n",
       "      <th>2</th>\n",
       "      <td>0</td>\n",
       "      <td>0</td>\n",
       "      <td>0</td>\n",
       "      <td>0</td>\n",
       "      <td>0</td>\n",
       "      <td>0</td>\n",
       "      <td>0</td>\n",
       "      <td>0</td>\n",
       "      <td>0</td>\n",
       "      <td>0</td>\n",
       "      <td>...</td>\n",
       "      <td>-0.099365</td>\n",
       "      <td>-0.028531</td>\n",
       "      <td>-0.146620</td>\n",
       "      <td>0.124478</td>\n",
       "      <td>0.018745</td>\n",
       "      <td>0.093262</td>\n",
       "      <td>0.000203</td>\n",
       "      <td>-0.068373</td>\n",
       "      <td>0.106174</td>\n",
       "      <td>0.032135</td>\n",
       "    </tr>\n",
       "    <tr>\n",
       "      <th>3</th>\n",
       "      <td>0</td>\n",
       "      <td>0</td>\n",
       "      <td>0</td>\n",
       "      <td>0</td>\n",
       "      <td>0</td>\n",
       "      <td>0</td>\n",
       "      <td>0</td>\n",
       "      <td>0</td>\n",
       "      <td>0</td>\n",
       "      <td>0</td>\n",
       "      <td>...</td>\n",
       "      <td>-0.045573</td>\n",
       "      <td>-0.119141</td>\n",
       "      <td>0.007790</td>\n",
       "      <td>0.326172</td>\n",
       "      <td>0.279622</td>\n",
       "      <td>0.003174</td>\n",
       "      <td>-0.174154</td>\n",
       "      <td>-0.052409</td>\n",
       "      <td>0.009115</td>\n",
       "      <td>0.055501</td>\n",
       "    </tr>\n",
       "    <tr>\n",
       "      <th>4</th>\n",
       "      <td>0</td>\n",
       "      <td>0</td>\n",
       "      <td>0</td>\n",
       "      <td>0</td>\n",
       "      <td>0</td>\n",
       "      <td>0</td>\n",
       "      <td>0</td>\n",
       "      <td>0</td>\n",
       "      <td>0</td>\n",
       "      <td>0</td>\n",
       "      <td>...</td>\n",
       "      <td>0.103882</td>\n",
       "      <td>-0.007446</td>\n",
       "      <td>-0.152100</td>\n",
       "      <td>0.100342</td>\n",
       "      <td>-0.039429</td>\n",
       "      <td>0.087555</td>\n",
       "      <td>-0.188110</td>\n",
       "      <td>0.112869</td>\n",
       "      <td>0.039062</td>\n",
       "      <td>0.046783</td>\n",
       "    </tr>\n",
       "    <tr>\n",
       "      <th>...</th>\n",
       "      <td>...</td>\n",
       "      <td>...</td>\n",
       "      <td>...</td>\n",
       "      <td>...</td>\n",
       "      <td>...</td>\n",
       "      <td>...</td>\n",
       "      <td>...</td>\n",
       "      <td>...</td>\n",
       "      <td>...</td>\n",
       "      <td>...</td>\n",
       "      <td>...</td>\n",
       "      <td>...</td>\n",
       "      <td>...</td>\n",
       "      <td>...</td>\n",
       "      <td>...</td>\n",
       "      <td>...</td>\n",
       "      <td>...</td>\n",
       "      <td>...</td>\n",
       "      <td>...</td>\n",
       "      <td>...</td>\n",
       "      <td>...</td>\n",
       "    </tr>\n",
       "    <tr>\n",
       "      <th>3258</th>\n",
       "      <td>0</td>\n",
       "      <td>0</td>\n",
       "      <td>0</td>\n",
       "      <td>0</td>\n",
       "      <td>0</td>\n",
       "      <td>0</td>\n",
       "      <td>0</td>\n",
       "      <td>0</td>\n",
       "      <td>0</td>\n",
       "      <td>0</td>\n",
       "      <td>...</td>\n",
       "      <td>-0.019643</td>\n",
       "      <td>-0.027425</td>\n",
       "      <td>-0.088216</td>\n",
       "      <td>0.140259</td>\n",
       "      <td>0.053004</td>\n",
       "      <td>0.038127</td>\n",
       "      <td>-0.009115</td>\n",
       "      <td>-0.041951</td>\n",
       "      <td>-0.016642</td>\n",
       "      <td>-0.073298</td>\n",
       "    </tr>\n",
       "    <tr>\n",
       "      <th>3259</th>\n",
       "      <td>0</td>\n",
       "      <td>0</td>\n",
       "      <td>0</td>\n",
       "      <td>0</td>\n",
       "      <td>0</td>\n",
       "      <td>0</td>\n",
       "      <td>0</td>\n",
       "      <td>0</td>\n",
       "      <td>0</td>\n",
       "      <td>0</td>\n",
       "      <td>...</td>\n",
       "      <td>-0.010395</td>\n",
       "      <td>0.092642</td>\n",
       "      <td>-0.119723</td>\n",
       "      <td>0.056678</td>\n",
       "      <td>-0.038451</td>\n",
       "      <td>-0.008188</td>\n",
       "      <td>-0.197838</td>\n",
       "      <td>0.001563</td>\n",
       "      <td>-0.042161</td>\n",
       "      <td>0.055533</td>\n",
       "    </tr>\n",
       "    <tr>\n",
       "      <th>3260</th>\n",
       "      <td>0</td>\n",
       "      <td>0</td>\n",
       "      <td>0</td>\n",
       "      <td>0</td>\n",
       "      <td>0</td>\n",
       "      <td>0</td>\n",
       "      <td>0</td>\n",
       "      <td>0</td>\n",
       "      <td>0</td>\n",
       "      <td>0</td>\n",
       "      <td>...</td>\n",
       "      <td>0.034895</td>\n",
       "      <td>0.042254</td>\n",
       "      <td>-0.021009</td>\n",
       "      <td>0.150600</td>\n",
       "      <td>0.022862</td>\n",
       "      <td>-0.101911</td>\n",
       "      <td>0.003104</td>\n",
       "      <td>-0.039464</td>\n",
       "      <td>0.002563</td>\n",
       "      <td>0.060952</td>\n",
       "    </tr>\n",
       "    <tr>\n",
       "      <th>3261</th>\n",
       "      <td>0</td>\n",
       "      <td>0</td>\n",
       "      <td>0</td>\n",
       "      <td>0</td>\n",
       "      <td>0</td>\n",
       "      <td>0</td>\n",
       "      <td>0</td>\n",
       "      <td>0</td>\n",
       "      <td>0</td>\n",
       "      <td>0</td>\n",
       "      <td>...</td>\n",
       "      <td>0.091390</td>\n",
       "      <td>0.099274</td>\n",
       "      <td>-0.108032</td>\n",
       "      <td>-0.043513</td>\n",
       "      <td>0.028402</td>\n",
       "      <td>0.013509</td>\n",
       "      <td>-0.000753</td>\n",
       "      <td>0.020945</td>\n",
       "      <td>0.164876</td>\n",
       "      <td>-0.098124</td>\n",
       "    </tr>\n",
       "    <tr>\n",
       "      <th>3262</th>\n",
       "      <td>0</td>\n",
       "      <td>0</td>\n",
       "      <td>0</td>\n",
       "      <td>0</td>\n",
       "      <td>0</td>\n",
       "      <td>0</td>\n",
       "      <td>0</td>\n",
       "      <td>0</td>\n",
       "      <td>0</td>\n",
       "      <td>0</td>\n",
       "      <td>...</td>\n",
       "      <td>-0.094849</td>\n",
       "      <td>-0.118713</td>\n",
       "      <td>-0.009216</td>\n",
       "      <td>-0.037354</td>\n",
       "      <td>0.007416</td>\n",
       "      <td>0.110413</td>\n",
       "      <td>-0.198853</td>\n",
       "      <td>-0.129517</td>\n",
       "      <td>-0.029053</td>\n",
       "      <td>-0.086548</td>\n",
       "    </tr>\n",
       "  </tbody>\n",
       "</table>\n",
       "<p>3263 rows × 640 columns</p>\n",
       "</div>"
      ],
      "text/plain": [
       "      invalid_location_character_count  location_is_place  c0  c1  c2  c3  c4  \\\n",
       "0                                    0                  0   0   0   0   0   0   \n",
       "1                                    0                  0   0   0   0   0   0   \n",
       "2                                    0                  0   0   0   0   0   0   \n",
       "3                                    0                  0   0   0   0   0   0   \n",
       "4                                    0                  0   0   0   0   0   0   \n",
       "...                                ...                ...  ..  ..  ..  ..  ..   \n",
       "3258                                 0                  0   0   0   0   0   0   \n",
       "3259                                 0                  0   0   0   0   0   0   \n",
       "3260                                 0                  0   0   0   0   0   0   \n",
       "3261                                 0                  0   0   0   0   0   0   \n",
       "3262                                 0                  0   0   0   0   0   0   \n",
       "\n",
       "      c5  c6  c7  ...  spacy_text_embedding_290  spacy_text_embedding_291  \\\n",
       "0      0   0   0  ...                 -0.065948                  0.016541   \n",
       "1      0   0   0  ...                 -0.103048                 -0.008789   \n",
       "2      0   0   0  ...                 -0.099365                 -0.028531   \n",
       "3      0   0   0  ...                 -0.045573                 -0.119141   \n",
       "4      0   0   0  ...                  0.103882                 -0.007446   \n",
       "...   ..  ..  ..  ...                       ...                       ...   \n",
       "3258   0   0   0  ...                 -0.019643                 -0.027425   \n",
       "3259   0   0   0  ...                 -0.010395                  0.092642   \n",
       "3260   0   0   0  ...                  0.034895                  0.042254   \n",
       "3261   0   0   0  ...                  0.091390                  0.099274   \n",
       "3262   0   0   0  ...                 -0.094849                 -0.118713   \n",
       "\n",
       "      spacy_text_embedding_292  spacy_text_embedding_293  \\\n",
       "0                    -0.029419                  0.201294   \n",
       "1                    -0.073283                  0.087118   \n",
       "2                    -0.146620                  0.124478   \n",
       "3                     0.007790                  0.326172   \n",
       "4                    -0.152100                  0.100342   \n",
       "...                        ...                       ...   \n",
       "3258                 -0.088216                  0.140259   \n",
       "3259                 -0.119723                  0.056678   \n",
       "3260                 -0.021009                  0.150600   \n",
       "3261                 -0.108032                 -0.043513   \n",
       "3262                 -0.009216                 -0.037354   \n",
       "\n",
       "      spacy_text_embedding_294  spacy_text_embedding_295  \\\n",
       "0                    -0.134033                 -0.022797   \n",
       "1                     0.050903                  0.021362   \n",
       "2                     0.018745                  0.093262   \n",
       "3                     0.279622                  0.003174   \n",
       "4                    -0.039429                  0.087555   \n",
       "...                        ...                       ...   \n",
       "3258                  0.053004                  0.038127   \n",
       "3259                 -0.038451                 -0.008188   \n",
       "3260                  0.022862                 -0.101911   \n",
       "3261                  0.028402                  0.013509   \n",
       "3262                  0.007416                  0.110413   \n",
       "\n",
       "      spacy_text_embedding_296  spacy_text_embedding_297  \\\n",
       "0                    -0.096130                 -0.082275   \n",
       "1                    -0.066895                 -0.053345   \n",
       "2                     0.000203                 -0.068373   \n",
       "3                    -0.174154                 -0.052409   \n",
       "4                    -0.188110                  0.112869   \n",
       "...                        ...                       ...   \n",
       "3258                 -0.009115                 -0.041951   \n",
       "3259                 -0.197838                  0.001563   \n",
       "3260                  0.003104                 -0.039464   \n",
       "3261                 -0.000753                  0.020945   \n",
       "3262                 -0.198853                 -0.129517   \n",
       "\n",
       "      spacy_text_embedding_298  spacy_text_embedding_299  \n",
       "0                     0.024780                 -0.035091  \n",
       "1                    -0.035055                 -0.015259  \n",
       "2                     0.106174                  0.032135  \n",
       "3                     0.009115                  0.055501  \n",
       "4                     0.039062                  0.046783  \n",
       "...                        ...                       ...  \n",
       "3258                 -0.016642                 -0.073298  \n",
       "3259                 -0.042161                  0.055533  \n",
       "3260                  0.002563                  0.060952  \n",
       "3261                  0.164876                 -0.098124  \n",
       "3262                 -0.029053                 -0.086548  \n",
       "\n",
       "[3263 rows x 640 columns]"
      ]
     },
     "execution_count": 20,
     "metadata": {},
     "output_type": "execute_result"
    }
   ],
   "source": [
    "processed"
   ]
  },
  {
   "cell_type": "code",
   "execution_count": 22,
   "metadata": {},
   "outputs": [],
   "source": [
    "X_train, X_pred, y_train, y_pred = train_test_split(train, train_target, test_size=0.001, random_state=42)"
   ]
  },
  {
   "cell_type": "code",
   "execution_count": 23,
   "metadata": {},
   "outputs": [
    {
     "data": {
      "text/plain": [
       "(7605, 640, 1)"
      ]
     },
     "execution_count": 23,
     "metadata": {},
     "output_type": "execute_result"
    }
   ],
   "source": [
    "X_train.shape"
   ]
  },
  {
   "cell_type": "code",
   "execution_count": 24,
   "metadata": {},
   "outputs": [
    {
     "data": {
      "text/plain": [
       "(8, 640, 1)"
      ]
     },
     "execution_count": 24,
     "metadata": {},
     "output_type": "execute_result"
    }
   ],
   "source": [
    "X_pred.shape"
   ]
  },
  {
   "cell_type": "markdown",
   "metadata": {},
   "source": [
    "Creo el modelo y corro la CNN"
   ]
  },
  {
   "cell_type": "code",
   "execution_count": 25,
   "metadata": {},
   "outputs": [],
   "source": [
    "def create_model(filters, kernel_sizes, pool_sizes, units, cnn_layers, dense_layers):\n",
    "    model = Sequential()\n",
    "    model.add(Input(shape=(X_train.shape[1], X_train.shape[2])))\n",
    "    \n",
    "    for i in range(cnn_layers):\n",
    "        model.add(Conv1D(filters=filters[i], kernel_size=kernel_sizes[i], activation='relu'))\n",
    "    model.add(MaxPooling1D(2))#pool_sizes[i]))\n",
    "\n",
    "    model.add(Flatten())\n",
    "    \n",
    "    for i in range(dense_layers):\n",
    "        model.add(Dense(units[i], activation='relu'))\n",
    "\n",
    "    model.add(Dropout(0.5))\n",
    "    model.add(Dense(1, activation='sigmoid'))\n",
    "    model.compile(loss='binary_crossentropy', optimizer=keras.optimizers.Adam(1e-4), metrics=['accuracy'])\n",
    "    return model"
   ]
  },
  {
   "cell_type": "code",
   "execution_count": 26,
   "metadata": {},
   "outputs": [],
   "source": [
    "filters=[32,32,64]\n",
    "kernel_size=[3,3,3]\n",
    "pool_sizes=[2,2,2]\n",
    "units=[64]\n",
    "cnn_layers=3\n",
    "dense_layers=1"
   ]
  },
  {
   "cell_type": "code",
   "execution_count": 27,
   "metadata": {},
   "outputs": [],
   "source": [
    "filters=[64]\n",
    "kernel_size=[3]\n",
    "pool_sizes=[2]\n",
    "units=[32]\n",
    "cnn_layers=1\n",
    "dense_layers=1"
   ]
  },
  {
   "cell_type": "code",
   "execution_count": 28,
   "metadata": {},
   "outputs": [],
   "source": [
    "#acc = 0.8\n",
    "filters=[128,128]\n",
    "kernel_size=[3,3,3]\n",
    "pool_sizes=[2,2,2]\n",
    "units=[32, 32]\n",
    "cnn_layers=2\n",
    "dense_layers=2"
   ]
  },
  {
   "cell_type": "code",
   "execution_count": 29,
   "metadata": {},
   "outputs": [],
   "source": [
    "#acc = 0.80 cleaner\n",
    "filters=[128,128,128]\n",
    "kernel_size=[3,4,5]\n",
    "pool_sizes=[2,2,2]\n",
    "units=[64,64,64]\n",
    "cnn_layers=3\n",
    "dense_layers=3"
   ]
  },
  {
   "cell_type": "code",
   "execution_count": 30,
   "metadata": {},
   "outputs": [
    {
     "name": "stdout",
     "output_type": "stream",
     "text": [
      "Epoch 1/12\n",
      "476/476 [==============================] - 40s 85ms/step - loss: 0.6102 - accuracy: 0.6619 - val_loss: 0.7439 - val_accuracy: 0.5000\n",
      "Epoch 2/12\n",
      "476/476 [==============================] - 43s 90ms/step - loss: 0.4715 - accuracy: 0.7936 - val_loss: 0.8260 - val_accuracy: 0.5000\n",
      "Epoch 3/12\n",
      "476/476 [==============================] - 43s 90ms/step - loss: 0.4415 - accuracy: 0.8124 - val_loss: 0.8954 - val_accuracy: 0.5000\n"
     ]
    },
    {
     "data": {
      "image/png": "[encoded data removed]",
      "text/plain": [
       "<Figure size 864x360 with 2 Axes>"
      ]
     },
     "metadata": {},
     "output_type": "display_data"
    }
   ],
   "source": [
    "model = create_model(\n",
    "    filters=filters,\n",
    "    kernel_sizes=kernel_size,\n",
    "    pool_sizes=pool_sizes,\n",
    "    units=units,\n",
    "    cnn_layers=cnn_layers,\n",
    "    dense_layers=dense_layers\n",
    ")\n",
    "es = keras.callbacks.EarlyStopping(patience=2)\n",
    "history = model.fit(X_train, y_train, epochs=12, shuffle=True, validation_data=(X_pred, y_pred), callbacks=[es], batch_size=16)\n",
    "plot_history(history)"
   ]
  },
  {
   "cell_type": "markdown",
   "metadata": {},
   "source": [
    "Calculemos el test para kaggle"
   ]
  },
  {
   "cell_type": "code",
   "execution_count": 31,
   "metadata": {},
   "outputs": [
    {
     "name": "stdout",
     "output_type": "stream",
     "text": [
      "F1 Score: 0.0\n"
     ]
    }
   ],
   "source": [
    "prediction = model.predict_classes(X_pred)\n",
    "f1 = f1_score(y_pred, [x[0] for x in prediction])\n",
    "print(f'F1 Score: {f1}')"
   ]
  },
  {
   "cell_type": "code",
   "execution_count": 32,
   "metadata": {},
   "outputs": [
    {
     "name": "stdout",
     "output_type": "stream",
     "text": [
      "Percentage of words covered in the embeddings = 0.5707598689343111\n",
      "Percentage of words covered in the embeddings = 0.665389037945573\n"
     ]
    },
    {
     "data": {
      "text/html": [
       "<div>\n",
       "<style scoped>\n",
       "    .dataframe tbody tr th:only-of-type {\n",
       "        vertical-align: middle;\n",
       "    }\n",
       "\n",
       "    .dataframe tbody tr th {\n",
       "        vertical-align: top;\n",
       "    }\n",
       "\n",
       "    .dataframe thead th {\n",
       "        text-align: right;\n",
       "    }\n",
       "</style>\n",
       "<table border=\"1\" class=\"dataframe\">\n",
       "  <thead>\n",
       "    <tr style=\"text-align: right;\">\n",
       "      <th></th>\n",
       "      <th>target</th>\n",
       "    </tr>\n",
       "    <tr>\n",
       "      <th>id</th>\n",
       "      <th></th>\n",
       "    </tr>\n",
       "  </thead>\n",
       "  <tbody>\n",
       "    <tr>\n",
       "      <th>0</th>\n",
       "      <td>1</td>\n",
       "    </tr>\n",
       "    <tr>\n",
       "      <th>2</th>\n",
       "      <td>0</td>\n",
       "    </tr>\n",
       "    <tr>\n",
       "      <th>3</th>\n",
       "      <td>1</td>\n",
       "    </tr>\n",
       "    <tr>\n",
       "      <th>9</th>\n",
       "      <td>1</td>\n",
       "    </tr>\n",
       "    <tr>\n",
       "      <th>11</th>\n",
       "      <td>1</td>\n",
       "    </tr>\n",
       "    <tr>\n",
       "      <th>...</th>\n",
       "      <td>...</td>\n",
       "    </tr>\n",
       "    <tr>\n",
       "      <th>10861</th>\n",
       "      <td>0</td>\n",
       "    </tr>\n",
       "    <tr>\n",
       "      <th>10865</th>\n",
       "      <td>1</td>\n",
       "    </tr>\n",
       "    <tr>\n",
       "      <th>10868</th>\n",
       "      <td>1</td>\n",
       "    </tr>\n",
       "    <tr>\n",
       "      <th>10874</th>\n",
       "      <td>0</td>\n",
       "    </tr>\n",
       "    <tr>\n",
       "      <th>10875</th>\n",
       "      <td>0</td>\n",
       "    </tr>\n",
       "  </tbody>\n",
       "</table>\n",
       "<p>3263 rows × 1 columns</p>\n",
       "</div>"
      ],
      "text/plain": [
       "       target\n",
       "id           \n",
       "0           1\n",
       "2           0\n",
       "3           1\n",
       "9           1\n",
       "11          1\n",
       "...       ...\n",
       "10861       0\n",
       "10865       1\n",
       "10868       1\n",
       "10874       0\n",
       "10875       0\n",
       "\n",
       "[3263 rows x 1 columns]"
      ]
     },
     "execution_count": 32,
     "metadata": {},
     "output_type": "execute_result"
    }
   ],
   "source": [
    "ids = test_df['id']\n",
    "\n",
    "processed, final_test = prepare_for_cnn(test_df)\n",
    "prediction = model.predict_classes(final_test)\n",
    "\n",
    "final_df = pd.DataFrame({'target': [x[0] for x in prediction]}, index=ids)\n",
    "final_df"
   ]
  },
  {
   "cell_type": "code",
   "execution_count": 33,
   "metadata": {},
   "outputs": [
    {
     "data": {
      "text/plain": [
       "0    2342\n",
       "1     921\n",
       "Name: target, dtype: int64"
      ]
     },
     "execution_count": 33,
     "metadata": {},
     "output_type": "execute_result"
    }
   ],
   "source": [
    "final_df['target'].value_counts()"
   ]
  },
  {
   "cell_type": "code",
   "execution_count": 34,
   "metadata": {},
   "outputs": [
    {
     "data": {
      "text/plain": [
       "target    3263\n",
       "dtype: int64"
      ]
     },
     "execution_count": 34,
     "metadata": {},
     "output_type": "execute_result"
    }
   ],
   "source": [
    "final_df.count()"
   ]
  },
  {
   "cell_type": "code",
   "execution_count": 35,
   "metadata": {},
   "outputs": [],
   "source": [
    "final_df.to_csv('cnn_loc.csv')"
   ]
  },
  {
   "cell_type": "code",
   "execution_count": null,
   "metadata": {},
   "outputs": [],
   "source": []
  }
 ],
 "metadata": {
  "kernelspec": {
   "display_name": "Python 3",
   "language": "python",
   "name": "python3"
  },
  "language_info": {
   "codemirror_mode": {
    "name": "ipython",
    "version": 3
   },
   "file_extension": ".py",
   "mimetype": "text/x-python",
   "name": "python",
   "nbconvert_exporter": "python",
   "pygments_lexer": "ipython3",
   "version": "3.7.8"
  }
 },
 "nbformat": 4,
 "nbformat_minor": 4
}
