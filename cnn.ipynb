{
 "cells": [
  {
   "cell_type": "code",
   "execution_count": 17,
   "metadata": {},
   "outputs": [],
   "source": [
    "import pandas as pd\n",
    "import numpy as np\n",
    "import keras\n",
    "from keras.models import Sequential\n",
    "from keras.layers import Dense, Conv1D, Flatten, MaxPooling1D, Embedding, GlobalMaxPooling1D, Dropout, Input\n",
    "import matplotlib.pyplot as plt\n",
    "from util import plot_history\n",
    "import feature_builder\n",
    "from sklearn.model_selection import GridSearchCV"
   ]
  },
  {
   "cell_type": "markdown",
   "metadata": {},
   "source": [
    "Cargo datasets"
   ]
  },
  {
   "cell_type": "code",
   "execution_count": 2,
   "metadata": {},
   "outputs": [],
   "source": [
    "train_df = pd.read_csv('train.csv')\n",
    "test_df = pd.read_csv('test.csv')"
   ]
  },
  {
   "cell_type": "markdown",
   "metadata": {},
   "source": [
    "Armo features con el feature_builder"
   ]
  },
  {
   "cell_type": "code",
   "execution_count": 3,
   "metadata": {},
   "outputs": [],
   "source": [
    "def prepare_for_cnn(df):\n",
    "    processed = feature_builder.process_dataset(df)\n",
    "    to_numpy = processed.to_numpy()\n",
    "    to_numpy = to_numpy.reshape(processed.shape[0], processed.shape[1], 1)\n",
    "    return to_numpy"
   ]
  },
  {
   "cell_type": "code",
   "execution_count": 7,
   "metadata": {},
   "outputs": [
    {
     "name": "stdout",
     "output_type": "stream",
     "text": [
      "Percentage of words covered in the embeddings = 0.6336399642263958\n",
      "Wall time: 41.5 s\n"
     ]
    }
   ],
   "source": [
    "%%time\n",
    "X_train = prepare_for_cnn(train_df)\n",
    "y_train = train_df['target'].values"
   ]
  },
  {
   "cell_type": "markdown",
   "metadata": {},
   "source": [
    "Creo el modelo y corro la CNN"
   ]
  },
  {
   "cell_type": "code",
   "execution_count": 26,
   "metadata": {},
   "outputs": [],
   "source": [
    "def create_model(filters, kernel_sizes, pool_sizes, units, cnn_layers, dense_layers):\n",
    "    model = Sequential()\n",
    "    model.add(Input(shape=(X_train.shape[1], X_train.shape[2])))\n",
    "    \n",
    "    for i in range(cnn_layers):\n",
    "        model.add(Conv1D(filters=filters[i], kernel_size=kernel_sizes[i], activation='relu'))\n",
    "        model.add(MaxPooling1D(pool_sizes[i]))\n",
    "\n",
    "    model.add(Flatten())\n",
    "    \n",
    "    for i in range(dense_layers):\n",
    "        model.add(Dense(units[i], activation='relu'))\n",
    "\n",
    "    model.add(Dropout(0.5))\n",
    "    model.add(Dense(1, activation='sigmoid'))\n",
    "    model.compile(loss='binary_crossentropy', optimizer='adam', metrics=['accuracy'])\n",
    "    \n",
    "    return model"
   ]
  },
  {
   "cell_type": "code",
   "execution_count": 27,
   "metadata": {},
   "outputs": [],
   "source": [
    "filters=[128,128]\n",
    "kernel_size=[5,5]\n",
    "pool_sizes=[2,2]\n",
    "units=[64, 64]\n",
    "cnn_layers=2\n",
    "dense_layers=2"
   ]
  },
  {
   "cell_type": "code",
   "execution_count": 28,
   "metadata": {},
   "outputs": [],
   "source": [
    "filters=[32,32,64]\n",
    "kernel_size=[3,3,3]\n",
    "pool_sizes=[2,2,2]\n",
    "units=[64]\n",
    "cnn_layers=3\n",
    "dense_layers=1"
   ]
  },
  {
   "cell_type": "code",
   "execution_count": null,
   "metadata": {},
   "outputs": [
    {
     "name": "stdout",
     "output_type": "stream",
     "text": [
      "Epoch 1/80\n",
      "319/319 [==============================] - 3s 9ms/step - loss: 0.7082 - accuracy: 0.5569 - val_loss: 0.6816 - val_accuracy: 0.5515\n",
      "Epoch 2/80\n",
      "319/319 [==============================] - 3s 8ms/step - loss: 0.6994 - accuracy: 0.5659 - val_loss: 0.6858 - val_accuracy: 0.5515\n",
      "Epoch 3/80\n",
      "319/319 [==============================] - 3s 8ms/step - loss: 0.6835 - accuracy: 0.5747 - val_loss: 0.6815 - val_accuracy: 0.5515\n",
      "Epoch 4/80\n",
      "319/319 [==============================] - 3s 8ms/step - loss: 0.6944 - accuracy: 0.5769 - val_loss: 0.6881 - val_accuracy: 0.5515\n",
      "Epoch 5/80\n",
      "319/319 [==============================] - 2s 7ms/step - loss: 0.6879 - accuracy: 0.5769 - val_loss: 0.6792 - val_accuracy: 0.5515\n",
      "Epoch 6/80\n",
      "319/319 [==============================] - 2s 7ms/step - loss: 0.6868 - accuracy: 0.5765 - val_loss: 0.6868 - val_accuracy: 0.5515\n",
      "Epoch 7/80\n",
      "319/319 [==============================] - 2s 7ms/step - loss: 0.6870 - accuracy: 0.5796 - val_loss: 0.6793 - val_accuracy: 0.5515\n",
      "Epoch 8/80\n",
      "319/319 [==============================] - 3s 8ms/step - loss: 0.6840 - accuracy: 0.5786 - val_loss: 0.6877 - val_accuracy: 0.5515\n",
      "Epoch 9/80\n",
      "319/319 [==============================] - 2s 7ms/step - loss: 0.6868 - accuracy: 0.5796 - val_loss: 0.6777 - val_accuracy: 0.5515\n",
      "Epoch 10/80\n",
      "319/319 [==============================] - 2s 7ms/step - loss: 0.6864 - accuracy: 0.5796 - val_loss: 0.6832 - val_accuracy: 0.5515\n",
      "Epoch 11/80\n",
      "319/319 [==============================] - 2s 7ms/step - loss: 0.6835 - accuracy: 0.5796 - val_loss: 0.6860 - val_accuracy: 0.5515\n",
      "Epoch 12/80\n",
      "208/319 [==================>...........] - ETA: 0s - loss: 0.6764 - accuracy: 0.6007"
     ]
    }
   ],
   "source": [
    "model = create_model(\n",
    "    filters=filters,\n",
    "    kernel_sizes=kernel_size,\n",
    "    pool_sizes=pool_sizes,\n",
    "    units=units,\n",
    "    cnn_layers=cnn_layers,\n",
    "    dense_layers=dense_layers\n",
    ")\n",
    "history = model.fit(X_train, y_train, epochs=80, shuffle=False, validation_split=0.33, batch_size=16)\n",
    "plot_history(history)"
   ]
  },
  {
   "cell_type": "markdown",
   "metadata": {},
   "source": [
    "Calculemos el test para kaggle"
   ]
  },
  {
   "cell_type": "code",
   "execution_count": null,
   "metadata": {},
   "outputs": [],
   "source": [
    "ids = test_df['id']\n",
    "\n",
    "final_test = prepare_for_cnn(test_df)\n",
    "prediction = model.predict_classes(final_test)\n",
    "\n",
    "final_df = pd.DataFrame({'target': [x[0] for x in prediction]}, index=ids)\n",
    "final_df"
   ]
  },
  {
   "cell_type": "code",
   "execution_count": null,
   "metadata": {},
   "outputs": [],
   "source": [
    "final_df['target'].value_counts()"
   ]
  },
  {
   "cell_type": "code",
   "execution_count": null,
   "metadata": {},
   "outputs": [],
   "source": [
    "final_df.count()"
   ]
  },
  {
   "cell_type": "code",
   "execution_count": null,
   "metadata": {},
   "outputs": [],
   "source": [
    "final_df.to_csv('cnn.csv')"
   ]
  },
  {
   "cell_type": "code",
   "execution_count": null,
   "metadata": {},
   "outputs": [],
   "source": [
    "model = KerasClassifier(build_fn=create_model, verbose=False, epochs=25)\n",
    "\n",
    "filters = [32,64,128,1024,10000]\n",
    "kernel_size = [2,3,5]\n",
    "units = [64,128]\n",
    "\n",
    "param_grid = dict(filters=filters,kernel_size=kernel_size,units=units)# \n",
    "grid = GridSearchCV(estimator=model, param_grid=param_grid, n_jobs=-1)\n",
    "\n",
    "#Run grid search\n",
    "grid_result = grid.fit(X_train, y_train)\n",
    "\n",
    "print(\"Best: %f using %s\" % (grid_result.best_score_, grid_result.best_params_))\n",
    "means = grid_result.cv_results_['mean_test_score']\n",
    "stds = grid_result.cv_results_['std_test_score']\n",
    "params = grid_result.cv_results_['params']\n",
    "for mean, stdev, param in zip(means, stds, params):\n",
    "    print(\"%f (%f) with: %r\" % (mean, stdev, param))"
   ]
  },
  {
   "cell_type": "code",
   "execution_count": null,
   "metadata": {},
   "outputs": [],
   "source": [
    "filters=[32,32,64]\n",
    "kernel_size=[3,3,3]\n",
    "pool_sizes=[2,2,2]\n",
    "units=[[64], [64, 64], [64, 32]]\n",
    "cnn_layers=[1,2,3,4]\n",
    "dense_layers=[1,2]"
   ]
  }
 ],
 "metadata": {
  "kernelspec": {
   "display_name": "Python 3",
   "language": "python",
   "name": "python3"
  },
  "language_info": {
   "codemirror_mode": {
    "name": "ipython",
    "version": 3
   },
   "file_extension": ".py",
   "mimetype": "text/x-python",
   "name": "python",
   "nbconvert_exporter": "python",
   "pygments_lexer": "ipython3",
   "version": "3.7.8"
  }
 },
 "nbformat": 4,
 "nbformat_minor": 4
}
