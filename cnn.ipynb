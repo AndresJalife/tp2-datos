{
 "cells": [
  {
   "cell_type": "code",
   "execution_count": 17,
   "metadata": {},
   "outputs": [],
   "source": [
    "import pandas as pd\n",
    "import numpy as np\n",
    "import keras\n",
    "from keras.models import Sequential\n",
    "from keras.layers import Dense, Conv1D, Flatten, MaxPooling1D, Embedding, GlobalMaxPooling1D, Dropout, Input\n",
    "import matplotlib.pyplot as plt\n",
    "from util import plot_history\n",
    "import feature_builder\n",
    "from sklearn.model_selection import GridSearchCV"
   ]
  },
  {
   "cell_type": "markdown",
   "metadata": {},
   "source": [
    "Cargo datasets"
   ]
  },
  {
   "cell_type": "code",
   "execution_count": 2,
   "metadata": {},
   "outputs": [],
   "source": [
    "train_df = pd.read_csv('train.csv')\n",
    "test_df = pd.read_csv('test.csv')"
   ]
  },
  {
   "cell_type": "markdown",
   "metadata": {},
   "source": [
    "Armo features con el feature_builder"
   ]
  },
  {
   "cell_type": "code",
   "execution_count": 3,
   "metadata": {},
   "outputs": [],
   "source": [
    "def prepare_for_cnn(df):\n",
    "    processed = feature_builder.process_dataset(df)\n",
    "    to_numpy = processed.to_numpy()\n",
    "    to_numpy = to_numpy.reshape(processed.shape[0], processed.shape[1], 1)\n",
    "    return to_numpy"
   ]
  },
  {
   "cell_type": "code",
   "execution_count": 7,
   "metadata": {},
   "outputs": [
    {
     "name": "stdout",
     "output_type": "stream",
     "text": [
      "Percentage of words covered in the embeddings = 0.6336399642263958\n",
      "Wall time: 41.5 s\n"
     ]
    }
   ],
   "source": [
    "%%time\n",
    "X_train = prepare_for_cnn(train_df)\n",
    "y_train = train_df['target'].values"
   ]
  },
  {
   "cell_type": "markdown",
   "metadata": {},
   "source": [
    "Creo el modelo y corro la CNN"
   ]
  },
  {
   "cell_type": "code",
   "execution_count": 21,
   "metadata": {},
   "outputs": [],
   "source": [
    "def create_model(filters, kernel_sizes, pool_sizes, units, cnn_layers, dense_layers):\n",
    "    model = Sequential()\n",
    "    model.add(Input(shape=(X_train.shape[1], X_train.shape[2])))\n",
    "    \n",
    "    for i in range(cnn_layers):\n",
    "        model.add(Conv1D(filters=filters[i], kernel_size=kernel_sizes[i], activation='relu'))\n",
    "        model.add(MaxPooling1D(pool_sizes[i]))\n",
    "\n",
    "    model.add(Flatten())\n",
    "    \n",
    "    for i in range(dense_layers):\n",
    "        model.add(Dense(units[i], activation='relu'))\n",
    "\n",
    "    model.add(Dropout(0.5))\n",
    "    model.add(Dense(1, activation='sigmoid'))\n",
    "    model.compile(loss='binary_crossentropy', optimizer='rmsprop', metrics=['accuracy'])\n",
    "    \n",
    "    return model"
   ]
  },
  {
   "cell_type": "code",
   "execution_count": 14,
   "metadata": {},
   "outputs": [],
   "source": [
    "filters=[128,128]\n",
    "kernel_size=[5,5]\n",
    "pool_sizes=[2,2]\n",
    "units=[64, 64]\n",
    "cnn_layers=2\n",
    "dense_layers=2"
   ]
  },
  {
   "cell_type": "code",
   "execution_count": 22,
   "metadata": {},
   "outputs": [],
   "source": [
    "filters=[32,32,64]\n",
    "kernel_size=[3,3,3]\n",
    "pool_sizes=[2,2,2]\n",
    "units=[64]\n",
    "cnn_layers=3\n",
    "dense_layers=1"
   ]
  },
  {
   "cell_type": "code",
   "execution_count": 23,
   "metadata": {},
   "outputs": [
    {
     "name": "stdout",
     "output_type": "stream",
     "text": [
      "Epoch 1/60\n",
      "319/319 [==============================] - 3s 8ms/step - loss: 0.7034 - accuracy: 0.5594 - val_loss: 0.6790 - val_accuracy: 0.5635\n",
      "Epoch 2/60\n",
      "319/319 [==============================] - 3s 8ms/step - loss: 0.6911 - accuracy: 0.5710 - val_loss: 0.6753 - val_accuracy: 0.5515\n",
      "Epoch 3/60\n",
      "319/319 [==============================] - 2s 8ms/step - loss: 0.6803 - accuracy: 0.5761 - val_loss: 0.6738 - val_accuracy: 0.5515\n",
      "Epoch 4/60\n",
      "319/319 [==============================] - 2s 8ms/step - loss: 0.6781 - accuracy: 0.5765 - val_loss: 0.6625 - val_accuracy: 0.5515\n",
      "Epoch 5/60\n",
      "319/319 [==============================] - 2s 7ms/step - loss: 0.6827 - accuracy: 0.5761 - val_loss: 0.6697 - val_accuracy: 0.5515\n",
      "Epoch 6/60\n",
      "319/319 [==============================] - 2s 7ms/step - loss: 0.6822 - accuracy: 0.5745 - val_loss: 0.6575 - val_accuracy: 0.5515\n",
      "Epoch 7/60\n",
      "319/319 [==============================] - 3s 8ms/step - loss: 0.6843 - accuracy: 0.5796 - val_loss: 0.6886 - val_accuracy: 0.5515\n",
      "Epoch 8/60\n",
      "319/319 [==============================] - 3s 8ms/step - loss: 0.6843 - accuracy: 0.5796 - val_loss: 0.6878 - val_accuracy: 0.5515\n",
      "Epoch 9/60\n",
      "319/319 [==============================] - 3s 8ms/step - loss: 0.6876 - accuracy: 0.5796 - val_loss: 0.6666 - val_accuracy: 0.5515\n",
      "Epoch 10/60\n",
      "319/319 [==============================] - 3s 9ms/step - loss: 0.6780 - accuracy: 0.5796 - val_loss: 0.6876 - val_accuracy: 0.5515\n",
      "Epoch 11/60\n",
      "319/319 [==============================] - 2s 8ms/step - loss: 0.6837 - accuracy: 0.5796 - val_loss: 0.6873 - val_accuracy: 0.5515\n",
      "Epoch 12/60\n",
      "319/319 [==============================] - 2s 8ms/step - loss: 0.6745 - accuracy: 0.5784 - val_loss: 0.6582 - val_accuracy: 0.5515\n",
      "Epoch 13/60\n",
      "319/319 [==============================] - 2s 8ms/step - loss: 0.6864 - accuracy: 0.5792 - val_loss: 0.6878 - val_accuracy: 0.5515\n",
      "Epoch 14/60\n",
      "319/319 [==============================] - 2s 8ms/step - loss: 0.6818 - accuracy: 0.5796 - val_loss: 0.6880 - val_accuracy: 0.5515\n",
      "Epoch 15/60\n",
      "319/319 [==============================] - 2s 8ms/step - loss: 0.6814 - accuracy: 0.5796 - val_loss: 0.6882 - val_accuracy: 0.5515\n",
      "Epoch 16/60\n",
      "319/319 [==============================] - 2s 8ms/step - loss: 0.6811 - accuracy: 0.5796 - val_loss: 0.6883 - val_accuracy: 0.5515\n",
      "Epoch 17/60\n",
      "319/319 [==============================] - 2s 8ms/step - loss: 0.6809 - accuracy: 0.5796 - val_loss: 0.6889 - val_accuracy: 0.5515\n",
      "Epoch 18/60\n",
      "319/319 [==============================] - 2s 8ms/step - loss: 0.6798 - accuracy: 0.5851 - val_loss: 0.6717 - val_accuracy: 0.5515\n",
      "Epoch 19/60\n",
      "319/319 [==============================] - 2s 7ms/step - loss: 0.6878 - accuracy: 0.5702 - val_loss: 0.6722 - val_accuracy: 0.5515\n",
      "Epoch 20/60\n",
      "319/319 [==============================] - 2s 8ms/step - loss: 0.6800 - accuracy: 0.5835 - val_loss: 0.6624 - val_accuracy: 0.5515\n",
      "Epoch 21/60\n",
      "319/319 [==============================] - 2s 8ms/step - loss: 0.6799 - accuracy: 0.5818 - val_loss: 0.6662 - val_accuracy: 0.5515\n",
      "Epoch 22/60\n",
      "319/319 [==============================] - 2s 7ms/step - loss: 0.6747 - accuracy: 0.5925 - val_loss: 0.6607 - val_accuracy: 0.5515\n",
      "Epoch 23/60\n",
      "319/319 [==============================] - 2s 8ms/step - loss: 0.6818 - accuracy: 0.5749 - val_loss: 0.6711 - val_accuracy: 0.5515\n",
      "Epoch 24/60\n",
      "319/319 [==============================] - 2s 7ms/step - loss: 0.6740 - accuracy: 0.5916 - val_loss: 0.6611 - val_accuracy: 0.5511\n",
      "Epoch 25/60\n",
      "319/319 [==============================] - 2s 7ms/step - loss: 0.6689 - accuracy: 0.5878 - val_loss: 0.6511 - val_accuracy: 0.5754\n",
      "Epoch 26/60\n",
      "319/319 [==============================] - 2s 7ms/step - loss: 0.6659 - accuracy: 0.5994 - val_loss: 0.6504 - val_accuracy: 0.5877\n",
      "Epoch 27/60\n",
      "319/319 [==============================] - 2s 8ms/step - loss: 0.6625 - accuracy: 0.6033 - val_loss: 0.6420 - val_accuracy: 0.6375\n",
      "Epoch 28/60\n",
      "319/319 [==============================] - 2s 8ms/step - loss: 0.6653 - accuracy: 0.6033 - val_loss: 0.6437 - val_accuracy: 0.6251\n",
      "Epoch 29/60\n",
      "319/319 [==============================] - 2s 8ms/step - loss: 0.6558 - accuracy: 0.6169 - val_loss: 0.6431 - val_accuracy: 0.6236\n",
      "Epoch 30/60\n",
      "319/319 [==============================] - 2s 8ms/step - loss: 0.6517 - accuracy: 0.6245 - val_loss: 0.6338 - val_accuracy: 0.6590\n",
      "Epoch 31/60\n",
      "319/319 [==============================] - 2s 8ms/step - loss: 0.6568 - accuracy: 0.6214 - val_loss: 0.6376 - val_accuracy: 0.6442\n",
      "Epoch 32/60\n",
      "319/319 [==============================] - 2s 8ms/step - loss: 0.6480 - accuracy: 0.6316 - val_loss: 0.6422 - val_accuracy: 0.6148\n",
      "Epoch 33/60\n",
      "319/319 [==============================] - 2s 8ms/step - loss: 0.6468 - accuracy: 0.6361 - val_loss: 0.6366 - val_accuracy: 0.6335\n",
      "Epoch 34/60\n",
      "319/319 [==============================] - 3s 8ms/step - loss: 0.6413 - accuracy: 0.6445 - val_loss: 0.6388 - val_accuracy: 0.6220\n",
      "Epoch 35/60\n",
      "319/319 [==============================] - 2s 8ms/step - loss: 0.6427 - accuracy: 0.6420 - val_loss: 0.6334 - val_accuracy: 0.6407\n",
      "Epoch 36/60\n",
      "319/319 [==============================] - 2s 8ms/step - loss: 0.6390 - accuracy: 0.6486 - val_loss: 0.6308 - val_accuracy: 0.6490\n",
      "Epoch 37/60\n",
      "319/319 [==============================] - 2s 8ms/step - loss: 0.6345 - accuracy: 0.6555 - val_loss: 0.6206 - val_accuracy: 0.6637\n",
      "Epoch 38/60\n",
      "319/319 [==============================] - 2s 7ms/step - loss: 0.6346 - accuracy: 0.6567 - val_loss: 0.6250 - val_accuracy: 0.6550\n",
      "Epoch 39/60\n",
      "319/319 [==============================] - 2s 7ms/step - loss: 0.6351 - accuracy: 0.6516 - val_loss: 0.6237 - val_accuracy: 0.6542\n",
      "Epoch 40/60\n",
      "319/319 [==============================] - 2s 8ms/step - loss: 0.6356 - accuracy: 0.6469 - val_loss: 0.6154 - val_accuracy: 0.6669\n",
      "Epoch 41/60\n",
      "319/319 [==============================] - 2s 8ms/step - loss: 0.6242 - accuracy: 0.6667 - val_loss: 0.6066 - val_accuracy: 0.6781\n",
      "Epoch 42/60\n",
      "319/319 [==============================] - 2s 8ms/step - loss: 0.6246 - accuracy: 0.6631 - val_loss: 0.6019 - val_accuracy: 0.6789\n",
      "Epoch 43/60\n",
      "319/319 [==============================] - 2s 8ms/step - loss: 0.6020 - accuracy: 0.6818 - val_loss: 0.5832 - val_accuracy: 0.6924\n",
      "Epoch 44/60\n",
      "319/319 [==============================] - 2s 8ms/step - loss: 0.5800 - accuracy: 0.7055 - val_loss: 0.5575 - val_accuracy: 0.7179\n",
      "Epoch 45/60\n",
      "319/319 [==============================] - 2s 8ms/step - loss: 0.5683 - accuracy: 0.7155 - val_loss: 0.5619 - val_accuracy: 0.7087\n",
      "Epoch 46/60\n",
      "319/319 [==============================] - 2s 8ms/step - loss: 0.5582 - accuracy: 0.7169 - val_loss: 0.5505 - val_accuracy: 0.7214\n",
      "Epoch 47/60\n",
      "319/319 [==============================] - 2s 8ms/step - loss: 0.5493 - accuracy: 0.7302 - val_loss: 0.5353 - val_accuracy: 0.7390\n",
      "Epoch 48/60\n",
      "319/319 [==============================] - 2s 8ms/step - loss: 0.5428 - accuracy: 0.7294 - val_loss: 0.5415 - val_accuracy: 0.7254\n",
      "Epoch 49/60\n",
      "319/319 [==============================] - 2s 7ms/step - loss: 0.5255 - accuracy: 0.7382 - val_loss: 0.5233 - val_accuracy: 0.7620\n",
      "Epoch 50/60\n",
      "319/319 [==============================] - 2s 8ms/step - loss: 0.5210 - accuracy: 0.7475 - val_loss: 0.5257 - val_accuracy: 0.7441\n",
      "Epoch 51/60\n",
      "319/319 [==============================] - 2s 8ms/step - loss: 0.5144 - accuracy: 0.7512 - val_loss: 0.5218 - val_accuracy: 0.7561\n",
      "Epoch 52/60\n",
      "319/319 [==============================] - 2s 8ms/step - loss: 0.5061 - accuracy: 0.7541 - val_loss: 0.5311 - val_accuracy: 0.7485\n",
      "Epoch 53/60\n",
      "319/319 [==============================] - 2s 7ms/step - loss: 0.4973 - accuracy: 0.7575 - val_loss: 0.5128 - val_accuracy: 0.7644\n",
      "Epoch 54/60\n",
      "319/319 [==============================] - 2s 7ms/step - loss: 0.4971 - accuracy: 0.7508 - val_loss: 0.5277 - val_accuracy: 0.7493\n",
      "Epoch 55/60\n",
      "319/319 [==============================] - 2s 7ms/step - loss: 0.4891 - accuracy: 0.7576 - val_loss: 0.5194 - val_accuracy: 0.7664\n",
      "Epoch 56/60\n",
      "319/319 [==============================] - 2s 7ms/step - loss: 0.4776 - accuracy: 0.7633 - val_loss: 0.5138 - val_accuracy: 0.7557\n",
      "Epoch 57/60\n",
      "319/319 [==============================] - 2s 7ms/step - loss: 0.4742 - accuracy: 0.7678 - val_loss: 0.5222 - val_accuracy: 0.7632\n",
      "Epoch 58/60\n"
     ]
    },
    {
     "name": "stdout",
     "output_type": "stream",
     "text": [
      "319/319 [==============================] - 2s 8ms/step - loss: 0.4656 - accuracy: 0.7631 - val_loss: 0.5066 - val_accuracy: 0.7772\n",
      "Epoch 59/60\n",
      "319/319 [==============================] - 2s 8ms/step - loss: 0.4603 - accuracy: 0.7673 - val_loss: 0.5160 - val_accuracy: 0.7716\n",
      "Epoch 60/60\n",
      "319/319 [==============================] - 2s 8ms/step - loss: 0.4575 - accuracy: 0.7663 - val_loss: 0.5132 - val_accuracy: 0.7740\n"
     ]
    },
    {
     "data": {
      "image/png": "[encoded data removed]",
      "text/plain": [
       "<Figure size 864x360 with 2 Axes>"
      ]
     },
     "metadata": {},
     "output_type": "display_data"
    }
   ],
   "source": [
    "model = create_model(\n",
    "    filters=filters,\n",
    "    kernel_sizes=kernel_size,\n",
    "    pool_sizes=pool_sizes,\n",
    "    units=units,\n",
    "    cnn_layers=cnn_layers,\n",
    "    dense_layers=dense_layers\n",
    ")\n",
    "history = model.fit(X_train, y_train, epochs=60, shuffle=False, validation_split=0.33, batch_size=16)\n",
    "plot_history(history)"
   ]
  },
  {
   "cell_type": "markdown",
   "metadata": {},
   "source": [
    "Calculemos el test para kaggle"
   ]
  },
  {
   "cell_type": "code",
   "execution_count": null,
   "metadata": {},
   "outputs": [],
   "source": [
    "ids = test_df['id']\n",
    "\n",
    "final_test = prepare_for_cnn(test_df)\n",
    "prediction = model.predict_classes(final_test)\n",
    "\n",
    "final_df = pd.DataFrame({'target': [x[0] for x in prediction]}, index=ids)\n",
    "final_df"
   ]
  },
  {
   "cell_type": "code",
   "execution_count": null,
   "metadata": {},
   "outputs": [],
   "source": [
    "final_df['target'].value_counts()"
   ]
  },
  {
   "cell_type": "code",
   "execution_count": null,
   "metadata": {},
   "outputs": [],
   "source": [
    "final_df.count()"
   ]
  },
  {
   "cell_type": "code",
   "execution_count": null,
   "metadata": {},
   "outputs": [],
   "source": [
    "final_df.to_csv('cnn.csv')"
   ]
  },
  {
   "cell_type": "code",
   "execution_count": null,
   "metadata": {},
   "outputs": [],
   "source": [
    "model = KerasClassifier(build_fn=create_model, verbose=False, epochs=25)\n",
    "\n",
    "filters = [32,64,128,1024,10000]\n",
    "kernel_size = [2,3,5]\n",
    "units = [64,128]\n",
    "\n",
    "param_grid = dict(filters=filters,kernel_size=kernel_size,units=units)# \n",
    "grid = GridSearchCV(estimator=model, param_grid=param_grid, n_jobs=-1)\n",
    "\n",
    "#Run grid search\n",
    "grid_result = grid.fit(X_train, y_train)\n",
    "\n",
    "print(\"Best: %f using %s\" % (grid_result.best_score_, grid_result.best_params_))\n",
    "means = grid_result.cv_results_['mean_test_score']\n",
    "stds = grid_result.cv_results_['std_test_score']\n",
    "params = grid_result.cv_results_['params']\n",
    "for mean, stdev, param in zip(means, stds, params):\n",
    "    print(\"%f (%f) with: %r\" % (mean, stdev, param))"
   ]
  },
  {
   "cell_type": "code",
   "execution_count": null,
   "metadata": {},
   "outputs": [],
   "source": [
    "filters=[32,32,64]\n",
    "kernel_size=[3,3,3]\n",
    "pool_sizes=[2,2,2]\n",
    "units=[[64], [64, 64], [64, 32]]\n",
    "cnn_layers=[1,2,3,4]\n",
    "dense_layers=[1,2]"
   ]
  }
 ],
 "metadata": {
  "kernelspec": {
   "display_name": "Python 3",
   "language": "python",
   "name": "python3"
  },
  "language_info": {
   "codemirror_mode": {
    "name": "ipython",
    "version": 3
   },
   "file_extension": ".py",
   "mimetype": "text/x-python",
   "name": "python",
   "nbconvert_exporter": "python",
   "pygments_lexer": "ipython3",
   "version": "3.7.8"
  }
 },
 "nbformat": 4,
 "nbformat_minor": 4
}
