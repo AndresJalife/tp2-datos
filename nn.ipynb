{
 "cells": [
  {
   "cell_type": "code",
   "execution_count": 1,
   "metadata": {},
   "outputs": [],
   "source": [
    "import pandas as pd\n",
    "import numpy as np\n",
    "import keras\n",
    "from keras.models import Sequential\n",
    "from keras.layers import Dense, Conv1D, Flatten, MaxPooling1D, Embedding, GlobalMaxPooling1D, Dropout\n",
    "from sklearn.feature_extraction.text import CountVectorizer, TfidfTransformer\n",
    "from sklearn.model_selection import train_test_split\n",
    "import scipy\n",
    "import tensorflow as tf\n",
    "from keras.preprocessing.text import Tokenizer\n",
    "from keras.preprocessing.sequence import pad_sequences\n",
    "from gensim.models import KeyedVectors\n",
    "from sklearn.model_selection import StratifiedKFold\n",
    "from util import plot_history\n",
    "import feature_builder"
   ]
  },
  {
   "cell_type": "markdown",
   "metadata": {},
   "source": [
    "Cargo datasets"
   ]
  },
  {
   "cell_type": "code",
   "execution_count": 2,
   "metadata": {},
   "outputs": [],
   "source": [
    "train_df = pd.read_csv('train.csv')\n",
    "test_df = pd.read_csv('test.csv')"
   ]
  },
  {
   "cell_type": "markdown",
   "metadata": {},
   "source": [
    "Armo features"
   ]
  },
  {
   "cell_type": "code",
   "execution_count": 3,
   "metadata": {},
   "outputs": [],
   "source": [
    "X_train = feature_builder.process_dataset(train_df)\n",
    "y_train = train_df['target'].values"
   ]
  },
  {
   "cell_type": "code",
   "execution_count": 4,
   "metadata": {},
   "outputs": [
    {
     "data": {
      "text/plain": [
       "Index(['text_embedding_0', 'text_embedding_1', 'text_embedding_2',\n",
       "       'text_embedding_3', 'text_embedding_4', 'text_embedding_5',\n",
       "       'text_embedding_6', 'text_embedding_7', 'text_embedding_8',\n",
       "       'text_embedding_9',\n",
       "       ...\n",
       "       'location_length', 'text_word_count', 'hashtag_count', 'mention_count',\n",
       "       'char_count', 'exclamation_count', 'interrogation_count', 'url_count',\n",
       "       'word_count', 'unique_word_count'],\n",
       "      dtype='object', length=313)"
      ]
     },
     "execution_count": 4,
     "metadata": {},
     "output_type": "execute_result"
    }
   ],
   "source": [
    "X_train.columns"
   ]
  },
  {
   "cell_type": "code",
   "execution_count": 15,
   "metadata": {},
   "outputs": [
    {
     "name": "stdout",
     "output_type": "stream",
     "text": [
      "Model: \"sequential_8\"\n",
      "_________________________________________________________________\n",
      "Layer (type)                 Output Shape              Param #   \n",
      "=================================================================\n",
      "dense_36 (Dense)             (None, 64)                20096     \n",
      "_________________________________________________________________\n",
      "dense_37 (Dense)             (None, 64)                4160      \n",
      "_________________________________________________________________\n",
      "dropout_8 (Dropout)          (None, 64)                0         \n",
      "_________________________________________________________________\n",
      "dense_38 (Dense)             (None, 1)                 65        \n",
      "=================================================================\n",
      "Total params: 24,321\n",
      "Trainable params: 24,321\n",
      "Non-trainable params: 0\n",
      "_________________________________________________________________\n",
      "Epoch 1/50\n",
      "191/191 [==============================] - 0s 2ms/step - loss: 1.1749 - accuracy: 0.5504 - val_loss: 0.6167 - val_accuracy: 0.6861\n",
      "Epoch 2/50\n",
      "191/191 [==============================] - 0s 1ms/step - loss: 0.6772 - accuracy: 0.6057 - val_loss: 0.6090 - val_accuracy: 0.7026\n",
      "Epoch 3/50\n",
      "191/191 [==============================] - 0s 1ms/step - loss: 0.6623 - accuracy: 0.6159 - val_loss: 0.5869 - val_accuracy: 0.7413\n",
      "Epoch 4/50\n",
      "191/191 [==============================] - 0s 1ms/step - loss: 0.6657 - accuracy: 0.6235 - val_loss: 0.6285 - val_accuracy: 0.7124\n",
      "Epoch 5/50\n",
      "191/191 [==============================] - 0s 1ms/step - loss: 0.6285 - accuracy: 0.6614 - val_loss: 0.5596 - val_accuracy: 0.7406\n",
      "Epoch 6/50\n",
      "191/191 [==============================] - 0s 1ms/step - loss: 0.6078 - accuracy: 0.6785 - val_loss: 0.5325 - val_accuracy: 0.7367\n",
      "Epoch 7/50\n",
      "191/191 [==============================] - 0s 1ms/step - loss: 0.5887 - accuracy: 0.6970 - val_loss: 0.5057 - val_accuracy: 0.7630\n",
      "Epoch 8/50\n",
      "191/191 [==============================] - 0s 1ms/step - loss: 0.5878 - accuracy: 0.6964 - val_loss: 0.5136 - val_accuracy: 0.7459\n",
      "Epoch 9/50\n",
      "191/191 [==============================] - 0s 1ms/step - loss: 0.5666 - accuracy: 0.7154 - val_loss: 0.5042 - val_accuracy: 0.7643\n",
      "Epoch 10/50\n",
      "191/191 [==============================] - 0s 1ms/step - loss: 0.5629 - accuracy: 0.7225 - val_loss: 0.4885 - val_accuracy: 0.7748\n",
      "Epoch 11/50\n",
      "191/191 [==============================] - 0s 1ms/step - loss: 0.5377 - accuracy: 0.7438 - val_loss: 0.4815 - val_accuracy: 0.7636\n",
      "Epoch 12/50\n",
      "191/191 [==============================] - 0s 1ms/step - loss: 0.5237 - accuracy: 0.7571 - val_loss: 0.4626 - val_accuracy: 0.7846\n",
      "Epoch 13/50\n",
      "191/191 [==============================] - 0s 1ms/step - loss: 0.5186 - accuracy: 0.7589 - val_loss: 0.4650 - val_accuracy: 0.7873\n",
      "Epoch 14/50\n",
      "191/191 [==============================] - 0s 1ms/step - loss: 0.5063 - accuracy: 0.7657 - val_loss: 0.4663 - val_accuracy: 0.7853\n",
      "Epoch 15/50\n",
      "191/191 [==============================] - 0s 1ms/step - loss: 0.4947 - accuracy: 0.7750 - val_loss: 0.4494 - val_accuracy: 0.7886\n",
      "Epoch 16/50\n",
      "191/191 [==============================] - 0s 1ms/step - loss: 0.4881 - accuracy: 0.7777 - val_loss: 0.4457 - val_accuracy: 0.7997\n",
      "Epoch 17/50\n",
      "191/191 [==============================] - 0s 1ms/step - loss: 0.4847 - accuracy: 0.7819 - val_loss: 0.4387 - val_accuracy: 0.8024\n",
      "Epoch 18/50\n",
      "191/191 [==============================] - 0s 1ms/step - loss: 0.4690 - accuracy: 0.7890 - val_loss: 0.4439 - val_accuracy: 0.7971\n",
      "Epoch 19/50\n",
      "191/191 [==============================] - 0s 1ms/step - loss: 0.4635 - accuracy: 0.7908 - val_loss: 0.4387 - val_accuracy: 0.8011\n",
      "Epoch 20/50\n",
      "191/191 [==============================] - 0s 1ms/step - loss: 0.4667 - accuracy: 0.7915 - val_loss: 0.4355 - val_accuracy: 0.8037\n",
      "Epoch 21/50\n",
      "191/191 [==============================] - 0s 1ms/step - loss: 0.4634 - accuracy: 0.7901 - val_loss: 0.4312 - val_accuracy: 0.8030\n",
      "Epoch 22/50\n",
      "191/191 [==============================] - 0s 1ms/step - loss: 0.4576 - accuracy: 0.7944 - val_loss: 0.4291 - val_accuracy: 0.8096\n",
      "Epoch 23/50\n",
      "191/191 [==============================] - 0s 1ms/step - loss: 0.4458 - accuracy: 0.7997 - val_loss: 0.4269 - val_accuracy: 0.8056\n",
      "Epoch 24/50\n",
      "191/191 [==============================] - 0s 1ms/step - loss: 0.4505 - accuracy: 0.8008 - val_loss: 0.4330 - val_accuracy: 0.8063\n",
      "Epoch 25/50\n",
      "191/191 [==============================] - 0s 1ms/step - loss: 0.4438 - accuracy: 0.8030 - val_loss: 0.4310 - val_accuracy: 0.8050\n",
      "Epoch 26/50\n",
      "191/191 [==============================] - 0s 1ms/step - loss: 0.4448 - accuracy: 0.8025 - val_loss: 0.4309 - val_accuracy: 0.8070\n",
      "Epoch 27/50\n",
      "191/191 [==============================] - 0s 1ms/step - loss: 0.4368 - accuracy: 0.8067 - val_loss: 0.4316 - val_accuracy: 0.8063\n",
      "Epoch 28/50\n",
      "191/191 [==============================] - 0s 1ms/step - loss: 0.4412 - accuracy: 0.8005 - val_loss: 0.4390 - val_accuracy: 0.8063\n",
      "Epoch 29/50\n",
      "191/191 [==============================] - 0s 1ms/step - loss: 0.4326 - accuracy: 0.8067 - val_loss: 0.4446 - val_accuracy: 0.8083\n",
      "Epoch 30/50\n",
      "191/191 [==============================] - 0s 1ms/step - loss: 0.4305 - accuracy: 0.8097 - val_loss: 0.4440 - val_accuracy: 0.8083\n",
      "Epoch 31/50\n",
      "191/191 [==============================] - 0s 1ms/step - loss: 0.4297 - accuracy: 0.8082 - val_loss: 0.4488 - val_accuracy: 0.8070\n",
      "Epoch 32/50\n",
      "191/191 [==============================] - 0s 1ms/step - loss: 0.4246 - accuracy: 0.8089 - val_loss: 0.4560 - val_accuracy: 0.8109\n",
      "Epoch 33/50\n",
      "191/191 [==============================] - 0s 1ms/step - loss: 0.4201 - accuracy: 0.8112 - val_loss: 0.4604 - val_accuracy: 0.8056\n",
      "Epoch 34/50\n",
      "191/191 [==============================] - 0s 1ms/step - loss: 0.4197 - accuracy: 0.8166 - val_loss: 0.4729 - val_accuracy: 0.8056\n",
      "Epoch 35/50\n",
      "191/191 [==============================] - 0s 1ms/step - loss: 0.4195 - accuracy: 0.8107 - val_loss: 0.4488 - val_accuracy: 0.8122\n",
      "Epoch 36/50\n",
      "191/191 [==============================] - 0s 1ms/step - loss: 0.4166 - accuracy: 0.8143 - val_loss: 0.4703 - val_accuracy: 0.8037\n",
      "Epoch 37/50\n",
      "191/191 [==============================] - 0s 1ms/step - loss: 0.4109 - accuracy: 0.8143 - val_loss: 0.4791 - val_accuracy: 0.8076\n",
      "Epoch 38/50\n",
      "191/191 [==============================] - 0s 1ms/step - loss: 0.4081 - accuracy: 0.8171 - val_loss: 0.4576 - val_accuracy: 0.8011\n",
      "Epoch 39/50\n",
      "191/191 [==============================] - 0s 1ms/step - loss: 0.4127 - accuracy: 0.8131 - val_loss: 0.4818 - val_accuracy: 0.8050\n",
      "Epoch 40/50\n",
      "191/191 [==============================] - 0s 1ms/step - loss: 0.4087 - accuracy: 0.8151 - val_loss: 0.4727 - val_accuracy: 0.8089\n",
      "Epoch 41/50\n",
      "191/191 [==============================] - 0s 1ms/step - loss: 0.4040 - accuracy: 0.8228 - val_loss: 0.4941 - val_accuracy: 0.8076\n",
      "Epoch 42/50\n",
      "191/191 [==============================] - 0s 1ms/step - loss: 0.4104 - accuracy: 0.8192 - val_loss: 0.4720 - val_accuracy: 0.8109\n",
      "Epoch 43/50\n",
      "191/191 [==============================] - 0s 1ms/step - loss: 0.4022 - accuracy: 0.8164 - val_loss: 0.4993 - val_accuracy: 0.8050\n",
      "Epoch 44/50\n",
      "191/191 [==============================] - 0s 1ms/step - loss: 0.4002 - accuracy: 0.8225 - val_loss: 0.4820 - val_accuracy: 0.8070\n",
      "Epoch 45/50\n",
      "191/191 [==============================] - 0s 1ms/step - loss: 0.4013 - accuracy: 0.8200 - val_loss: 0.5281 - val_accuracy: 0.7958\n",
      "Epoch 46/50\n",
      "191/191 [==============================] - 0s 1ms/step - loss: 0.3975 - accuracy: 0.8263 - val_loss: 0.4876 - val_accuracy: 0.8142\n",
      "Epoch 47/50\n",
      "191/191 [==============================] - 0s 1ms/step - loss: 0.3947 - accuracy: 0.8223 - val_loss: 0.4998 - val_accuracy: 0.8102\n",
      "Epoch 48/50\n",
      "191/191 [==============================] - 0s 1ms/step - loss: 0.3982 - accuracy: 0.8223 - val_loss: 0.5000 - val_accuracy: 0.8109\n",
      "Epoch 49/50\n",
      "191/191 [==============================] - 0s 1ms/step - loss: 0.3933 - accuracy: 0.8258 - val_loss: 0.5118 - val_accuracy: 0.8050\n",
      "Epoch 50/50\n",
      "191/191 [==============================] - 0s 1ms/step - loss: 0.3933 - accuracy: 0.8210 - val_loss: 0.5461 - val_accuracy: 0.8083\n"
     ]
    },
    {
     "data": {
      "image/png": "[encoded data removed]",
      "text/plain": [
       "<Figure size 864x360 with 2 Axes>"
      ]
     },
     "metadata": {},
     "output_type": "display_data"
    }
   ],
   "source": [
    "def create_model():\n",
    "    model = Sequential()\n",
    "    model.add(Dense(64, input_dim=X_train.shape[1], activation='relu'))\n",
    "    model.add(Dense(64, activation='relu'))\n",
    "    model.add(Dropout(0.25))\n",
    "    model.add(Dense(1, activation='sigmoid'))\n",
    "    model.compile(loss='binary_crossentropy', optimizer='adam', metrics=['accuracy'])\n",
    "    model.summary()\n",
    "    return model\n",
    "\n",
    "model = create_model()\n",
    "history = model.fit(X_train, y_train, epochs=20, shuffle=False, validation_split=0.2)\n",
    "plot_history(history)"
   ]
  },
  {
   "cell_type": "code",
   "execution_count": 10,
   "metadata": {},
   "outputs": [
    {
     "ename": "KeyError",
     "evalue": "\"['target'] not found in axis\"",
     "output_type": "error",
     "traceback": [
      "\u001b[1;31m---------------------------------------------------------------------------\u001b[0m",
      "\u001b[1;31mKeyError\u001b[0m                                  Traceback (most recent call last)",
      "\u001b[1;32m<ipython-input-10-0f0d79409bc1>\u001b[0m in \u001b[0;36m<module>\u001b[1;34m\u001b[0m\n\u001b[1;32m----> 1\u001b[1;33m \u001b[0mtest\u001b[0m \u001b[1;33m=\u001b[0m \u001b[0mfeature_builder\u001b[0m\u001b[1;33m.\u001b[0m\u001b[0mprocess_dataset\u001b[0m\u001b[1;33m(\u001b[0m\u001b[0mtest_df\u001b[0m\u001b[1;33m)\u001b[0m\u001b[1;33m\u001b[0m\u001b[1;33m\u001b[0m\u001b[0m\n\u001b[0m\u001b[0;32m      2\u001b[0m \u001b[0mprediction\u001b[0m \u001b[1;33m=\u001b[0m \u001b[0mmodel\u001b[0m\u001b[1;33m.\u001b[0m\u001b[0mpredict_classes\u001b[0m\u001b[1;33m(\u001b[0m\u001b[0mtest\u001b[0m\u001b[1;33m)\u001b[0m\u001b[1;33m\u001b[0m\u001b[1;33m\u001b[0m\u001b[0m\n\u001b[0;32m      3\u001b[0m \u001b[0mpd\u001b[0m\u001b[1;33m.\u001b[0m\u001b[0mSeries\u001b[0m\u001b[1;33m(\u001b[0m\u001b[1;33m[\u001b[0m\u001b[0mx\u001b[0m\u001b[1;33m[\u001b[0m\u001b[1;36m0\u001b[0m\u001b[1;33m]\u001b[0m \u001b[1;32mfor\u001b[0m \u001b[0mx\u001b[0m \u001b[1;32min\u001b[0m \u001b[0mprediction\u001b[0m\u001b[1;33m]\u001b[0m\u001b[1;33m)\u001b[0m\u001b[1;33m.\u001b[0m\u001b[0mvalue_counts\u001b[0m\u001b[1;33m(\u001b[0m\u001b[1;33m)\u001b[0m\u001b[1;33m\u001b[0m\u001b[1;33m\u001b[0m\u001b[0m\n",
      "\u001b[1;32mD:\\Repositories\\tp2-datos\\feature_builder.py\u001b[0m in \u001b[0;36mprocess_dataset\u001b[1;34m(df)\u001b[0m\n\u001b[0;32m     20\u001b[0m     \u001b[0m_add_length_features\u001b[0m\u001b[1;33m(\u001b[0m\u001b[0mdf2\u001b[0m\u001b[1;33m)\u001b[0m\u001b[1;33m\u001b[0m\u001b[1;33m\u001b[0m\u001b[0m\n\u001b[0;32m     21\u001b[0m \u001b[1;33m\u001b[0m\u001b[0m\n\u001b[1;32m---> 22\u001b[1;33m     \u001b[0mdf2\u001b[0m\u001b[1;33m.\u001b[0m\u001b[0mdrop\u001b[0m\u001b[1;33m(\u001b[0m\u001b[1;33m[\u001b[0m\u001b[1;34m'text'\u001b[0m\u001b[1;33m,\u001b[0m \u001b[1;34m'location'\u001b[0m\u001b[1;33m,\u001b[0m \u001b[1;34m'keyword'\u001b[0m\u001b[1;33m,\u001b[0m \u001b[1;34m'target'\u001b[0m\u001b[1;33m,\u001b[0m \u001b[1;34m'id'\u001b[0m\u001b[1;33m]\u001b[0m\u001b[1;33m,\u001b[0m \u001b[0maxis\u001b[0m\u001b[1;33m=\u001b[0m\u001b[1;36m1\u001b[0m\u001b[1;33m,\u001b[0m \u001b[0minplace\u001b[0m\u001b[1;33m=\u001b[0m\u001b[1;32mTrue\u001b[0m\u001b[1;33m)\u001b[0m\u001b[1;33m\u001b[0m\u001b[1;33m\u001b[0m\u001b[0m\n\u001b[0m\u001b[0;32m     23\u001b[0m     \u001b[1;32mreturn\u001b[0m \u001b[0mdf2\u001b[0m\u001b[1;33m\u001b[0m\u001b[1;33m\u001b[0m\u001b[0m\n\u001b[0;32m     24\u001b[0m \u001b[1;33m\u001b[0m\u001b[0m\n",
      "\u001b[1;32mc:\\users\\maxi\\appdata\\local\\programs\\python\\python37\\lib\\site-packages\\pandas\\core\\frame.py\u001b[0m in \u001b[0;36mdrop\u001b[1;34m(self, labels, axis, index, columns, level, inplace, errors)\u001b[0m\n\u001b[0;32m   3995\u001b[0m             \u001b[0mlevel\u001b[0m\u001b[1;33m=\u001b[0m\u001b[0mlevel\u001b[0m\u001b[1;33m,\u001b[0m\u001b[1;33m\u001b[0m\u001b[1;33m\u001b[0m\u001b[0m\n\u001b[0;32m   3996\u001b[0m             \u001b[0minplace\u001b[0m\u001b[1;33m=\u001b[0m\u001b[0minplace\u001b[0m\u001b[1;33m,\u001b[0m\u001b[1;33m\u001b[0m\u001b[1;33m\u001b[0m\u001b[0m\n\u001b[1;32m-> 3997\u001b[1;33m             \u001b[0merrors\u001b[0m\u001b[1;33m=\u001b[0m\u001b[0merrors\u001b[0m\u001b[1;33m,\u001b[0m\u001b[1;33m\u001b[0m\u001b[1;33m\u001b[0m\u001b[0m\n\u001b[0m\u001b[0;32m   3998\u001b[0m         )\n\u001b[0;32m   3999\u001b[0m \u001b[1;33m\u001b[0m\u001b[0m\n",
      "\u001b[1;32mc:\\users\\maxi\\appdata\\local\\programs\\python\\python37\\lib\\site-packages\\pandas\\core\\generic.py\u001b[0m in \u001b[0;36mdrop\u001b[1;34m(self, labels, axis, index, columns, level, inplace, errors)\u001b[0m\n\u001b[0;32m   3934\u001b[0m         \u001b[1;32mfor\u001b[0m \u001b[0maxis\u001b[0m\u001b[1;33m,\u001b[0m \u001b[0mlabels\u001b[0m \u001b[1;32min\u001b[0m \u001b[0maxes\u001b[0m\u001b[1;33m.\u001b[0m\u001b[0mitems\u001b[0m\u001b[1;33m(\u001b[0m\u001b[1;33m)\u001b[0m\u001b[1;33m:\u001b[0m\u001b[1;33m\u001b[0m\u001b[1;33m\u001b[0m\u001b[0m\n\u001b[0;32m   3935\u001b[0m             \u001b[1;32mif\u001b[0m \u001b[0mlabels\u001b[0m \u001b[1;32mis\u001b[0m \u001b[1;32mnot\u001b[0m \u001b[1;32mNone\u001b[0m\u001b[1;33m:\u001b[0m\u001b[1;33m\u001b[0m\u001b[1;33m\u001b[0m\u001b[0m\n\u001b[1;32m-> 3936\u001b[1;33m                 \u001b[0mobj\u001b[0m \u001b[1;33m=\u001b[0m \u001b[0mobj\u001b[0m\u001b[1;33m.\u001b[0m\u001b[0m_drop_axis\u001b[0m\u001b[1;33m(\u001b[0m\u001b[0mlabels\u001b[0m\u001b[1;33m,\u001b[0m \u001b[0maxis\u001b[0m\u001b[1;33m,\u001b[0m \u001b[0mlevel\u001b[0m\u001b[1;33m=\u001b[0m\u001b[0mlevel\u001b[0m\u001b[1;33m,\u001b[0m \u001b[0merrors\u001b[0m\u001b[1;33m=\u001b[0m\u001b[0merrors\u001b[0m\u001b[1;33m)\u001b[0m\u001b[1;33m\u001b[0m\u001b[1;33m\u001b[0m\u001b[0m\n\u001b[0m\u001b[0;32m   3937\u001b[0m \u001b[1;33m\u001b[0m\u001b[0m\n\u001b[0;32m   3938\u001b[0m         \u001b[1;32mif\u001b[0m \u001b[0minplace\u001b[0m\u001b[1;33m:\u001b[0m\u001b[1;33m\u001b[0m\u001b[1;33m\u001b[0m\u001b[0m\n",
      "\u001b[1;32mc:\\users\\maxi\\appdata\\local\\programs\\python\\python37\\lib\\site-packages\\pandas\\core\\generic.py\u001b[0m in \u001b[0;36m_drop_axis\u001b[1;34m(self, labels, axis, level, errors)\u001b[0m\n\u001b[0;32m   3968\u001b[0m                 \u001b[0mnew_axis\u001b[0m \u001b[1;33m=\u001b[0m \u001b[0maxis\u001b[0m\u001b[1;33m.\u001b[0m\u001b[0mdrop\u001b[0m\u001b[1;33m(\u001b[0m\u001b[0mlabels\u001b[0m\u001b[1;33m,\u001b[0m \u001b[0mlevel\u001b[0m\u001b[1;33m=\u001b[0m\u001b[0mlevel\u001b[0m\u001b[1;33m,\u001b[0m \u001b[0merrors\u001b[0m\u001b[1;33m=\u001b[0m\u001b[0merrors\u001b[0m\u001b[1;33m)\u001b[0m\u001b[1;33m\u001b[0m\u001b[1;33m\u001b[0m\u001b[0m\n\u001b[0;32m   3969\u001b[0m             \u001b[1;32melse\u001b[0m\u001b[1;33m:\u001b[0m\u001b[1;33m\u001b[0m\u001b[1;33m\u001b[0m\u001b[0m\n\u001b[1;32m-> 3970\u001b[1;33m                 \u001b[0mnew_axis\u001b[0m \u001b[1;33m=\u001b[0m \u001b[0maxis\u001b[0m\u001b[1;33m.\u001b[0m\u001b[0mdrop\u001b[0m\u001b[1;33m(\u001b[0m\u001b[0mlabels\u001b[0m\u001b[1;33m,\u001b[0m \u001b[0merrors\u001b[0m\u001b[1;33m=\u001b[0m\u001b[0merrors\u001b[0m\u001b[1;33m)\u001b[0m\u001b[1;33m\u001b[0m\u001b[1;33m\u001b[0m\u001b[0m\n\u001b[0m\u001b[0;32m   3971\u001b[0m             \u001b[0mresult\u001b[0m \u001b[1;33m=\u001b[0m \u001b[0mself\u001b[0m\u001b[1;33m.\u001b[0m\u001b[0mreindex\u001b[0m\u001b[1;33m(\u001b[0m\u001b[1;33m**\u001b[0m\u001b[1;33m{\u001b[0m\u001b[0maxis_name\u001b[0m\u001b[1;33m:\u001b[0m \u001b[0mnew_axis\u001b[0m\u001b[1;33m}\u001b[0m\u001b[1;33m)\u001b[0m\u001b[1;33m\u001b[0m\u001b[1;33m\u001b[0m\u001b[0m\n\u001b[0;32m   3972\u001b[0m \u001b[1;33m\u001b[0m\u001b[0m\n",
      "\u001b[1;32mc:\\users\\maxi\\appdata\\local\\programs\\python\\python37\\lib\\site-packages\\pandas\\core\\indexes\\base.py\u001b[0m in \u001b[0;36mdrop\u001b[1;34m(self, labels, errors)\u001b[0m\n\u001b[0;32m   5016\u001b[0m         \u001b[1;32mif\u001b[0m \u001b[0mmask\u001b[0m\u001b[1;33m.\u001b[0m\u001b[0many\u001b[0m\u001b[1;33m(\u001b[0m\u001b[1;33m)\u001b[0m\u001b[1;33m:\u001b[0m\u001b[1;33m\u001b[0m\u001b[1;33m\u001b[0m\u001b[0m\n\u001b[0;32m   5017\u001b[0m             \u001b[1;32mif\u001b[0m \u001b[0merrors\u001b[0m \u001b[1;33m!=\u001b[0m \u001b[1;34m\"ignore\"\u001b[0m\u001b[1;33m:\u001b[0m\u001b[1;33m\u001b[0m\u001b[1;33m\u001b[0m\u001b[0m\n\u001b[1;32m-> 5018\u001b[1;33m                 \u001b[1;32mraise\u001b[0m \u001b[0mKeyError\u001b[0m\u001b[1;33m(\u001b[0m\u001b[1;34mf\"{labels[mask]} not found in axis\"\u001b[0m\u001b[1;33m)\u001b[0m\u001b[1;33m\u001b[0m\u001b[1;33m\u001b[0m\u001b[0m\n\u001b[0m\u001b[0;32m   5019\u001b[0m             \u001b[0mindexer\u001b[0m \u001b[1;33m=\u001b[0m \u001b[0mindexer\u001b[0m\u001b[1;33m[\u001b[0m\u001b[1;33m~\u001b[0m\u001b[0mmask\u001b[0m\u001b[1;33m]\u001b[0m\u001b[1;33m\u001b[0m\u001b[1;33m\u001b[0m\u001b[0m\n\u001b[0;32m   5020\u001b[0m         \u001b[1;32mreturn\u001b[0m \u001b[0mself\u001b[0m\u001b[1;33m.\u001b[0m\u001b[0mdelete\u001b[0m\u001b[1;33m(\u001b[0m\u001b[0mindexer\u001b[0m\u001b[1;33m)\u001b[0m\u001b[1;33m\u001b[0m\u001b[1;33m\u001b[0m\u001b[0m\n",
      "\u001b[1;31mKeyError\u001b[0m: \"['target'] not found in axis\""
     ]
    }
   ],
   "source": [
    "test = feature_builder.process_dataset(test_df)\n",
    "prediction = model.predict_classes(test)\n",
    "pd.Series([x[0] for x in prediction]).value_counts()"
   ]
  },
  {
   "cell_type": "markdown",
   "metadata": {},
   "source": [
    "Calculemos el test para kaggle"
   ]
  },
  {
   "cell_type": "code",
   "execution_count": 34,
   "metadata": {},
   "outputs": [
    {
     "data": {
      "text/html": [
       "<div>\n",
       "<style scoped>\n",
       "    .dataframe tbody tr th:only-of-type {\n",
       "        vertical-align: middle;\n",
       "    }\n",
       "\n",
       "    .dataframe tbody tr th {\n",
       "        vertical-align: top;\n",
       "    }\n",
       "\n",
       "    .dataframe thead th {\n",
       "        text-align: right;\n",
       "    }\n",
       "</style>\n",
       "<table border=\"1\" class=\"dataframe\">\n",
       "  <thead>\n",
       "    <tr style=\"text-align: right;\">\n",
       "      <th></th>\n",
       "      <th>target</th>\n",
       "    </tr>\n",
       "    <tr>\n",
       "      <th>id</th>\n",
       "      <th></th>\n",
       "    </tr>\n",
       "  </thead>\n",
       "  <tbody>\n",
       "    <tr>\n",
       "      <th>0</th>\n",
       "      <td>0</td>\n",
       "    </tr>\n",
       "    <tr>\n",
       "      <th>2</th>\n",
       "      <td>1</td>\n",
       "    </tr>\n",
       "    <tr>\n",
       "      <th>3</th>\n",
       "      <td>1</td>\n",
       "    </tr>\n",
       "    <tr>\n",
       "      <th>9</th>\n",
       "      <td>1</td>\n",
       "    </tr>\n",
       "    <tr>\n",
       "      <th>11</th>\n",
       "      <td>1</td>\n",
       "    </tr>\n",
       "    <tr>\n",
       "      <th>...</th>\n",
       "      <td>...</td>\n",
       "    </tr>\n",
       "    <tr>\n",
       "      <th>10861</th>\n",
       "      <td>1</td>\n",
       "    </tr>\n",
       "    <tr>\n",
       "      <th>10865</th>\n",
       "      <td>1</td>\n",
       "    </tr>\n",
       "    <tr>\n",
       "      <th>10868</th>\n",
       "      <td>1</td>\n",
       "    </tr>\n",
       "    <tr>\n",
       "      <th>10874</th>\n",
       "      <td>1</td>\n",
       "    </tr>\n",
       "    <tr>\n",
       "      <th>10875</th>\n",
       "      <td>0</td>\n",
       "    </tr>\n",
       "  </tbody>\n",
       "</table>\n",
       "<p>3263 rows × 1 columns</p>\n",
       "</div>"
      ],
      "text/plain": [
       "       target\n",
       "id           \n",
       "0           0\n",
       "2           1\n",
       "3           1\n",
       "9           1\n",
       "11          1\n",
       "...       ...\n",
       "10861       1\n",
       "10865       1\n",
       "10868       1\n",
       "10874       1\n",
       "10875       0\n",
       "\n",
       "[3263 rows x 1 columns]"
      ]
     },
     "execution_count": 34,
     "metadata": {},
     "output_type": "execute_result"
    }
   ],
   "source": [
    "ids = test_df['id']\n",
    "\n",
    "final_test = feature_builder.process_dataset(test_df)\n",
    "prediction = model.predict_classes(final_test)\n",
    "final_df = pd.DataFrame({'target': [x[0] for x in prediction]}, index=ids)\n",
    "final_df"
   ]
  },
  {
   "cell_type": "code",
   "execution_count": 35,
   "metadata": {},
   "outputs": [
    {
     "data": {
      "text/plain": [
       "0    2005\n",
       "1    1258\n",
       "Name: target, dtype: int64"
      ]
     },
     "execution_count": 35,
     "metadata": {},
     "output_type": "execute_result"
    }
   ],
   "source": [
    "final_df['target'].value_counts()"
   ]
  },
  {
   "cell_type": "code",
   "execution_count": 36,
   "metadata": {},
   "outputs": [
    {
     "data": {
      "text/plain": [
       "target    3263\n",
       "dtype: int64"
      ]
     },
     "execution_count": 36,
     "metadata": {},
     "output_type": "execute_result"
    }
   ],
   "source": [
    "final_df.count()"
   ]
  },
  {
   "cell_type": "code",
   "execution_count": 37,
   "metadata": {},
   "outputs": [],
   "source": [
    "final_df.to_csv('nn.csv')"
   ]
  },
  {
   "cell_type": "code",
   "execution_count": null,
   "metadata": {},
   "outputs": [],
   "source": []
  },
  {
   "cell_type": "code",
   "execution_count": null,
   "metadata": {},
   "outputs": [],
   "source": []
  }
 ],
 "metadata": {
  "kernelspec": {
   "display_name": "Python 3",
   "language": "python",
   "name": "python3"
  },
  "language_info": {
   "codemirror_mode": {
    "name": "ipython",
    "version": 3
   },
   "file_extension": ".py",
   "mimetype": "text/x-python",
   "name": "python",
   "nbconvert_exporter": "python",
   "pygments_lexer": "ipython3",
   "version": "3.7.8"
  }
 },
 "nbformat": 4,
 "nbformat_minor": 4
}
