{
 "cells": [
  {
   "cell_type": "code",
   "execution_count": 1,
   "metadata": {},
   "outputs": [],
   "source": [
    "import pandas as pd\n",
    "import numpy as np\n",
    "import keras\n",
    "from keras.models import Sequential\n",
    "from keras.layers import Dense, Conv1D, Flatten, MaxPooling1D, Embedding, GlobalMaxPooling1D, Dropout\n",
    "from sklearn.feature_extraction.text import CountVectorizer, TfidfTransformer\n",
    "from sklearn.model_selection import train_test_split\n",
    "import scipy\n",
    "import tensorflow as tf\n",
    "from keras.preprocessing.text import Tokenizer\n",
    "from keras.preprocessing.sequence import pad_sequences\n",
    "from gensim.models import KeyedVectors\n",
    "from sklearn.model_selection import StratifiedKFold\n",
    "from util import plot_history\n",
    "import feature_builder"
   ]
  },
  {
   "cell_type": "markdown",
   "metadata": {},
   "source": [
    "Cargo datasets"
   ]
  },
  {
   "cell_type": "code",
   "execution_count": 2,
   "metadata": {},
   "outputs": [],
   "source": [
    "train_df = pd.read_csv('train.csv')\n",
    "test_df = pd.read_csv('test.csv')"
   ]
  },
  {
   "cell_type": "markdown",
   "metadata": {},
   "source": [
    "Armo features"
   ]
  },
  {
   "cell_type": "code",
   "execution_count": 3,
   "metadata": {},
   "outputs": [],
   "source": [
    "X_train = feature_builder.process_dataset(train_df)\n",
    "y_train = train_df['target'].values"
   ]
  },
  {
   "cell_type": "code",
   "execution_count": 4,
   "metadata": {},
   "outputs": [
    {
     "data": {
      "text/plain": [
       "Index(['text_embedding_0', 'text_embedding_1', 'text_embedding_2',\n",
       "       'text_embedding_3', 'text_embedding_4', 'text_embedding_5',\n",
       "       'text_embedding_6', 'text_embedding_7', 'text_embedding_8',\n",
       "       'text_embedding_9',\n",
       "       ...\n",
       "       'char_count', 'exclamation_count', 'interrogation_count', 'url_count',\n",
       "       'word_count', 'unique_word_count', 'word_density', 'capitals',\n",
       "       'num_unique_words', 'words_vs_unique'],\n",
       "      dtype='object', length=317)"
      ]
     },
     "execution_count": 4,
     "metadata": {},
     "output_type": "execute_result"
    }
   ],
   "source": [
    "X_train.columns"
   ]
  },
  {
   "cell_type": "code",
   "execution_count": 8,
   "metadata": {},
   "outputs": [
    {
     "name": "stdout",
     "output_type": "stream",
     "text": [
      "Model: \"sequential_1\"\n",
      "_________________________________________________________________\n",
      "Layer (type)                 Output Shape              Param #   \n",
      "=================================================================\n",
      "dense_3 (Dense)              (None, 64)                20352     \n",
      "_________________________________________________________________\n",
      "dense_4 (Dense)              (None, 64)                4160      \n",
      "_________________________________________________________________\n",
      "dropout_1 (Dropout)          (None, 64)                0         \n",
      "_________________________________________________________________\n",
      "dense_5 (Dense)              (None, 1)                 65        \n",
      "=================================================================\n",
      "Total params: 24,577\n",
      "Trainable params: 24,577\n",
      "Non-trainable params: 0\n",
      "_________________________________________________________________\n",
      "Epoch 1/40\n",
      "191/191 [==============================] - 0s 2ms/step - loss: 1.4897 - accuracy: 0.5369 - val_loss: 0.6552 - val_accuracy: 0.6093\n",
      "Epoch 2/40\n",
      "191/191 [==============================] - 0s 1ms/step - loss: 0.9592 - accuracy: 0.5568 - val_loss: 0.6251 - val_accuracy: 0.6796\n",
      "Epoch 3/40\n",
      "191/191 [==============================] - 0s 1ms/step - loss: 0.7772 - accuracy: 0.5864 - val_loss: 0.6128 - val_accuracy: 0.7019\n",
      "Epoch 4/40\n",
      "191/191 [==============================] - 0s 1ms/step - loss: 0.6859 - accuracy: 0.6163 - val_loss: 0.6086 - val_accuracy: 0.7072\n",
      "Epoch 5/40\n",
      "191/191 [==============================] - 0s 1ms/step - loss: 0.6438 - accuracy: 0.6517 - val_loss: 0.5724 - val_accuracy: 0.7400\n",
      "Epoch 6/40\n",
      "191/191 [==============================] - 0s 1ms/step - loss: 0.6138 - accuracy: 0.6747 - val_loss: 0.5572 - val_accuracy: 0.7557\n",
      "Epoch 7/40\n",
      "191/191 [==============================] - 0s 1ms/step - loss: 0.5944 - accuracy: 0.6905 - val_loss: 0.5420 - val_accuracy: 0.7544\n",
      "Epoch 8/40\n",
      "191/191 [==============================] - 0s 1ms/step - loss: 0.5827 - accuracy: 0.7084 - val_loss: 0.5418 - val_accuracy: 0.7748\n",
      "Epoch 9/40\n",
      "191/191 [==============================] - 0s 1ms/step - loss: 0.5690 - accuracy: 0.7246 - val_loss: 0.5359 - val_accuracy: 0.7623\n",
      "Epoch 10/40\n",
      "191/191 [==============================] - 0s 1ms/step - loss: 0.5575 - accuracy: 0.7261 - val_loss: 0.5114 - val_accuracy: 0.7722\n",
      "Epoch 11/40\n",
      "191/191 [==============================] - 0s 1ms/step - loss: 0.5533 - accuracy: 0.7330 - val_loss: 0.5126 - val_accuracy: 0.7794\n",
      "Epoch 12/40\n",
      "191/191 [==============================] - 0s 1ms/step - loss: 0.5404 - accuracy: 0.7404 - val_loss: 0.5012 - val_accuracy: 0.7800\n",
      "Epoch 13/40\n",
      "191/191 [==============================] - 0s 1ms/step - loss: 0.5377 - accuracy: 0.7409 - val_loss: 0.5603 - val_accuracy: 0.7190\n",
      "Epoch 14/40\n",
      "191/191 [==============================] - 0s 1ms/step - loss: 0.5286 - accuracy: 0.7586 - val_loss: 0.4862 - val_accuracy: 0.7794\n",
      "Epoch 15/40\n",
      "191/191 [==============================] - 0s 1ms/step - loss: 0.5210 - accuracy: 0.7552 - val_loss: 0.4888 - val_accuracy: 0.7879\n",
      "Epoch 16/40\n",
      "191/191 [==============================] - 0s 1ms/step - loss: 0.5094 - accuracy: 0.7654 - val_loss: 0.4834 - val_accuracy: 0.7873\n",
      "Epoch 17/40\n",
      "191/191 [==============================] - 0s 1ms/step - loss: 0.5105 - accuracy: 0.7635 - val_loss: 0.4806 - val_accuracy: 0.7899\n",
      "Epoch 18/40\n",
      "191/191 [==============================] - 0s 1ms/step - loss: 0.5023 - accuracy: 0.7645 - val_loss: 0.4698 - val_accuracy: 0.7899\n",
      "Epoch 19/40\n",
      "191/191 [==============================] - 0s 1ms/step - loss: 0.4982 - accuracy: 0.7744 - val_loss: 0.4638 - val_accuracy: 0.7938\n",
      "Epoch 20/40\n",
      "191/191 [==============================] - 0s 1ms/step - loss: 0.4974 - accuracy: 0.7724 - val_loss: 0.4698 - val_accuracy: 0.7951\n",
      "Epoch 21/40\n",
      "191/191 [==============================] - 0s 1ms/step - loss: 0.4872 - accuracy: 0.7833 - val_loss: 0.4610 - val_accuracy: 0.7958\n",
      "Epoch 22/40\n",
      "191/191 [==============================] - 0s 1ms/step - loss: 0.4926 - accuracy: 0.7755 - val_loss: 0.4572 - val_accuracy: 0.7978\n",
      "Epoch 23/40\n",
      "191/191 [==============================] - 0s 1ms/step - loss: 0.4839 - accuracy: 0.7796 - val_loss: 0.4645 - val_accuracy: 0.7919\n",
      "Epoch 24/40\n",
      "191/191 [==============================] - 0s 1ms/step - loss: 0.4820 - accuracy: 0.7862 - val_loss: 0.4511 - val_accuracy: 0.7991\n",
      "Epoch 25/40\n",
      "191/191 [==============================] - 0s 1ms/step - loss: 0.4732 - accuracy: 0.7900 - val_loss: 0.4486 - val_accuracy: 0.7997\n",
      "Epoch 26/40\n",
      "191/191 [==============================] - 0s 1ms/step - loss: 0.4742 - accuracy: 0.7864 - val_loss: 0.4548 - val_accuracy: 0.7925\n",
      "Epoch 27/40\n",
      "191/191 [==============================] - 0s 1ms/step - loss: 0.4720 - accuracy: 0.7867 - val_loss: 0.4436 - val_accuracy: 0.8017\n",
      "Epoch 28/40\n",
      "191/191 [==============================] - 0s 1ms/step - loss: 0.4678 - accuracy: 0.7888 - val_loss: 0.4693 - val_accuracy: 0.7919\n",
      "Epoch 29/40\n",
      "191/191 [==============================] - 0s 1ms/step - loss: 0.4659 - accuracy: 0.7923 - val_loss: 0.4636 - val_accuracy: 0.7905\n",
      "Epoch 30/40\n",
      "191/191 [==============================] - 0s 1ms/step - loss: 0.4618 - accuracy: 0.7995 - val_loss: 0.4387 - val_accuracy: 0.7951\n",
      "Epoch 31/40\n",
      "191/191 [==============================] - 0s 1ms/step - loss: 0.4616 - accuracy: 0.7951 - val_loss: 0.4397 - val_accuracy: 0.8011\n",
      "Epoch 32/40\n",
      "191/191 [==============================] - 0s 1ms/step - loss: 0.4653 - accuracy: 0.7920 - val_loss: 0.4379 - val_accuracy: 0.8024\n",
      "Epoch 33/40\n",
      "191/191 [==============================] - 0s 1ms/step - loss: 0.4581 - accuracy: 0.8020 - val_loss: 0.4376 - val_accuracy: 0.8030\n",
      "Epoch 34/40\n",
      "191/191 [==============================] - 0s 1ms/step - loss: 0.4553 - accuracy: 0.8000 - val_loss: 0.4339 - val_accuracy: 0.8017\n",
      "Epoch 35/40\n",
      "191/191 [==============================] - 0s 1ms/step - loss: 0.4576 - accuracy: 0.7967 - val_loss: 0.4349 - val_accuracy: 0.8024\n",
      "Epoch 36/40\n",
      "191/191 [==============================] - 0s 1ms/step - loss: 0.4525 - accuracy: 0.8013 - val_loss: 0.4429 - val_accuracy: 0.8050\n",
      "Epoch 37/40\n",
      "191/191 [==============================] - 0s 1ms/step - loss: 0.4474 - accuracy: 0.8030 - val_loss: 0.4336 - val_accuracy: 0.8070\n",
      "Epoch 38/40\n",
      "191/191 [==============================] - 0s 1ms/step - loss: 0.4512 - accuracy: 0.8008 - val_loss: 0.4297 - val_accuracy: 0.8076\n",
      "Epoch 39/40\n",
      "191/191 [==============================] - 0s 1ms/step - loss: 0.4441 - accuracy: 0.8048 - val_loss: 0.4349 - val_accuracy: 0.8083\n",
      "Epoch 40/40\n",
      "191/191 [==============================] - 0s 1ms/step - loss: 0.4480 - accuracy: 0.8036 - val_loss: 0.4316 - val_accuracy: 0.8050\n"
     ]
    },
    {
     "data": {
      "image/png": "[encoded data removed]",
      "text/plain": [
       "<Figure size 864x360 with 2 Axes>"
      ]
     },
     "metadata": {},
     "output_type": "display_data"
    }
   ],
   "source": [
    "def create_model():\n",
    "    model = Sequential()\n",
    "    model.add(Dense(64, input_dim=X_train.shape[1], activation='relu'))\n",
    "    model.add(Dense(64, activation='relu'))\n",
    "    model.add(Dropout(0.25))\n",
    "    model.add(Dense(1, activation='sigmoid'))\n",
    "    model.compile(loss='binary_crossentropy', optimizer=keras.optimizers.Adam(1e-4), metrics=['accuracy'])\n",
    "    model.summary()\n",
    "    return model\n",
    "\n",
    "model = create_model()\n",
    "history = model.fit(X_train, y_train, epochs=40, shuffle=True, validation_split=0.2)\n",
    "plot_history(history)"
   ]
  },
  {
   "cell_type": "code",
   "execution_count": 6,
   "metadata": {},
   "outputs": [
    {
     "name": "stdout",
     "output_type": "stream",
     "text": [
      "WARNING:tensorflow:From <ipython-input-6-0f0d79409bc1>:2: Sequential.predict_classes (from tensorflow.python.keras.engine.sequential) is deprecated and will be removed after 2021-01-01.\n",
      "Instructions for updating:\n",
      "Please use instead:* `np.argmax(model.predict(x), axis=-1)`,   if your model does multi-class classification   (e.g. if it uses a `softmax` last-layer activation).* `(model.predict(x) > 0.5).astype(\"int32\")`,   if your model does binary classification   (e.g. if it uses a `sigmoid` last-layer activation).\n"
     ]
    },
    {
     "data": {
      "text/plain": [
       "0    1686\n",
       "1    1577\n",
       "dtype: int64"
      ]
     },
     "execution_count": 6,
     "metadata": {},
     "output_type": "execute_result"
    }
   ],
   "source": [
    "test = feature_builder.process_dataset(test_df)\n",
    "prediction = model.predict_classes(test)\n",
    "pd.Series([x[0] for x in prediction]).value_counts()"
   ]
  },
  {
   "cell_type": "markdown",
   "metadata": {},
   "source": [
    "Calculemos el test para kaggle"
   ]
  },
  {
   "cell_type": "code",
   "execution_count": 7,
   "metadata": {},
   "outputs": [
    {
     "data": {
      "text/html": [
       "<div>\n",
       "<style scoped>\n",
       "    .dataframe tbody tr th:only-of-type {\n",
       "        vertical-align: middle;\n",
       "    }\n",
       "\n",
       "    .dataframe tbody tr th {\n",
       "        vertical-align: top;\n",
       "    }\n",
       "\n",
       "    .dataframe thead th {\n",
       "        text-align: right;\n",
       "    }\n",
       "</style>\n",
       "<table border=\"1\" class=\"dataframe\">\n",
       "  <thead>\n",
       "    <tr style=\"text-align: right;\">\n",
       "      <th></th>\n",
       "      <th>target</th>\n",
       "    </tr>\n",
       "    <tr>\n",
       "      <th>id</th>\n",
       "      <th></th>\n",
       "    </tr>\n",
       "  </thead>\n",
       "  <tbody>\n",
       "    <tr>\n",
       "      <th>0</th>\n",
       "      <td>1</td>\n",
       "    </tr>\n",
       "    <tr>\n",
       "      <th>2</th>\n",
       "      <td>1</td>\n",
       "    </tr>\n",
       "    <tr>\n",
       "      <th>3</th>\n",
       "      <td>1</td>\n",
       "    </tr>\n",
       "    <tr>\n",
       "      <th>9</th>\n",
       "      <td>1</td>\n",
       "    </tr>\n",
       "    <tr>\n",
       "      <th>11</th>\n",
       "      <td>1</td>\n",
       "    </tr>\n",
       "    <tr>\n",
       "      <th>...</th>\n",
       "      <td>...</td>\n",
       "    </tr>\n",
       "    <tr>\n",
       "      <th>10861</th>\n",
       "      <td>0</td>\n",
       "    </tr>\n",
       "    <tr>\n",
       "      <th>10865</th>\n",
       "      <td>1</td>\n",
       "    </tr>\n",
       "    <tr>\n",
       "      <th>10868</th>\n",
       "      <td>1</td>\n",
       "    </tr>\n",
       "    <tr>\n",
       "      <th>10874</th>\n",
       "      <td>1</td>\n",
       "    </tr>\n",
       "    <tr>\n",
       "      <th>10875</th>\n",
       "      <td>1</td>\n",
       "    </tr>\n",
       "  </tbody>\n",
       "</table>\n",
       "<p>3263 rows × 1 columns</p>\n",
       "</div>"
      ],
      "text/plain": [
       "       target\n",
       "id           \n",
       "0           1\n",
       "2           1\n",
       "3           1\n",
       "9           1\n",
       "11          1\n",
       "...       ...\n",
       "10861       0\n",
       "10865       1\n",
       "10868       1\n",
       "10874       1\n",
       "10875       1\n",
       "\n",
       "[3263 rows x 1 columns]"
      ]
     },
     "execution_count": 7,
     "metadata": {},
     "output_type": "execute_result"
    }
   ],
   "source": [
    "ids = test_df['id']\n",
    "\n",
    "final_test = feature_builder.process_dataset(test_df)\n",
    "prediction = model.predict_classes(final_test)\n",
    "final_df = pd.DataFrame({'target': [x[0] for x in prediction]}, index=ids)\n",
    "final_df"
   ]
  },
  {
   "cell_type": "code",
   "execution_count": 35,
   "metadata": {},
   "outputs": [
    {
     "data": {
      "text/plain": [
       "0    2005\n",
       "1    1258\n",
       "Name: target, dtype: int64"
      ]
     },
     "execution_count": 35,
     "metadata": {},
     "output_type": "execute_result"
    }
   ],
   "source": [
    "final_df['target'].value_counts()"
   ]
  },
  {
   "cell_type": "code",
   "execution_count": 36,
   "metadata": {},
   "outputs": [
    {
     "data": {
      "text/plain": [
       "target    3263\n",
       "dtype: int64"
      ]
     },
     "execution_count": 36,
     "metadata": {},
     "output_type": "execute_result"
    }
   ],
   "source": [
    "final_df.count()"
   ]
  },
  {
   "cell_type": "code",
   "execution_count": 37,
   "metadata": {},
   "outputs": [],
   "source": [
    "final_df.to_csv('nn.csv')"
   ]
  },
  {
   "cell_type": "code",
   "execution_count": null,
   "metadata": {},
   "outputs": [],
   "source": []
  },
  {
   "cell_type": "code",
   "execution_count": null,
   "metadata": {},
   "outputs": [],
   "source": []
  }
 ],
 "metadata": {
  "kernelspec": {
   "display_name": "Python 3",
   "language": "python",
   "name": "python3"
  },
  "language_info": {
   "codemirror_mode": {
    "name": "ipython",
    "version": 3
   },
   "file_extension": ".py",
   "mimetype": "text/x-python",
   "name": "python",
   "nbconvert_exporter": "python",
   "pygments_lexer": "ipython3",
   "version": "3.7.6"
  }
 },
 "nbformat": 4,
 "nbformat_minor": 4
}
