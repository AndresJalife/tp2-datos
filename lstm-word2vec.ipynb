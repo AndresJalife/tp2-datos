{
 "cells": [
  {
   "cell_type": "code",
   "execution_count": 1,
   "metadata": {},
   "outputs": [],
   "source": [
    "import pandas as pd\n",
    "import numpy as np\n",
    "import tensorflow as tf\n",
    "import seaborn as sns\n",
    "import matplotlib.pyplot as plt\n",
    "from sklearn.preprocessing import LabelEncoder\n",
    "from keras.preprocessing import sequence\n",
    "from tensorflow import keras\n",
    "from tensorflow.keras import layers\n",
    "from gensim.models import KeyedVectors\n",
    "from keras.preprocessing.text import Tokenizer\n",
    "from keras.models import Sequential\n",
    "from keras.layers import Dense, Conv1D, Flatten, MaxPooling1D, Embedding, GlobalMaxPooling1D, Dropout, LSTM,Input,Activation\n",
    "from sklearn.model_selection import train_test_split\n",
    "from sklearn.metrics import accuracy_score\n",
    "import nltk\n",
    "from sklearn.metrics import f1_score\n",
    "import feature_builder\n",
    "embeddings = None"
   ]
  },
  {
   "cell_type": "markdown",
   "metadata": {},
   "source": [
    "Spliteo para obtener vectores de train y test"
   ]
  },
  {
   "cell_type": "code",
   "execution_count": 2,
   "metadata": {},
   "outputs": [],
   "source": [
    "train_df = pd.read_csv('train.csv')\n",
    "test_df = pd.read_csv('test.csv')\n",
    "Y = train_df['target'].values"
   ]
  },
  {
   "cell_type": "code",
   "execution_count": 3,
   "metadata": {},
   "outputs": [],
   "source": [
    "def prepare_for_cnn(df):\n",
    "    processed = feature_builder.process_dataset(df,encoding_type='binary_encoding')\n",
    "    return (processed, processed.to_numpy().reshape(processed.shape[0], 1, processed.shape[1]))"
   ]
  },
  {
   "cell_type": "code",
   "execution_count": 4,
   "metadata": {},
   "outputs": [
    {
     "name": "stdout",
     "output_type": "stream",
     "text": [
      "Percentage of words covered in the embeddings = 0.6336399642263958\n"
     ]
    }
   ],
   "source": [
    "processed, X_processed = prepare_for_cnn(train_df)"
   ]
  },
  {
   "cell_type": "code",
   "execution_count": 9,
   "metadata": {},
   "outputs": [],
   "source": [
    "X_train, X_test, y_train, y_test = train_test_split(X_processed,Y,test_size = 0.33,random_state = 17)"
   ]
  },
  {
   "cell_type": "code",
   "execution_count": 10,
   "metadata": {},
   "outputs": [],
   "source": [
    "def RNN():\n",
    "    model = Sequential([\n",
    "    tf.keras.layers.Bidirectional(tf.keras.layers.LSTM(64),input_shape=(X_train.shape[1], X_train.shape[2])),\n",
    "    tf.keras.layers.Dense(64, activation='relu'),\n",
    "    tf.keras.layers.Dense(1)])\n",
    "    return model"
   ]
  },
  {
   "cell_type": "code",
   "execution_count": 11,
   "metadata": {},
   "outputs": [
    {
     "name": "stdout",
     "output_type": "stream",
     "text": [
      "Model: \"sequential\"\n",
      "_________________________________________________________________\n",
      "Layer (type)                 Output Shape              Param #   \n",
      "=================================================================\n",
      "bidirectional (Bidirectional (None, 128)               203776    \n",
      "_________________________________________________________________\n",
      "dense (Dense)                (None, 64)                8256      \n",
      "_________________________________________________________________\n",
      "dense_1 (Dense)              (None, 1)                 65        \n",
      "=================================================================\n",
      "Total params: 212,097\n",
      "Trainable params: 212,097\n",
      "Non-trainable params: 0\n",
      "_________________________________________________________________\n"
     ]
    }
   ],
   "source": [
    "model = RNN()\n",
    "model.summary()\n",
    "model.compile(loss=keras.losses.BinaryCrossentropy(from_logits=True),\n",
    "              optimizer=keras.optimizers.Adam(1e-4),\n",
    "              metrics=['accuracy'])"
   ]
  },
  {
   "cell_type": "code",
   "execution_count": null,
   "metadata": {},
   "outputs": [
    {
     "name": "stdout",
     "output_type": "stream",
     "text": [
      "Epoch 1/100\n",
      "128/128 [==============================] - 2s 12ms/step - loss: 0.6654 - accuracy: 0.5809 - val_loss: 0.6689 - val_accuracy: 0.5265\n",
      "Epoch 2/100\n",
      "128/128 [==============================] - 1s 8ms/step - loss: 0.6366 - accuracy: 0.5809 - val_loss: 0.6547 - val_accuracy: 0.5265\n",
      "Epoch 3/100\n",
      "128/128 [==============================] - 1s 6ms/step - loss: 0.6183 - accuracy: 0.5860 - val_loss: 0.6427 - val_accuracy: 0.5412\n",
      "Epoch 4/100\n",
      "128/128 [==============================] - 1s 6ms/step - loss: 0.6020 - accuracy: 0.6029 - val_loss: 0.6298 - val_accuracy: 0.5657\n",
      "Epoch 5/100\n",
      "128/128 [==============================] - 1s 7ms/step - loss: 0.5853 - accuracy: 0.6350 - val_loss: 0.6217 - val_accuracy: 0.5745\n",
      "Epoch 6/100\n",
      "128/128 [==============================] - 1s 8ms/step - loss: 0.5685 - accuracy: 0.6608 - val_loss: 0.6035 - val_accuracy: 0.6275\n",
      "Epoch 7/100\n",
      "128/128 [==============================] - 1s 7ms/step - loss: 0.5479 - accuracy: 0.6966 - val_loss: 0.5897 - val_accuracy: 0.6343\n",
      "Epoch 8/100\n",
      "128/128 [==============================] - 1s 8ms/step - loss: 0.5298 - accuracy: 0.7152 - val_loss: 0.5731 - val_accuracy: 0.6686\n",
      "Epoch 9/100\n",
      "128/128 [==============================] - 1s 7ms/step - loss: 0.5137 - accuracy: 0.7373 - val_loss: 0.5602 - val_accuracy: 0.6941\n",
      "Epoch 10/100\n",
      "128/128 [==============================] - 1s 10ms/step - loss: 0.5006 - accuracy: 0.7478 - val_loss: 0.5558 - val_accuracy: 0.6775\n",
      "Epoch 11/100\n",
      "128/128 [==============================] - 1s 10ms/step - loss: 0.4877 - accuracy: 0.7554 - val_loss: 0.5436 - val_accuracy: 0.6941\n",
      "Epoch 12/100\n",
      "128/128 [==============================] - 1s 9ms/step - loss: 0.4749 - accuracy: 0.7645 - val_loss: 0.5404 - val_accuracy: 0.6980\n",
      "Epoch 13/100\n",
      "128/128 [==============================] - 1s 10ms/step - loss: 0.4666 - accuracy: 0.7740 - val_loss: 0.5258 - val_accuracy: 0.7353\n",
      "Epoch 14/100\n",
      "128/128 [==============================] - 1s 11ms/step - loss: 0.4593 - accuracy: 0.7777 - val_loss: 0.5223 - val_accuracy: 0.7412\n",
      "Epoch 15/100\n",
      "128/128 [==============================] - 1s 9ms/step - loss: 0.4504 - accuracy: 0.7821 - val_loss: 0.5208 - val_accuracy: 0.7373\n",
      "Epoch 16/100\n",
      "128/128 [==============================] - 1s 7ms/step - loss: 0.4437 - accuracy: 0.7882 - val_loss: 0.5243 - val_accuracy: 0.7284\n",
      "Epoch 17/100\n",
      "128/128 [==============================] - 1s 9ms/step - loss: 0.4345 - accuracy: 0.7966 - val_loss: 0.5125 - val_accuracy: 0.7471\n",
      "Epoch 18/100\n",
      "128/128 [==============================] - 1s 9ms/step - loss: 0.4282 - accuracy: 0.7975 - val_loss: 0.5168 - val_accuracy: 0.7461\n",
      "Epoch 19/100\n",
      "128/128 [==============================] - 1s 9ms/step - loss: 0.4217 - accuracy: 0.8047 - val_loss: 0.5112 - val_accuracy: 0.7569\n",
      "Epoch 20/100\n",
      "128/128 [==============================] - 1s 8ms/step - loss: 0.4175 - accuracy: 0.8037 - val_loss: 0.5074 - val_accuracy: 0.7598\n",
      "Epoch 21/100\n",
      "128/128 [==============================] - 1s 9ms/step - loss: 0.4120 - accuracy: 0.8123 - val_loss: 0.5080 - val_accuracy: 0.7676\n",
      "Epoch 22/100\n",
      "128/128 [==============================] - 1s 8ms/step - loss: 0.4076 - accuracy: 0.8137 - val_loss: 0.5150 - val_accuracy: 0.7490\n",
      "Epoch 23/100\n",
      "128/128 [==============================] - 1s 8ms/step - loss: 0.4027 - accuracy: 0.8147 - val_loss: 0.5058 - val_accuracy: 0.7676\n",
      "Epoch 24/100\n",
      "128/128 [==============================] - 1s 8ms/step - loss: 0.3991 - accuracy: 0.8150 - val_loss: 0.5060 - val_accuracy: 0.7667\n",
      "Epoch 25/100\n",
      "128/128 [==============================] - 1s 9ms/step - loss: 0.3952 - accuracy: 0.8189 - val_loss: 0.5136 - val_accuracy: 0.7461\n",
      "Epoch 26/100\n",
      "128/128 [==============================] - 1s 10ms/step - loss: 0.3926 - accuracy: 0.8179 - val_loss: 0.5093 - val_accuracy: 0.7657\n",
      "Epoch 27/100\n",
      "128/128 [==============================] - 1s 8ms/step - loss: 0.3861 - accuracy: 0.8243 - val_loss: 0.5088 - val_accuracy: 0.7608\n",
      "Epoch 28/100\n",
      "128/128 [==============================] - 1s 8ms/step - loss: 0.3836 - accuracy: 0.8260 - val_loss: 0.5221 - val_accuracy: 0.7539\n",
      "Epoch 29/100\n",
      "128/128 [==============================] - 1s 8ms/step - loss: 0.3803 - accuracy: 0.8260 - val_loss: 0.5114 - val_accuracy: 0.7706\n",
      "Epoch 30/100\n",
      "128/128 [==============================] - 1s 9ms/step - loss: 0.3772 - accuracy: 0.8289 - val_loss: 0.5127 - val_accuracy: 0.7647\n",
      "Epoch 31/100\n",
      "128/128 [==============================] - 1s 9ms/step - loss: 0.3732 - accuracy: 0.8324 - val_loss: 0.5360 - val_accuracy: 0.7480\n",
      "Epoch 32/100\n",
      "128/128 [==============================] - 1s 8ms/step - loss: 0.3731 - accuracy: 0.8260 - val_loss: 0.5174 - val_accuracy: 0.7627\n",
      "Epoch 33/100\n",
      "128/128 [==============================] - 1s 9ms/step - loss: 0.3684 - accuracy: 0.8316 - val_loss: 0.5110 - val_accuracy: 0.7716\n",
      "Epoch 34/100\n",
      "128/128 [==============================] - 1s 9ms/step - loss: 0.3650 - accuracy: 0.8373 - val_loss: 0.5160 - val_accuracy: 0.7618\n",
      "Epoch 35/100\n",
      "128/128 [==============================] - 1s 9ms/step - loss: 0.3623 - accuracy: 0.8370 - val_loss: 0.5161 - val_accuracy: 0.7735\n",
      "Epoch 36/100\n",
      "128/128 [==============================] - 1s 9ms/step - loss: 0.3605 - accuracy: 0.8375 - val_loss: 0.5201 - val_accuracy: 0.7647\n",
      "Epoch 37/100\n",
      "128/128 [==============================] - 1s 9ms/step - loss: 0.3583 - accuracy: 0.8363 - val_loss: 0.5166 - val_accuracy: 0.7824\n",
      "Epoch 38/100\n",
      "128/128 [==============================] - 2s 13ms/step - loss: 0.3522 - accuracy: 0.8417 - val_loss: 0.5397 - val_accuracy: 0.7539\n",
      "Epoch 39/100\n",
      "128/128 [==============================] - 2s 13ms/step - loss: 0.3514 - accuracy: 0.8436 - val_loss: 0.5226 - val_accuracy: 0.7657\n",
      "Epoch 40/100\n",
      "128/128 [==============================] - 1s 10ms/step - loss: 0.3484 - accuracy: 0.8446 - val_loss: 0.5174 - val_accuracy: 0.7765\n",
      "Epoch 41/100\n",
      "128/128 [==============================] - 1s 9ms/step - loss: 0.3462 - accuracy: 0.8466 - val_loss: 0.5194 - val_accuracy: 0.7794\n",
      "Epoch 42/100\n",
      "128/128 [==============================] - 1s 10ms/step - loss: 0.3455 - accuracy: 0.8468 - val_loss: 0.5331 - val_accuracy: 0.7667\n",
      "Epoch 43/100\n",
      "128/128 [==============================] - 1s 9ms/step - loss: 0.3423 - accuracy: 0.8441 - val_loss: 0.5278 - val_accuracy: 0.7794\n",
      "Epoch 44/100\n",
      "128/128 [==============================] - 1s 9ms/step - loss: 0.3390 - accuracy: 0.8488 - val_loss: 0.5337 - val_accuracy: 0.7608\n",
      "Epoch 45/100\n",
      "128/128 [==============================] - 1s 11ms/step - loss: 0.3342 - accuracy: 0.8515 - val_loss: 0.5657 - val_accuracy: 0.7490\n",
      "Epoch 46/100\n",
      "128/128 [==============================] - 1s 12ms/step - loss: 0.3345 - accuracy: 0.8502 - val_loss: 0.5361 - val_accuracy: 0.7725\n",
      "Epoch 47/100\n",
      "128/128 [==============================] - 2s 12ms/step - loss: 0.3317 - accuracy: 0.8498 - val_loss: 0.5254 - val_accuracy: 0.7794\n",
      "Epoch 48/100\n",
      "128/128 [==============================] - 1s 11ms/step - loss: 0.3267 - accuracy: 0.8539 - val_loss: 0.5473 - val_accuracy: 0.7588\n",
      "Epoch 49/100\n",
      "128/128 [==============================] - 1s 9ms/step - loss: 0.3293 - accuracy: 0.8566 - val_loss: 0.5589 - val_accuracy: 0.7510\n",
      "Epoch 50/100\n",
      "128/128 [==============================] - 1s 8ms/step - loss: 0.3243 - accuracy: 0.8537 - val_loss: 0.5330 - val_accuracy: 0.7784\n",
      "Epoch 51/100\n",
      "128/128 [==============================] - 1s 8ms/step - loss: 0.3210 - accuracy: 0.8588 - val_loss: 0.5320 - val_accuracy: 0.7824\n",
      "Epoch 52/100\n",
      "128/128 [==============================] - 1s 9ms/step - loss: 0.3196 - accuracy: 0.8603 - val_loss: 0.5276 - val_accuracy: 0.7814\n",
      "Epoch 53/100\n",
      "128/128 [==============================] - 1s 8ms/step - loss: 0.3176 - accuracy: 0.8600 - val_loss: 0.5310 - val_accuracy: 0.7873\n",
      "Epoch 54/100\n",
      "128/128 [==============================] - 1s 9ms/step - loss: 0.3150 - accuracy: 0.8642 - val_loss: 0.5444 - val_accuracy: 0.7824\n",
      "Epoch 55/100\n",
      "128/128 [==============================] - 1s 8ms/step - loss: 0.3123 - accuracy: 0.8640 - val_loss: 0.5331 - val_accuracy: 0.7824\n",
      "Epoch 56/100\n",
      "128/128 [==============================] - 1s 9ms/step - loss: 0.3101 - accuracy: 0.8669 - val_loss: 0.5435 - val_accuracy: 0.7775\n",
      "Epoch 57/100\n",
      "128/128 [==============================] - 1s 10ms/step - loss: 0.3082 - accuracy: 0.8657 - val_loss: 0.5367 - val_accuracy: 0.7784\n"
     ]
    },
    {
     "name": "stdout",
     "output_type": "stream",
     "text": [
      "Epoch 58/100\n",
      "128/128 [==============================] - 1s 7ms/step - loss: 0.3060 - accuracy: 0.8659 - val_loss: 0.5461 - val_accuracy: 0.7755\n",
      "Epoch 59/100\n",
      "128/128 [==============================] - 1s 6ms/step - loss: 0.3039 - accuracy: 0.8667 - val_loss: 0.5541 - val_accuracy: 0.7686\n",
      "Epoch 60/100\n",
      "128/128 [==============================] - 1s 8ms/step - loss: 0.3022 - accuracy: 0.8686 - val_loss: 0.5483 - val_accuracy: 0.7814\n",
      "Epoch 61/100\n",
      "128/128 [==============================] - 1s 7ms/step - loss: 0.2989 - accuracy: 0.8684 - val_loss: 0.5821 - val_accuracy: 0.7578\n",
      "Epoch 62/100\n",
      "128/128 [==============================] - 1s 8ms/step - loss: 0.2994 - accuracy: 0.8669 - val_loss: 0.5408 - val_accuracy: 0.7833\n",
      "Epoch 63/100\n",
      "128/128 [==============================] - 1s 8ms/step - loss: 0.2919 - accuracy: 0.8721 - val_loss: 0.5575 - val_accuracy: 0.7824\n",
      "Epoch 64/100\n",
      "128/128 [==============================] - 1s 9ms/step - loss: 0.2913 - accuracy: 0.8711 - val_loss: 0.5527 - val_accuracy: 0.7784\n",
      "Epoch 65/100\n",
      "128/128 [==============================] - 1s 7ms/step - loss: 0.2894 - accuracy: 0.8733 - val_loss: 0.5472 - val_accuracy: 0.7794\n",
      "Epoch 66/100\n",
      "128/128 [==============================] - 1s 9ms/step - loss: 0.2877 - accuracy: 0.8750 - val_loss: 0.5488 - val_accuracy: 0.7765\n",
      "Epoch 67/100\n",
      "128/128 [==============================] - 1s 11ms/step - loss: 0.2893 - accuracy: 0.8738 - val_loss: 0.5538 - val_accuracy: 0.7833\n",
      "Epoch 68/100\n",
      "128/128 [==============================] - 1s 10ms/step - loss: 0.2821 - accuracy: 0.8760 - val_loss: 0.5621 - val_accuracy: 0.7794\n",
      "Epoch 69/100\n",
      "128/128 [==============================] - 1s 10ms/step - loss: 0.2832 - accuracy: 0.8762 - val_loss: 0.5636 - val_accuracy: 0.7755\n",
      "Epoch 70/100\n",
      "128/128 [==============================] - 1s 10ms/step - loss: 0.2792 - accuracy: 0.8816 - val_loss: 0.5595 - val_accuracy: 0.7725\n",
      "Epoch 71/100\n",
      "128/128 [==============================] - 1s 10ms/step - loss: 0.2767 - accuracy: 0.8789 - val_loss: 0.5517 - val_accuracy: 0.7833\n",
      "Epoch 72/100\n",
      "128/128 [==============================] - 1s 9ms/step - loss: 0.2733 - accuracy: 0.8821 - val_loss: 0.5645 - val_accuracy: 0.7863\n",
      "Epoch 73/100\n",
      "128/128 [==============================] - 1s 9ms/step - loss: 0.2738 - accuracy: 0.8797 - val_loss: 0.5594 - val_accuracy: 0.7892\n",
      "Epoch 74/100\n",
      " 16/128 [==>...........................] - ETA: 1s - loss: 0.2657 - accuracy: 0.8770"
     ]
    }
   ],
   "source": [
    "history = model.fit(X_train, y_train, epochs=100, shuffle=True, validation_split=0.2)"
   ]
  },
  {
   "cell_type": "code",
   "execution_count": 11,
   "metadata": {},
   "outputs": [
    {
     "name": "stdout",
     "output_type": "stream",
     "text": [
      "WARNING:tensorflow:From <ipython-input-11-22d9b303c4cd>:1: Sequential.predict_classes (from tensorflow.python.keras.engine.sequential) is deprecated and will be removed after 2021-01-01.\n",
      "Instructions for updating:\n",
      "Please use instead:* `np.argmax(model.predict(x), axis=-1)`,   if your model does multi-class classification   (e.g. if it uses a `softmax` last-layer activation).* `(model.predict(x) > 0.5).astype(\"int32\")`,   if your model does binary classification   (e.g. if it uses a `sigmoid` last-layer activation).\n"
     ]
    }
   ],
   "source": [
    "prediction = model.predict_classes(X_test)"
   ]
  },
  {
   "cell_type": "code",
   "execution_count": 12,
   "metadata": {},
   "outputs": [
    {
     "data": {
      "text/plain": [
       "0.7974532431356944"
      ]
     },
     "execution_count": 12,
     "metadata": {},
     "output_type": "execute_result"
    }
   ],
   "source": [
    "accuracy_score(y_test, prediction)"
   ]
  },
  {
   "cell_type": "code",
   "execution_count": 13,
   "metadata": {},
   "outputs": [
    {
     "data": {
      "text/plain": [
       "0.7430590610802625"
      ]
     },
     "execution_count": 13,
     "metadata": {},
     "output_type": "execute_result"
    }
   ],
   "source": [
    "f1_score(y_test, prediction)"
   ]
  }
 ],
 "metadata": {
  "kernelspec": {
   "display_name": "Python 3",
   "language": "python",
   "name": "python3"
  },
  "language_info": {
   "codemirror_mode": {
    "name": "ipython",
    "version": 3
   },
   "file_extension": ".py",
   "mimetype": "text/x-python",
   "name": "python",
   "nbconvert_exporter": "python",
   "pygments_lexer": "ipython3",
   "version": "3.7.7"
  }
 },
 "nbformat": 4,
 "nbformat_minor": 4
}
