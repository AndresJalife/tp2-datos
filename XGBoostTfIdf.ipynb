{
 "cells": [
  {
   "cell_type": "code",
   "execution_count": 1,
   "metadata": {},
   "outputs": [],
   "source": [
    "import pandas as pd\n",
    "from xgboost import XGBClassifier\n",
    "from sklearn.model_selection import train_test_split\n",
    "from sklearn.metrics import accuracy_score\n",
    "from sklearn.metrics import f1_score\n",
    "from sklearn.feature_extraction.text import TfidfVectorizer\n",
    "from sklearn.model_selection import StratifiedKFold\n",
    "from sklearn.model_selection import RandomizedSearchCV, GridSearchCV\n",
    "from datetime import datetime\n"
   ]
  },
  {
   "cell_type": "code",
   "execution_count": 2,
   "metadata": {},
   "outputs": [],
   "source": [
    "train = pd.read_csv('train.csv')"
   ]
  },
  {
   "cell_type": "code",
   "execution_count": 3,
   "metadata": {},
   "outputs": [],
   "source": [
    "#Parametros a usar de manera aleatoria\n",
    "params = {\n",
    "\n",
    "        'learning_rate': [ 0.05, 0.1, 0.2],\n",
    "        'subsample': [0.6, 0.8, 1.0],\n",
    "        'colsample_bytree': [0.6, 0.8, 1.0],\n",
    "        'max_depth': [3, 4, 5],\n",
    "        'n_estimators': [200 ,400 ,600, 800, 1000]\n",
    "    }\n",
    "\n",
    "#Solo sirve para calcular el tiempo que lleva el random search\n",
    "def timer(start_time=None):\n",
    "    if not start_time:\n",
    "        start_time = datetime.now()\n",
    "        return start_time\n",
    "    elif start_time:\n",
    "        thour, temp_sec = divmod((datetime.now() - start_time).total_seconds(), 3600)\n",
    "        tmin, tsec = divmod(temp_sec, 60)\n",
    "        print('\\n Time taken: %i hours %i minutes and %s seconds.' % (thour, tmin, round(tsec, 2)))"
   ]
  },
  {
   "cell_type": "code",
   "execution_count": 4,
   "metadata": {},
   "outputs": [],
   "source": [
    "def random_search_func(x, y):\n",
    "\n",
    "    folds = 5\n",
    "    param_comb = 40   #Tarda 30 mins. en usar 40 combinaciones\n",
    "    skf = StratifiedKFold(n_splits=folds, shuffle = True, random_state = 1001)\n",
    "    \n",
    "    xgb = XGBClassifier(objective='binary:logistic',\n",
    "                    silent=True, nthread=1)\n",
    "\n",
    "    random_search = RandomizedSearchCV(xgb, param_distributions=params, n_iter=param_comb, scoring='f1', n_jobs=4, cv=skf.split(x,y), verbose=3, random_state=1001 )\n",
    "\n",
    "    \n",
    "    start_time = timer(None) \n",
    "    random_search.fit(x, y)\n",
    "    timer(start_time)   \n",
    "\n",
    "    print('\\n Mejor f1 score con %d-folds y %d combinaciones de parametros:' % (folds, param_comb))\n",
    "    print(random_search.best_score_)\n",
    "    print('\\n Best hyperparameters:')\n",
    "    print(random_search.best_params_)"
   ]
  },
  {
   "cell_type": "code",
   "execution_count": 5,
   "metadata": {},
   "outputs": [],
   "source": [
    "x_train=train[['id','keyword','location','text']]\n",
    "\n",
    "y_train=train[['id','target']]\n",
    "\n",
    "#x_train['link']=x_train['text'].str.contains(\"http:\")\n",
    "#x_train['link'] = x_train['link'].astype(int)\n",
    "#x_train['len'] = x_train['text'].transform(lambda x : len(x))\n",
    "\n",
    "v = TfidfVectorizer(stop_words = 'english', analyzer = 'word')\n",
    "x_tfidf = v.fit_transform(x_train['text'])\n",
    "\n",
    "\n",
    "xtrain, xvalid, ytrain, yvalid=train_test_split(x_tfidf,y_train,test_size=0.1,random_state=1)"
   ]
  },
  {
   "cell_type": "code",
   "execution_count": null,
   "metadata": {},
   "outputs": [],
   "source": [
    "random_search_func(xtrain,ytrain['target'])"
   ]
  },
  {
   "cell_type": "code",
   "execution_count": 6,
   "metadata": {},
   "outputs": [],
   "source": [
    "clf = XGBClassifier(max_depth=5, n_estimators=800, colsample_bytree=1,\n",
    "                        subsample=1, nthread=10, learning_rate=0.2)\n",
    "\n",
    "xgb_train=clf.fit(xtrain, ytrain['target'])\n",
    "\n",
    "prediction = clf.predict(xvalid)"
   ]
  },
  {
   "cell_type": "code",
   "execution_count": 7,
   "metadata": {},
   "outputs": [
    {
     "data": {
      "text/plain": [
       "0.7821522309711286"
      ]
     },
     "execution_count": 7,
     "metadata": {},
     "output_type": "execute_result"
    }
   ],
   "source": [
    "accuracy_score(yvalid['target'], prediction)"
   ]
  },
  {
   "cell_type": "code",
   "execution_count": 8,
   "metadata": {},
   "outputs": [
    {
     "data": {
      "text/plain": [
       "0.7186440677966102"
      ]
     },
     "execution_count": 8,
     "metadata": {},
     "output_type": "execute_result"
    }
   ],
   "source": [
    "f1_score(prediction, yvalid['target'])"
   ]
  },
  {
   "cell_type": "code",
   "execution_count": null,
   "metadata": {},
   "outputs": [],
   "source": []
  }
 ],
 "metadata": {
  "kernelspec": {
   "display_name": "Python 3",
   "language": "python",
   "name": "python3"
  },
  "language_info": {
   "codemirror_mode": {
    "name": "ipython",
    "version": 3
   },
   "file_extension": ".py",
   "mimetype": "text/x-python",
   "name": "python",
   "nbconvert_exporter": "python",
   "pygments_lexer": "ipython3",
   "version": "3.7.6"
  }
 },
 "nbformat": 4,
 "nbformat_minor": 4
}
