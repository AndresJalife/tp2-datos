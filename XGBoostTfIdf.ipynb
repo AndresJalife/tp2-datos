{
 "cells": [
  {
   "cell_type": "code",
   "execution_count": 1,
   "metadata": {},
   "outputs": [],
   "source": [
    "import pandas as pd\n",
    "from xgboost import XGBClassifier\n",
    "from sklearn.model_selection import train_test_split\n",
    "from sklearn.metrics import accuracy_score\n",
    "from sklearn.metrics import f1_score\n",
    "from sklearn.feature_extraction.text import TfidfVectorizer\n",
    "from hyperparameter_tuning import random_search\n",
    "from feature_builder import process_dataset\n",
    "import nltk"
   ]
  },
  {
   "cell_type": "code",
   "execution_count": 2,
   "metadata": {},
   "outputs": [],
   "source": [
    "x_train = pd.read_csv('train.csv')\n",
    "y_train=x_train[['id','target']]"
   ]
  },
  {
   "cell_type": "code",
   "execution_count": 4,
   "metadata": {},
   "outputs": [],
   "source": [
    "#Parametros a usar de manera aleatoria\n",
    "params = {\n",
    "\n",
    "        'learning_rate': [ 0.05, 0.1, 0.15, 0.2, 0.25],\n",
    "        'subsample': [0.7, 0.8, 0.9,  1.0],\n",
    "        'colsample_bytree': [0.7, 0.8, 0.9,  1.0],\n",
    "        'max_depth': [3, 4, 5, 6],\n",
    "        'n_estimators': [ 600, 800, 900, 1000, 1100, 1200, 1300]\n",
    "    }"
   ]
  },
  {
   "cell_type": "markdown",
   "metadata": {},
   "source": [
    "Utilizo unicamente los features de feature_builder"
   ]
  },
  {
   "cell_type": "code",
   "execution_count": 5,
   "metadata": {},
   "outputs": [],
   "source": [
    "x_train_features = process_dataset(x_train)"
   ]
  },
  {
   "cell_type": "code",
   "execution_count": 6,
   "metadata": {},
   "outputs": [],
   "source": [
    "x_train_feat, x_test_feat, y_train_feat, y_test_feat = train_test_split(x_train_features, y_train, test_size = .33, random_state = 17)"
   ]
  },
  {
   "cell_type": "code",
   "execution_count": 7,
   "metadata": {},
   "outputs": [],
   "source": [
    "xgb = XGBClassifier(objective='binary:logistic',\n",
    "                    silent=True)"
   ]
  },
  {
   "cell_type": "code",
   "execution_count": 8,
   "metadata": {},
   "outputs": [
    {
     "name": "stdout",
     "output_type": "stream",
     "text": [
      "Fitting 5 folds for each of 220 candidates, totalling 1100 fits\n"
     ]
    },
    {
     "name": "stderr",
     "output_type": "stream",
     "text": [
      "[Parallel(n_jobs=4)]: Using backend LokyBackend with 4 concurrent workers.\n",
      "[Parallel(n_jobs=4)]: Done  24 tasks      | elapsed:  8.8min\n",
      "[Parallel(n_jobs=4)]: Done 120 tasks      | elapsed: 41.3min\n",
      "[Parallel(n_jobs=4)]: Done 280 tasks      | elapsed: 96.4min\n",
      "[Parallel(n_jobs=4)]: Done 504 tasks      | elapsed: 171.6min\n",
      "[Parallel(n_jobs=4)]: Done 792 tasks      | elapsed: 272.6min\n",
      "[Parallel(n_jobs=4)]: Done 1100 out of 1100 | elapsed: 368.3min finished\n"
     ]
    },
    {
     "name": "stdout",
     "output_type": "stream",
     "text": [
      "[08:00:56] WARNING: C:\\Users\\Administrator\\workspace\\xgboost-win64_release_1.1.0\\src\\learner.cc:480: \n",
      "Parameters: { silent } might not be used.\n",
      "\n",
      "  This may not be accurate due to some parameters are only used in language bindings but\n",
      "  passed down to XGBoost core.  Or some parameters are not used but slip through this\n",
      "  verification. Please open an issue if you find above cases.\n",
      "\n",
      "\n",
      "\n",
      " Time taken: 6 hours 8 minutes and 32.2 seconds.\n",
      "\n",
      " Best f1 score with 5-folds and 220 combinations of hyperparameters:\n",
      "0.7665666582437686\n",
      "\n",
      " Best hyperparameters:\n",
      "{'subsample': 0.9, 'n_estimators': 600, 'max_depth': 3, 'learning_rate': 0.05, 'colsample_bytree': 0.9}\n"
     ]
    }
   ],
   "source": [
    "random_search(x_train_feat,y_train_feat['target'],xgb,params)"
   ]
  },
  {
   "cell_type": "code",
   "execution_count": 9,
   "metadata": {},
   "outputs": [
    {
     "data": {
      "text/plain": [
       "XGBClassifier(base_score=0.5, booster='gbtree', colsample_bylevel=1,\n",
       "              colsample_bynode=1, colsample_bytree=0.9, gamma=0, gpu_id=-1,\n",
       "              importance_type='gain', interaction_constraints='',\n",
       "              learning_rate=0.05, max_delta_step=0, max_depth=3,\n",
       "              min_child_weight=1, missing=nan, monotone_constraints='()',\n",
       "              n_estimators=600, n_jobs=4, nthread=4, num_parallel_tree=1,\n",
       "              random_state=0, reg_alpha=0, reg_lambda=1, scale_pos_weight=1,\n",
       "              subsample=0.9, tree_method='exact', validate_parameters=1,\n",
       "              verbosity=None)"
      ]
     },
     "execution_count": 9,
     "metadata": {},
     "output_type": "execute_result"
    }
   ],
   "source": [
    "xgbooster = XGBClassifier(max_depth=3, n_estimators=600, colsample_bytree=0.9,\n",
    "                        subsample=0.9, nthread=4, learning_rate=0.05)\n",
    "\n",
    "\n",
    "xgbooster.fit(x_train_feat, y_train_feat['target'])"
   ]
  },
  {
   "cell_type": "code",
   "execution_count": 10,
   "metadata": {},
   "outputs": [
    {
     "data": {
      "text/plain": [
       "0.8209311579785118"
      ]
     },
     "execution_count": 10,
     "metadata": {},
     "output_type": "execute_result"
    }
   ],
   "source": [
    "predictions_features = xgbooster.predict(x_test_feat)\n",
    "accuracy_score(y_test_feat['target'], predictions_features)"
   ]
  },
  {
   "cell_type": "code",
   "execution_count": 11,
   "metadata": {},
   "outputs": [
    {
     "data": {
      "text/plain": [
       "0.7791952894995092"
      ]
     },
     "execution_count": 11,
     "metadata": {},
     "output_type": "execute_result"
    }
   ],
   "source": [
    "f1_score(y_test_feat['target'], predictions_features)"
   ]
  },
  {
   "cell_type": "code",
   "execution_count": null,
   "metadata": {},
   "outputs": [],
   "source": []
  }
 ],
 "metadata": {
  "kernelspec": {
   "display_name": "Python 3",
   "language": "python",
   "name": "python3"
  },
  "language_info": {
   "codemirror_mode": {
    "name": "ipython",
    "version": 3
   },
   "file_extension": ".py",
   "mimetype": "text/x-python",
   "name": "python",
   "nbconvert_exporter": "python",
   "pygments_lexer": "ipython3",
   "version": "3.8.4"
  }
 },
 "nbformat": 4,
 "nbformat_minor": 4
}
