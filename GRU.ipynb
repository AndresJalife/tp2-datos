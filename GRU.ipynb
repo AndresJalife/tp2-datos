{
 "cells": [
  {
   "cell_type": "code",
   "execution_count": 20,
   "metadata": {},
   "outputs": [],
   "source": [
    "import pandas as pd\n",
    "import numpy as np\n",
    "import tensorflow as tf\n",
    "import seaborn as sns\n",
    "import matplotlib.pyplot as plt\n",
    "from sklearn.preprocessing import LabelEncoder\n",
    "from keras.preprocessing import sequence\n",
    "from tensorflow import keras\n",
    "from tensorflow.keras import layers\n",
    "from gensim.models import KeyedVectors\n",
    "from keras.preprocessing.text import Tokenizer\n",
    "from keras.models import Sequential\n",
    "from keras.layers import Dense, Conv1D, Flatten, MaxPooling1D, Embedding, GlobalMaxPooling1D, Dropout, LSTM,Input,Activation\n",
    "from sklearn.model_selection import train_test_split\n",
    "from sklearn.metrics import accuracy_score\n",
    "import nltk\n",
    "from sklearn.metrics import f1_score\n",
    "import feature_builder\n",
    "import util\n",
    "embeddings = None"
   ]
  },
  {
   "cell_type": "code",
   "execution_count": 3,
   "metadata": {},
   "outputs": [],
   "source": [
    "train_df = pd.read_csv('train.csv')\n",
    "test_df = pd.read_csv('test.csv')\n",
    "Y = train_df['target'].values"
   ]
  },
  {
   "cell_type": "code",
   "execution_count": 4,
   "metadata": {},
   "outputs": [],
   "source": [
    "def prepare_for_cnn(df):\n",
    "    processed = feature_builder.process_dataset(df)\n",
    "    return (processed, processed.to_numpy().reshape(processed.shape[0], 1, processed.shape[1]))"
   ]
  },
  {
   "cell_type": "code",
   "execution_count": 5,
   "metadata": {},
   "outputs": [
    {
     "name": "stdout",
     "output_type": "stream",
     "text": [
      "Percentage of words covered in the embeddings = 0.4937444933920705\n"
     ]
    }
   ],
   "source": [
    "processed, X_processed = prepare_for_cnn(train_df)"
   ]
  },
  {
   "cell_type": "code",
   "execution_count": 11,
   "metadata": {},
   "outputs": [],
   "source": [
    "X_train, X_test, y_train, y_test = train_test_split(X_processed,Y,test_size = 0.33,random_state = 17)"
   ]
  },
  {
   "cell_type": "code",
   "execution_count": 14,
   "metadata": {},
   "outputs": [],
   "source": [
    "def RNN():\n",
    "    model = Sequential([\n",
    "    tf.keras.layers.Bidirectional(tf.keras.layers.GRU(64),input_shape=(X_train.shape[1], X_train.shape[2])),\n",
    "    tf.keras.layers.Dense(32, activation='relu'),\n",
    "    tf.keras.layers.Dropout(0.5),\n",
    "    tf.keras.layers.Dense(1)])\n",
    "    return model"
   ]
  },
  {
   "cell_type": "code",
   "execution_count": 15,
   "metadata": {},
   "outputs": [
    {
     "name": "stdout",
     "output_type": "stream",
     "text": [
      "Model: \"sequential_3\"\n",
      "_________________________________________________________________\n",
      "Layer (type)                 Output Shape              Param #   \n",
      "=================================================================\n",
      "bidirectional_2 (Bidirection (None, 128)               153216    \n",
      "_________________________________________________________________\n",
      "dense_6 (Dense)              (None, 32)                4128      \n",
      "_________________________________________________________________\n",
      "dropout (Dropout)            (None, 32)                0         \n",
      "_________________________________________________________________\n",
      "dense_7 (Dense)              (None, 1)                 33        \n",
      "=================================================================\n",
      "Total params: 157,377\n",
      "Trainable params: 157,377\n",
      "Non-trainable params: 0\n",
      "_________________________________________________________________\n"
     ]
    }
   ],
   "source": [
    "model = RNN()\n",
    "model.summary()\n",
    "model.compile(loss=keras.losses.BinaryCrossentropy(from_logits=True),\n",
    "              optimizer=keras.optimizers.Adam(1e-4),\n",
    "              metrics=['accuracy'])"
   ]
  },
  {
   "cell_type": "code",
   "execution_count": 21,
   "metadata": {},
   "outputs": [
    {
     "name": "stdout",
     "output_type": "stream",
     "text": [
      "Epoch 1/50\n",
      "160/160 [==============================] - 2s 14ms/step - loss: 0.4012 - accuracy: 0.8227\n",
      "Epoch 2/50\n",
      "160/160 [==============================] - 2s 10ms/step - loss: 0.4011 - accuracy: 0.8251\n",
      "Epoch 3/50\n",
      "160/160 [==============================] - 2s 11ms/step - loss: 0.3988 - accuracy: 0.8255\n",
      "Epoch 4/50\n",
      "160/160 [==============================] - 1s 7ms/step - loss: 0.3977 - accuracy: 0.8265\n",
      "Epoch 5/50\n",
      "160/160 [==============================] - 1s 7ms/step - loss: 0.3961 - accuracy: 0.8271\n",
      "Epoch 6/50\n",
      "160/160 [==============================] - 2s 11ms/step - loss: 0.3934 - accuracy: 0.8322\n",
      "Epoch 7/50\n",
      "160/160 [==============================] - 2s 13ms/step - loss: 0.3894 - accuracy: 0.8286\n",
      "Epoch 8/50\n",
      "160/160 [==============================] - 2s 14ms/step - loss: 0.3918 - accuracy: 0.8322\n",
      "Epoch 9/50\n",
      "160/160 [==============================] - 1s 6ms/step - loss: 0.3918 - accuracy: 0.8276\n",
      "Epoch 10/50\n",
      "160/160 [==============================] - 1s 6ms/step - loss: 0.3873 - accuracy: 0.8286\n",
      "Epoch 11/50\n",
      "160/160 [==============================] - 1s 5ms/step - loss: 0.3879 - accuracy: 0.8320\n",
      "Epoch 12/50\n",
      "160/160 [==============================] - 1s 4ms/step - loss: 0.3881 - accuracy: 0.8302\n",
      "Epoch 13/50\n",
      "160/160 [==============================] - 1s 4ms/step - loss: 0.3845 - accuracy: 0.8343\n",
      "Epoch 14/50\n",
      "160/160 [==============================] - 1s 5ms/step - loss: 0.3828 - accuracy: 0.8367\n",
      "Epoch 15/50\n",
      "160/160 [==============================] - 1s 4ms/step - loss: 0.3824 - accuracy: 0.8351\n",
      "Epoch 16/50\n",
      "160/160 [==============================] - 1s 5ms/step - loss: 0.3797 - accuracy: 0.8363\n",
      "Epoch 17/50\n",
      "160/160 [==============================] - 1s 5ms/step - loss: 0.3802 - accuracy: 0.8394\n",
      "Epoch 18/50\n",
      "160/160 [==============================] - 1s 5ms/step - loss: 0.3806 - accuracy: 0.8373\n",
      "Epoch 19/50\n",
      "160/160 [==============================] - 1s 4ms/step - loss: 0.3816 - accuracy: 0.8380\n",
      "Epoch 20/50\n",
      "160/160 [==============================] - 1s 4ms/step - loss: 0.3792 - accuracy: 0.8378\n",
      "Epoch 21/50\n",
      "160/160 [==============================] - 1s 4ms/step - loss: 0.3745 - accuracy: 0.8437\n",
      "Epoch 22/50\n",
      "160/160 [==============================] - 1s 4ms/step - loss: 0.3760 - accuracy: 0.8398\n",
      "Epoch 23/50\n",
      "160/160 [==============================] - 1s 4ms/step - loss: 0.3760 - accuracy: 0.8404\n",
      "Epoch 24/50\n",
      "160/160 [==============================] - 1s 4ms/step - loss: 0.3712 - accuracy: 0.8433\n",
      "Epoch 25/50\n",
      "160/160 [==============================] - 1s 5ms/step - loss: 0.3707 - accuracy: 0.8402\n",
      "Epoch 26/50\n",
      "160/160 [==============================] - 1s 6ms/step - loss: 0.3699 - accuracy: 0.8369\n",
      "Epoch 27/50\n",
      "160/160 [==============================] - 1s 6ms/step - loss: 0.3714 - accuracy: 0.8443\n",
      "Epoch 28/50\n",
      "160/160 [==============================] - 1s 6ms/step - loss: 0.3696 - accuracy: 0.8445\n",
      "Epoch 29/50\n",
      "160/160 [==============================] - 1s 5ms/step - loss: 0.3665 - accuracy: 0.8443\n",
      "Epoch 30/50\n",
      "160/160 [==============================] - 1s 6ms/step - loss: 0.3727 - accuracy: 0.8433\n",
      "Epoch 31/50\n",
      "160/160 [==============================] - 1s 6ms/step - loss: 0.3604 - accuracy: 0.8453\n",
      "Epoch 32/50\n",
      "160/160 [==============================] - 1s 6ms/step - loss: 0.3630 - accuracy: 0.8447\n",
      "Epoch 33/50\n",
      "160/160 [==============================] - 1s 6ms/step - loss: 0.3617 - accuracy: 0.8455\n",
      "Epoch 34/50\n",
      "160/160 [==============================] - 1s 6ms/step - loss: 0.3578 - accuracy: 0.8514\n",
      "Epoch 35/50\n",
      "160/160 [==============================] - 1s 6ms/step - loss: 0.3578 - accuracy: 0.8480\n",
      "Epoch 36/50\n",
      "160/160 [==============================] - 1s 6ms/step - loss: 0.3562 - accuracy: 0.8461\n",
      "Epoch 37/50\n",
      "160/160 [==============================] - 1s 6ms/step - loss: 0.3580 - accuracy: 0.8455\n",
      "Epoch 38/50\n",
      "160/160 [==============================] - 1s 4ms/step - loss: 0.3538 - accuracy: 0.8500\n",
      "Epoch 39/50\n",
      "160/160 [==============================] - 1s 4ms/step - loss: 0.3574 - accuracy: 0.8510\n",
      "Epoch 40/50\n",
      "160/160 [==============================] - 1s 4ms/step - loss: 0.3530 - accuracy: 0.8510\n",
      "Epoch 41/50\n",
      "160/160 [==============================] - 1s 7ms/step - loss: 0.3504 - accuracy: 0.8516\n",
      "Epoch 42/50\n",
      "160/160 [==============================] - 2s 15ms/step - loss: 0.3547 - accuracy: 0.8449\n",
      "Epoch 43/50\n",
      "160/160 [==============================] - 2s 13ms/step - loss: 0.3513 - accuracy: 0.8533\n",
      "Epoch 44/50\n",
      "160/160 [==============================] - 3s 17ms/step - loss: 0.3471 - accuracy: 0.8498\n",
      "Epoch 45/50\n",
      "160/160 [==============================] - 2s 10ms/step - loss: 0.3520 - accuracy: 0.8506\n",
      "Epoch 46/50\n",
      "160/160 [==============================] - 1s 9ms/step - loss: 0.3469 - accuracy: 0.8533\n",
      "Epoch 47/50\n",
      "160/160 [==============================] - 2s 12ms/step - loss: 0.3479 - accuracy: 0.8539\n",
      "Epoch 48/50\n",
      "160/160 [==============================] - 2s 13ms/step - loss: 0.3488 - accuracy: 0.8512\n",
      "Epoch 49/50\n",
      "160/160 [==============================] - 1s 5ms/step - loss: 0.3481 - accuracy: 0.8529\n",
      "Epoch 50/50\n",
      "160/160 [==============================] - 2s 10ms/step - loss: 0.3430 - accuracy: 0.8502\n"
     ]
    },
    {
     "ename": "KeyError",
     "evalue": "'val_accuracy'",
     "output_type": "error",
     "traceback": [
      "\u001b[0;31m---------------------------------------------------------------------------\u001b[0m",
      "\u001b[0;31mKeyError\u001b[0m                                  Traceback (most recent call last)",
      "\u001b[0;32m<ipython-input-21-3ed6efa144ea>\u001b[0m in \u001b[0;36m<module>\u001b[0;34m\u001b[0m\n\u001b[1;32m      1\u001b[0m \u001b[0mhistory\u001b[0m \u001b[0;34m=\u001b[0m \u001b[0mmodel\u001b[0m\u001b[0;34m.\u001b[0m\u001b[0mfit\u001b[0m\u001b[0;34m(\u001b[0m\u001b[0mX_train\u001b[0m\u001b[0;34m,\u001b[0m \u001b[0my_train\u001b[0m\u001b[0;34m,\u001b[0m \u001b[0mepochs\u001b[0m\u001b[0;34m=\u001b[0m\u001b[0;36m50\u001b[0m\u001b[0;34m,\u001b[0m \u001b[0mshuffle\u001b[0m\u001b[0;34m=\u001b[0m\u001b[0;32mFalse\u001b[0m\u001b[0;34m,\u001b[0m \u001b[0mvalidation_split\u001b[0m\u001b[0;34m=\u001b[0m\u001b[0;36m0.0\u001b[0m\u001b[0;34m)\u001b[0m\u001b[0;34m\u001b[0m\u001b[0;34m\u001b[0m\u001b[0m\n\u001b[0;32m----> 2\u001b[0;31m \u001b[0mutil\u001b[0m\u001b[0;34m.\u001b[0m\u001b[0mplot_history\u001b[0m\u001b[0;34m(\u001b[0m\u001b[0mhistory\u001b[0m\u001b[0;34m)\u001b[0m\u001b[0;34m\u001b[0m\u001b[0;34m\u001b[0m\u001b[0m\n\u001b[0m",
      "\u001b[0;32m~/Datos7506/tp2-datos/util.py\u001b[0m in \u001b[0;36mplot_history\u001b[0;34m(history)\u001b[0m\n\u001b[1;32m      4\u001b[0m \u001b[0;32mdef\u001b[0m \u001b[0mplot_history\u001b[0m\u001b[0;34m(\u001b[0m\u001b[0mhistory\u001b[0m\u001b[0;34m)\u001b[0m\u001b[0;34m:\u001b[0m\u001b[0;34m\u001b[0m\u001b[0;34m\u001b[0m\u001b[0m\n\u001b[1;32m      5\u001b[0m     \u001b[0macc\u001b[0m \u001b[0;34m=\u001b[0m \u001b[0mhistory\u001b[0m\u001b[0;34m.\u001b[0m\u001b[0mhistory\u001b[0m\u001b[0;34m[\u001b[0m\u001b[0;34m'accuracy'\u001b[0m\u001b[0;34m]\u001b[0m\u001b[0;34m\u001b[0m\u001b[0;34m\u001b[0m\u001b[0m\n\u001b[0;32m----> 6\u001b[0;31m     \u001b[0mval_acc\u001b[0m \u001b[0;34m=\u001b[0m \u001b[0mhistory\u001b[0m\u001b[0;34m.\u001b[0m\u001b[0mhistory\u001b[0m\u001b[0;34m[\u001b[0m\u001b[0;34m'val_accuracy'\u001b[0m\u001b[0;34m]\u001b[0m\u001b[0;34m\u001b[0m\u001b[0;34m\u001b[0m\u001b[0m\n\u001b[0m\u001b[1;32m      7\u001b[0m     \u001b[0mloss\u001b[0m \u001b[0;34m=\u001b[0m \u001b[0mhistory\u001b[0m\u001b[0;34m.\u001b[0m\u001b[0mhistory\u001b[0m\u001b[0;34m[\u001b[0m\u001b[0;34m'loss'\u001b[0m\u001b[0;34m]\u001b[0m\u001b[0;34m\u001b[0m\u001b[0;34m\u001b[0m\u001b[0m\n\u001b[1;32m      8\u001b[0m     \u001b[0mval_loss\u001b[0m \u001b[0;34m=\u001b[0m \u001b[0mhistory\u001b[0m\u001b[0;34m.\u001b[0m\u001b[0mhistory\u001b[0m\u001b[0;34m[\u001b[0m\u001b[0;34m'val_loss'\u001b[0m\u001b[0;34m]\u001b[0m\u001b[0;34m\u001b[0m\u001b[0;34m\u001b[0m\u001b[0m\n",
      "\u001b[0;31mKeyError\u001b[0m: 'val_accuracy'"
     ]
    }
   ],
   "source": [
    "history = model.fit(X_train, y_train, epochs=50, shuffle=False, validation_split=0.0)\n",
    "util.plot_history(history)"
   ]
  },
  {
   "cell_type": "code",
   "execution_count": 22,
   "metadata": {},
   "outputs": [],
   "source": [
    "prediction = model.predict_classes(X_test)"
   ]
  },
  {
   "cell_type": "code",
   "execution_count": 23,
   "metadata": {},
   "outputs": [
    {
     "data": {
      "text/plain": [
       "0.8121766812574612"
      ]
     },
     "execution_count": 23,
     "metadata": {},
     "output_type": "execute_result"
    }
   ],
   "source": [
    "accuracy_score(y_test, prediction)"
   ]
  },
  {
   "cell_type": "code",
   "execution_count": 24,
   "metadata": {},
   "outputs": [
    {
     "data": {
      "text/plain": [
       "0.742639040348964"
      ]
     },
     "execution_count": 24,
     "metadata": {},
     "output_type": "execute_result"
    }
   ],
   "source": [
    "f1_score(y_test, prediction)"
   ]
  }
 ],
 "metadata": {
  "kernelspec": {
   "display_name": "Python 3",
   "language": "python",
   "name": "python3"
  },
  "language_info": {
   "codemirror_mode": {
    "name": "ipython",
    "version": 3
   },
   "file_extension": ".py",
   "mimetype": "text/x-python",
   "name": "python",
   "nbconvert_exporter": "python",
   "pygments_lexer": "ipython3",
   "version": "3.7.7"
  }
 },
 "nbformat": 4,
 "nbformat_minor": 4
}
