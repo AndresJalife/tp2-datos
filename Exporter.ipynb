{
 "cells": [
  {
   "cell_type": "code",
   "execution_count": 1,
   "metadata": {},
   "outputs": [],
   "source": [
    "import pandas as pd\n",
    "import numpy as np"
   ]
  },
  {
   "cell_type": "code",
   "execution_count": 2,
   "metadata": {},
   "outputs": [],
   "source": [
    "def export_model_csv(model, x_train, x_test, y, export_name):\n",
    "    \n",
    "    model.fit(x_train,y)\n",
    "    \n",
    "    y_pred = model.predict(x_test)\n",
    "    \n",
    "    ids = test_dataset['id']\n",
    "    final_df = pd.DataFrame({'target': [x for x in y_pred]}, index=ids)\n",
    "    \n",
    "    final_df.to_csv(export_name + '.csv')"
   ]
  }
 ],
 "metadata": {
  "kernelspec": {
   "display_name": "Python 3",
   "language": "python",
   "name": "python3"
  },
  "language_info": {
   "codemirror_mode": {
    "name": "ipython",
    "version": 3
   },
   "file_extension": ".py",
   "mimetype": "text/x-python",
   "name": "python",
   "nbconvert_exporter": "python",
   "pygments_lexer": "ipython3",
   "version": "3.7.6"
  }
 },
 "nbformat": 4,
 "nbformat_minor": 4
}
